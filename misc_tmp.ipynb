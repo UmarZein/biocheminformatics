{
 "cells": [
  {
   "cell_type": "code",
   "execution_count": 5,
   "metadata": {
    "colab": {
     "base_uri": "https://localhost:8080/"
    },
    "id": "8Rp_kH7vhbuy",
    "outputId": "9b5ed9e4-e0dc-4b92-bf3e-99d5821d59a9"
   },
   "outputs": [
    {
     "data": {
      "text/html": [
       "<div>\n",
       "<style scoped>\n",
       "    .dataframe tbody tr th:only-of-type {\n",
       "        vertical-align: middle;\n",
       "    }\n",
       "\n",
       "    .dataframe tbody tr th {\n",
       "        vertical-align: top;\n",
       "    }\n",
       "\n",
       "    .dataframe thead th {\n",
       "        text-align: right;\n",
       "    }\n",
       "</style>\n",
       "<table border=\"1\" class=\"dataframe\">\n",
       "  <thead>\n",
       "    <tr style=\"text-align: right;\">\n",
       "      <th></th>\n",
       "      <th>id</th>\n",
       "      <th>age</th>\n",
       "      <th>gender</th>\n",
       "      <th>income</th>\n",
       "      <th>spending_score</th>\n",
       "      <th>membership_years</th>\n",
       "      <th>purchase_frequency</th>\n",
       "      <th>preferred_category</th>\n",
       "      <th>last_purchase_amount</th>\n",
       "    </tr>\n",
       "  </thead>\n",
       "  <tbody>\n",
       "    <tr>\n",
       "      <th>0</th>\n",
       "      <td>1</td>\n",
       "      <td>38</td>\n",
       "      <td>Female</td>\n",
       "      <td>99342</td>\n",
       "      <td>90</td>\n",
       "      <td>3</td>\n",
       "      <td>24</td>\n",
       "      <td>Groceries</td>\n",
       "      <td>113.53</td>\n",
       "    </tr>\n",
       "    <tr>\n",
       "      <th>1</th>\n",
       "      <td>2</td>\n",
       "      <td>21</td>\n",
       "      <td>Female</td>\n",
       "      <td>78852</td>\n",
       "      <td>60</td>\n",
       "      <td>2</td>\n",
       "      <td>42</td>\n",
       "      <td>Sports</td>\n",
       "      <td>41.93</td>\n",
       "    </tr>\n",
       "    <tr>\n",
       "      <th>2</th>\n",
       "      <td>3</td>\n",
       "      <td>60</td>\n",
       "      <td>Female</td>\n",
       "      <td>126573</td>\n",
       "      <td>30</td>\n",
       "      <td>2</td>\n",
       "      <td>28</td>\n",
       "      <td>Clothing</td>\n",
       "      <td>424.36</td>\n",
       "    </tr>\n",
       "    <tr>\n",
       "      <th>3</th>\n",
       "      <td>4</td>\n",
       "      <td>40</td>\n",
       "      <td>Other</td>\n",
       "      <td>47099</td>\n",
       "      <td>74</td>\n",
       "      <td>9</td>\n",
       "      <td>5</td>\n",
       "      <td>Home &amp; Garden</td>\n",
       "      <td>991.93</td>\n",
       "    </tr>\n",
       "    <tr>\n",
       "      <th>4</th>\n",
       "      <td>5</td>\n",
       "      <td>65</td>\n",
       "      <td>Female</td>\n",
       "      <td>140621</td>\n",
       "      <td>21</td>\n",
       "      <td>3</td>\n",
       "      <td>25</td>\n",
       "      <td>Electronics</td>\n",
       "      <td>347.08</td>\n",
       "    </tr>\n",
       "  </tbody>\n",
       "</table>\n",
       "</div>"
      ],
      "text/plain": [
       "   id  age  gender  income  spending_score  membership_years  \\\n",
       "0   1   38  Female   99342              90                 3   \n",
       "1   2   21  Female   78852              60                 2   \n",
       "2   3   60  Female  126573              30                 2   \n",
       "3   4   40   Other   47099              74                 9   \n",
       "4   5   65  Female  140621              21                 3   \n",
       "\n",
       "   purchase_frequency preferred_category  last_purchase_amount  \n",
       "0                  24          Groceries                113.53  \n",
       "1                  42             Sports                 41.93  \n",
       "2                  28           Clothing                424.36  \n",
       "3                   5      Home & Garden                991.93  \n",
       "4                  25        Electronics                347.08  "
      ]
     },
     "execution_count": 5,
     "metadata": {},
     "output_type": "execute_result"
    }
   ],
   "source": [
    "import pandas as pd\n",
    "\n",
    "# Load your CSV file into a DataFrame\n",
    "df = pd.read_csv('Customer Dataset 2.csv')\n",
    "\n",
    "# Show first few rows to confirm it's loaded correctly\n",
    "df.head()"
   ]
  },
  {
   "cell_type": "markdown",
   "metadata": {},
   "source": [
    "# Basis segmentasi: demografik\n",
    "\n",
    "fitur yang relevan: age, gender, income"
   ]
  },
  {
   "cell_type": "markdown",
   "metadata": {},
   "source": [
    "# Metode\n",
    "\n",
    "1. Filter kolom yang relevan pada dataset\n",
    "2. Hitung `n_clusters` optimal menggunakan elbow method\n",
    "3. Hitung cluster menggunakan KMeans dengan `n_clusters` optimal\n",
    "4. Fit RandomForestClassifier terhadap cluster tersebut\n",
    "5. evaluasi (menggunakan `classification_report`)"
   ]
  },
  {
   "cell_type": "code",
   "execution_count": 7,
   "metadata": {},
   "outputs": [
    {
     "data": {
      "text/html": [
       "<div>\n",
       "<style scoped>\n",
       "    .dataframe tbody tr th:only-of-type {\n",
       "        vertical-align: middle;\n",
       "    }\n",
       "\n",
       "    .dataframe tbody tr th {\n",
       "        vertical-align: top;\n",
       "    }\n",
       "\n",
       "    .dataframe thead th {\n",
       "        text-align: right;\n",
       "    }\n",
       "</style>\n",
       "<table border=\"1\" class=\"dataframe\">\n",
       "  <thead>\n",
       "    <tr style=\"text-align: right;\">\n",
       "      <th></th>\n",
       "      <th>age</th>\n",
       "      <th>gender</th>\n",
       "      <th>income</th>\n",
       "    </tr>\n",
       "  </thead>\n",
       "  <tbody>\n",
       "    <tr>\n",
       "      <th>0</th>\n",
       "      <td>-0.384451</td>\n",
       "      <td>1.269898</td>\n",
       "      <td>0.316709</td>\n",
       "    </tr>\n",
       "    <tr>\n",
       "      <th>1</th>\n",
       "      <td>-1.514604</td>\n",
       "      <td>1.269898</td>\n",
       "      <td>-0.281875</td>\n",
       "    </tr>\n",
       "    <tr>\n",
       "      <th>2</th>\n",
       "      <td>1.078099</td>\n",
       "      <td>1.269898</td>\n",
       "      <td>1.112222</td>\n",
       "    </tr>\n",
       "    <tr>\n",
       "      <th>3</th>\n",
       "      <td>-0.251492</td>\n",
       "      <td>0.050015</td>\n",
       "      <td>-1.209491</td>\n",
       "    </tr>\n",
       "    <tr>\n",
       "      <th>4</th>\n",
       "      <td>1.410497</td>\n",
       "      <td>1.269898</td>\n",
       "      <td>1.522613</td>\n",
       "    </tr>\n",
       "  </tbody>\n",
       "</table>\n",
       "</div>"
      ],
      "text/plain": [
       "        age    gender    income\n",
       "0 -0.384451  1.269898  0.316709\n",
       "1 -1.514604  1.269898 -0.281875\n",
       "2  1.078099  1.269898  1.112222\n",
       "3 -0.251492  0.050015 -1.209491\n",
       "4  1.410497  1.269898  1.522613"
      ]
     },
     "execution_count": 7,
     "metadata": {},
     "output_type": "execute_result"
    }
   ],
   "source": [
    "df2=pd.DataFrame()\n",
    "df2['age']=df['age']\n",
    "df2['gender']=df['gender'].map({'Male':-1,'Female':1,'Other':0})\n",
    "df2['income']=df['income']\n",
    "df2=(df2-df2.mean())/df2.std()\n",
    "df2.head()"
   ]
  },
  {
   "cell_type": "code",
   "execution_count": 40,
   "metadata": {
    "colab": {
     "base_uri": "https://localhost:8080/",
     "height": 643
    },
    "id": "fAMpu64Mg8bs",
    "outputId": "2ed52f48-897d-4100-a099-92e4378ea64a"
   },
   "outputs": [
    {
     "name": "stdout",
     "output_type": "stream",
     "text": [
      "spender_category\n",
      "High    507\n",
      "Low     493\n",
      "Name: count, dtype: int64\n"
     ]
    },
    {
     "data": {
      "image/png": "[encoded data removed]",
      "text/plain": [
       "<Figure size 800x500 with 1 Axes>"
      ]
     },
     "metadata": {},
     "output_type": "display_data"
    }
   ],
   "source": [
    "from sklearn.cluster import KMeans\n",
    "\n",
    "# Define a simple rule for high/low spenders (adjust the threshold as needed)\n",
    "df['spender_category'] = df['spending_score'].apply(lambda x: 'High' if x >= 50 else 'Low')\n",
    "\n",
    "# Check the new column\n",
    "print(df['spender_category'].value_counts())\n",
    "\n",
    "# Find optimal number of clusters using the Elbow method\n",
    "wcss = []\n",
    "for i in range(1, 11):\n",
    "    kmeans = KMeans(n_clusters=i, init='k-means++', random_state=42)\n",
    "    kmeans.fit(df2.values)\n",
    "    wcss.append(kmeans.inertia_)\n",
    "\n",
    "# Plot the Elbow curve\n",
    "import matplotlib.pyplot as plt\n",
    "\n",
    "plt.figure(figsize=(8, 5))\n",
    "plt.plot(range(1, 11), wcss, marker='o')\n",
    "plt.title('Elbow Method to Find Optimal Clusters')\n",
    "plt.xlabel('Number of Clusters (k)')\n",
    "plt.ylabel('WCSS (Within-Cluster Sum of Squares)')\n",
    "plt.grid(True)\n",
    "plt.show()"
   ]
  },
  {
   "cell_type": "markdown",
   "metadata": {},
   "source": [
    "## Hitung turunan absolut orde kedua\n",
    "\n",
    "Nilai yang paling tinggi mengindikasikan kandidat bagus"
   ]
  },
  {
   "cell_type": "code",
   "execution_count": 38,
   "metadata": {},
   "outputs": [
    {
     "data": {
      "text/plain": [
       "0           NaN\n",
       "1           NaN\n",
       "2    271.365580\n",
       "3     84.868028\n",
       "4    152.187837\n",
       "5     31.919438\n",
       "6     84.296521\n",
       "7      3.151107\n",
       "8     60.968396\n",
       "9      6.287615\n",
       "dtype: float64"
      ]
     },
     "execution_count": 38,
     "metadata": {},
     "output_type": "execute_result"
    }
   ],
   "source": [
    "pd.Series(wcss).diff().diff().abs()\n",
    "#2 -> jumlah kluster terlalu kecil\n",
    "#4 -> turunan ke-2 ke-2 paling besar, sehingga dipilih"
   ]
  },
  {
   "cell_type": "markdown",
   "metadata": {},
   "source": [
    "Kami pilih n_clusters = 4. Walaupun turunan absolut orde kedua-nya bukan paling tinggi, Ia kedua paling tinggi dan n_clusters-nya kami tidak ingin pilih yang terlalu rendah (seperti 2)"
   ]
  },
  {
   "cell_type": "code",
   "execution_count": 39,
   "metadata": {
    "colab": {
     "base_uri": "https://localhost:8080/"
    },
    "id": "lxtnr9dug-k5",
    "outputId": "7cb1a1ed-f70f-4624-aab0-5f0a5fe65a59"
   },
   "outputs": [
    {
     "name": "stdout",
     "output_type": "stream",
     "text": [
      "Accuracy: 0.98\n",
      "Classification Report:\n",
      "               precision    recall  f1-score   support\n",
      "\n",
      "           0       0.96      1.00      0.98        55\n",
      "           1       1.00      0.94      0.97        36\n",
      "           2       0.96      0.96      0.96        48\n",
      "           3       1.00      1.00      1.00        61\n",
      "\n",
      "    accuracy                           0.98       200\n",
      "   macro avg       0.98      0.98      0.98       200\n",
      "weighted avg       0.98      0.98      0.98       200\n",
      "\n"
     ]
    }
   ],
   "source": [
    "from sklearn.model_selection import train_test_split\n",
    "from sklearn.ensemble import RandomForestClassifier\n",
    "from sklearn.metrics import classification_report, accuracy_score\n",
    "\n",
    "# Define features (including cluster labels) and target (spending_score or spender category)\n",
    "X = df2\n",
    "y = cluster  # Assuming high/low spender labels are already created\n",
    "\n",
    "# Train-test split\n",
    "X_train, X_test, y_train, y_test = train_test_split(X, y, test_size=0.2, random_state=42)\n",
    "\n",
    "# Train Random Forest model\n",
    "rf = RandomForestClassifier(n_estimators=100, random_state=42)\n",
    "rf.fit(X_train, y_train)\n",
    "\n",
    "# Predictions and evaluation\n",
    "y_pred = rf.predict(X_test)\n",
    "print(\"Accuracy:\", accuracy_score(y_test, y_pred))\n",
    "print(\"Classification Report:\\n\", classification_report(y_test, y_pred))\n"
   ]
  },
  {
   "cell_type": "markdown",
   "metadata": {},
   "source": [
    "# Summary\n",
    "\n",
    "`RandomForest` dengan 100 decision tree mendapatkan akurasi 98%, yakni Ia dapat meniru `KMeans(n_clusters=4)` dengan akurasi sebesar itu"
   ]
  }
 ],
 "metadata": {
  "colab": {
   "provenance": []
  },
  "kernelspec": {
   "display_name": "Python 3 (ipykernel)",
   "language": "python",
   "name": "python3"
  },
  "language_info": {
   "codemirror_mode": {
    "name": "ipython",
    "version": 3
   },
   "file_extension": ".py",
   "mimetype": "text/x-python",
   "name": "python",
   "nbconvert_exporter": "python",
   "pygments_lexer": "ipython3",
   "version": "3.10.14"
  }
 },
 "nbformat": 4,
 "nbformat_minor": 4
}
