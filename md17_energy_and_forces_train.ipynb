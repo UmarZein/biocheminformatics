{
 "cells": [
  {
   "cell_type": "code",
   "execution_count": 1,
   "id": "a631089e-bf22-4659-8b6a-eaf1c703376d",
   "metadata": {},
   "outputs": [],
   "source": [
    "from pprint import pprint\n",
    "from torch_geometric.data import Data, DataListLoader, Dataset, InMemoryDataset, Batch\n",
    "from torch_geometric.loader import DataListLoader, DataLoader\n",
    "from torch_geometric.nn import *\n",
    "from torch_geometric.utils import to_dense_adj, to_dense_batch, add_self_loops, remove_self_loops\n",
    "from torch_geometric.nn.conv import MessagePassing\n",
    "import torch\n",
    "from torch import nn\n",
    "import rdkit\n",
    "from tqdm.auto import tqdm\n",
    "import itertools\n",
    "from rdkit import Chem\n",
    "import pandas as pd\n",
    "from importlib import reload\n",
    "import matplotlib.pyplot as plt\n",
    "from rdkit import RDLogger\n",
    "\n",
    "from copy import deepcopy\n",
    "#from torch.utils.data import Dataset, DataLoader\n",
    "from typing import Tuple, List, Dict, Union\n",
    "from torch import Tensor\n",
    "from torch_geometric.nn import MessagePassing, radius_graph\n",
    "from torch_geometric.utils import add_self_loops, degree\n",
    "from torch_scatter import scatter\n",
    "from torch_geometric.typing import (\n",
    "    Adj,\n",
    "    OptTensor,\n",
    "    SparseTensor,\n",
    "    pyg_lib,\n",
    "    torch_sparse,\n",
    ")\n",
    "from torch_geometric.data import (\n",
    "    Data,\n",
    "    InMemoryDataset,\n",
    "    download_url,\n",
    "    extract_zip,\n",
    ")\n",
    "from rdkit import Chem\n",
    "import os\n",
    "# Suppress RDKit warnings\n",
    "RDLogger.DisableLog('rdApp.*')\n",
    "cuda=torch.device('cuda') if torch.cuda.is_available() else 'cpu'\n",
    "import sascorer\n",
    "#torch.set_default_dtype(torch.float64)\n",
    "from models import *\n",
    "from rdkit.Chem.Crippen import MolLogP\n",
    "from typing import List\n",
    "from prolog import *\n",
    "import torchlens as tl"
   ]
  },
  {
   "cell_type": "code",
   "execution_count": 2,
   "id": "4892b1ff-4bac-495b-ab7a-d8912bcf552f",
   "metadata": {},
   "outputs": [],
   "source": [
    "from torch_geometric.datasets import MD17"
   ]
  },
  {
   "cell_type": "code",
   "execution_count": 3,
   "id": "f2ec09f0-7960-4471-a5f4-7d62a1411666",
   "metadata": {},
   "outputs": [],
   "source": [
    "def pre_transform(data):\n",
    "    return Data(pos=data.pos, atom_type=data.z, energy=data.energy, force=data.force)\n",
    "md17_full=MD17(\"datasets/md17-benzene\",name='benzene',pre_transform=pre_transform)\n",
    "md17=md17_full[::len(md17_full)//4096]"
   ]
  },
  {
   "cell_type": "code",
   "execution_count": 4,
   "id": "a019f317-ba65-4d4c-844a-bff7175cfa99",
   "metadata": {},
   "outputs": [],
   "source": [
    "train_dataset, test_dataset = torch.utils.data.random_split(md17, [1000, len(md17)-1000])"
   ]
  },
  {
   "cell_type": "code",
   "execution_count": 5,
   "id": "36be93b6-d122-42cc-b6d6-60d342e22bbb",
   "metadata": {},
   "outputs": [],
   "source": [
    "class TrainingContext:\n",
    "    def __init__(self, cls, *args, **kwargs):\n",
    "        self.inner = cls(*args, **kwargs).to(cuda)\n",
    "        self.name = cls.__name__\n",
    "        self.optim = torch.optim.AdamW(self.inner.parameters())\n",
    "        self.sched = torch.optim.lr_scheduler.ExponentialLR(self.optim, gamma=0.98)\n",
    "        self.num_parameters = sum(map(torch.numel,self.inner.parameters()))\n",
    "        self.train_loss_record = dict()\n",
    "        self.test_loss_record = dict()\n",
    "        self.results = list()\n",
    "        self.total_iters = 0\n",
    "        self.running_loss = 0\n",
    "        self.best_eval_loss = 999\n",
    "        self.stopped = False\n",
    "        self.batch_size=64\n",
    "        self.train_loss_metric='MSE'\n",
    "        self.eval_loss_metric='MAE'\n",
    "        self.last_target_name='normalized energy+normalized force'\n",
    "        self.last_dataset_name='MD17-benzene'\n",
    "        self.training=True\n",
    "    def save(self, prefix='saves'):\n",
    "        save_model(\n",
    "            self.name,\n",
    "            self.inner,\n",
    "            optimizer=self.optim,\n",
    "            scheduler=self.sched,\n",
    "            loss_record={\n",
    "                'train':self.train_loss_record,\n",
    "                'test':self.test_loss_record,\n",
    "            },\n",
    "            total_training_iters=self.total_iters,\n",
    "            last_batch_size=self.batch_size,\n",
    "            loss_metric={\n",
    "                'train':'MSE',\n",
    "                'test':'MAE',\n",
    "            },\n",
    "            last_target_name=self.last_target_name,\n",
    "            last_dataset_name=self.last_dataset_name\n",
    "        )\n",
    "    @classmethod\n",
    "    def load(cls, name, class_, prefix='saves', training=False, override=None):\n",
    "        if override is None:\n",
    "            override=dict()\n",
    "        checkpoint=torch.load(os.path.join(prefix,name,'checkpoint.pth'))\n",
    "        self=cls(class_,**dict(**checkpoint['config'],**override))\n",
    "        self.inner.load_state_dict(checkpoint['model_state_dict'])\n",
    "        self.optim.load_state_dict(checkpoint['optimizer_state_dict'])\n",
    "        self.sched.load_state_dict(checkpoint['scheduler_state_dict'])\n",
    "        self.total_iters=checkpoint['total_training_iters']\n",
    "        self.batch_size=checkpoint['last_batch_size']\n",
    "        self.train_loss_record=checkpoint['loss_record']['train']\n",
    "        self.test_loss_record=checkpoint['loss_record']['test']\n",
    "        self.best_eval_loss=min(self.test_loss_record.values())\n",
    "        self.training=training\n",
    "        return self\n",
    "    "
   ]
  },
  {
   "cell_type": "code",
   "execution_count": 6,
   "id": "231e3249-250c-4f33-be3e-4e9ae44116dd",
   "metadata": {},
   "outputs": [],
   "source": [
    "import gc\n",
    "models=[]\n",
    "gc.collect()\n",
    "torch.cuda.empty_cache()"
   ]
  },
  {
   "cell_type": "code",
   "execution_count": 7,
   "id": "70475aab-77c5-48b1-96bd-7f22493e4208",
   "metadata": {},
   "outputs": [
    {
     "data": {
      "text/plain": [
       "455809"
      ]
     },
     "execution_count": 7,
     "metadata": {},
     "output_type": "execute_result"
    }
   ],
   "source": [
    "from models.schnet import SchNet\n",
    "\n",
    "models.append(TrainingContext(SchNet))\n",
    "models[-1].num_parameters"
   ]
  },
  {
   "cell_type": "code",
   "execution_count": 8,
   "id": "eee6ef6f-01ef-4c4b-ac3c-95fa0d501850",
   "metadata": {},
   "outputs": [
    {
     "data": {
      "text/plain": [
       "458260"
      ]
     },
     "execution_count": 8,
     "metadata": {},
     "output_type": "execute_result"
    }
   ],
   "source": [
    "from models.m307b import M307B\n",
    "\n",
    "models.append(TrainingContext(\n",
    "    M307B,\n",
    "    node_dimses=[\n",
    "        [120, 150, 120],#this first element of the first nested list is arbitrary\n",
    "        [120, 150, 120],\n",
    "        [120, 150, 120],\n",
    "        [120, 150, 120],\n",
    "        [120, 150, 120],\n",
    "        [120, 150, 1 ],\n",
    "    ],\n",
    "    edge_dimses=[\n",
    "        [50, 220, 120],\n",
    "        [50, 220, 120],\n",
    "        [50, 220, 120],\n",
    "        [50, 220, 120],\n",
    "        [50, 220, 120],\n",
    "        [50, 220, 120],\n",
    "    ],\n",
    "    activation=nn.SiLU,\n",
    "    dropout_rate=0,#0.1,#0.01,\n",
    "))\n",
    "models[-1].num_parameters"
   ]
  },
  {
   "cell_type": "code",
   "execution_count": 9,
   "id": "e40be278-170f-4cda-9c59-3b110b264bb2",
   "metadata": {},
   "outputs": [
    {
     "data": {
      "text/plain": [
       "(tensor(-146525.4062), tensor(-146527.5312), tensor(7.5547), tensor(2.3318))"
      ]
     },
     "execution_count": 9,
     "metadata": {},
     "output_type": "execute_result"
    },
    {
     "data": {
      "image/png": "[encoded data removed]",
      "text/plain": [
       "<Figure size 640x480 with 1 Axes>"
      ]
     },
     "metadata": {},
     "output_type": "display_data"
    }
   ],
   "source": [
    "eng=md17.energy\n",
    "__min= eng.quantile(.001)\n",
    "__max= eng.quantile(.999)\n",
    "__mid=eng.quantile(.5)\n",
    "__mean=eng.mean()\n",
    "__std= eng.std()\n",
    "pd.Series(eng).plot.hist(bins=200)\n",
    "offset=(__min+__max)/2\n",
    "width=abs(__max-__min)/2\n",
    "plt.title(\"energy distribution\")\n",
    "offset,__mid,width,__std"
   ]
  },
  {
   "cell_type": "code",
   "execution_count": 10,
   "id": "cf3c0149-d111-44c6-888a-a0920b48f6cc",
   "metadata": {},
   "outputs": [
    {
     "data": {
      "text/plain": [
       "tensor([22.9020, 18.1286, 18.0431])"
      ]
     },
     "execution_count": 10,
     "metadata": {},
     "output_type": "execute_result"
    }
   ],
   "source": [
    "__std2=md17.force.std(0)\n",
    "__std2"
   ]
  },
  {
   "cell_type": "code",
   "execution_count": 11,
   "id": "d0805d64-32be-443c-9908-ef44a586f311",
   "metadata": {},
   "outputs": [
    {
     "data": {
      "application/vnd.jupyter.widget-view+json": {
       "model_id": "dabda63379ba49a88426ec840a338870",
       "version_major": 2,
       "version_minor": 0
      },
      "text/plain": [
       "  0%|          | 0/1562 [00:00<?, ?it/s]"
      ]
     },
     "metadata": {},
     "output_type": "display_data"
    },
    {
     "data": {
      "application/vnd.jupyter.widget-view+json": {
       "model_id": "324dffa52524450b844618af0148a160",
       "version_major": 2,
       "version_minor": 0
      },
      "text/plain": [
       "  0%|          | 0/15 [00:00<?, ?it/s]"
      ]
     },
     "metadata": {},
     "output_type": "display_data"
    }
   ],
   "source": [
    "import numpy as np\n",
    "BATCH_SIZE=64\n",
    "N_EPOCHS=100\n",
    "N_mols=len(train_dataset)\n",
    "long_bar=tqdm(range(N_EPOCHS*N_mols//BATCH_SIZE),smoothing=0)\n",
    "e_bar=tqdm(range(N_mols//BATCH_SIZE),smoothing=0)\n",
    "Q=10000\n",
    "N_TRAINING_MODEL=len(models)\n",
    "for model in models:\n",
    "    model.inner=model.inner.train()\n",
    "    model.stopped=False\n",
    "    \n",
    "#torch.autograd.set_detect_anomaly(True)\n",
    "for epoch in range(N_EPOCHS):\n",
    "    e_bar.refresh()\n",
    "    e_bar.reset(N_mols//BATCH_SIZE)\n",
    "    train_bl=DataLoader(train_dataset, batch_size=BATCH_SIZE, shuffle=True)\n",
    "    for i, batch in zip(range(N_mols//BATCH_SIZE), train_bl):\n",
    "        long_bar.update(1)\n",
    "        e_bar.update(1)\n",
    "        \n",
    "        try:\n",
    "            batch=(batch.to(cuda))\n",
    "            energy=(batch.energy-__mean)/__std\n",
    "            #force=(batch.force)/__std2.to(cuda)\n",
    "            for model in models:\n",
    "                if model.stopped or not model.training: continue\n",
    "                model.inner=model.inner.train()\n",
    "                #batch.pos.requires_grad_(True)\n",
    "                pred_energy = model.inner(batch) #energy\n",
    "                extra_loss=0\n",
    "                if isinstance(pred_energy, tuple):\n",
    "                    pred_energy, extra_loss=pred_energy\n",
    "                #pred_force = 0\n",
    "                #pred_force = -torch.autograd.grad(\n",
    "                #    pred_energy, batch.pos, \n",
    "                #    grad_outputs=torch.ones_like(pred_energy,device=pred_energy.device), \n",
    "                #    retain_graph=True,\n",
    "                #)[0]\n",
    "                energy_loss = ((pred_energy-energy)**2).mean()\n",
    "                #force_loss  = ((pred_force-force)**2).mean()\n",
    "                loss=energy_loss+extra_loss#+force_loss\n",
    "                model.inner.zero_grad(set_to_none=True)\n",
    "                \n",
    "                if model.total_iters<5:\n",
    "                    model.running_loss = model.running_loss*.3+loss.item()*.7\n",
    "                else:\n",
    "                    model.running_loss = model.running_loss*(1-1/100)+loss.item()/100\n",
    "                    \n",
    "                if model.total_iters+.2>1.1**len(model.train_loss_record):\n",
    "                    model.train_loss_record[model.total_iters]=model.running_loss\n",
    "                loss.backward()\n",
    "                model.optim.step()\n",
    "                model.total_iters+=1\n",
    "\n",
    "            ### evaluation\n",
    "            if i%64==0:\n",
    "                for model in models:\n",
    "                    if model.stopped or not model.training: continue\n",
    "                    model.inner=model.inner.eval()\n",
    "                    L=len(test_dataset)\n",
    "                    test_bl=DataLoader(test_dataset, batch_size=1024)\n",
    "                    model.test_loss_record[model.total_iters]=0\n",
    "                    for batch in test_bl:\n",
    "                        batch=(batch.to(cuda))\n",
    "                        #batch.pos.requires_grad_(True)\n",
    "                        eval_energy=(batch.energy-__mean)/__std\n",
    "                        #eval_force=batch.force/__std2.to(cuda)\n",
    "                        with torch.no_grad():#remove this and see the VRAM going through the roof\n",
    "                            pred_energy = model.inner(batch)#X, A, E, batch=b)\n",
    "                        if isinstance(pred_energy, tuple):\n",
    "                            pred_energy, _=pred_energy\n",
    "                        #pred_force = 0\n",
    "                        #pred_force = -torch.autograd.grad(\n",
    "                        #    pred_energy, batch.pos, \n",
    "                        #    grad_outputs=torch.ones_like(pred_energy,device=pred_energy.device), \n",
    "                        #    retain_graph=True,\n",
    "                        #)[0]\n",
    "                        #model.results=out.view(-1).tolist()\n",
    "                        energy_loss = (pred_energy-eval_energy).detach().abs().mean()\n",
    "                        #force_loss  = (pred_force-eval_force).detach().abs().mean()\n",
    "                        eval_loss=energy_loss#+force_loss\n",
    "                        model.test_loss_record[model.total_iters]+=eval_loss/L\n",
    "                    \n",
    "                    if model.test_loss_record[model.total_iters]<model.best_eval_loss:\n",
    "                        model.best_eval_loss=model.test_loss_record[model.total_iters]\n",
    "                        if model.total_iters>10000:\n",
    "                            model.save()\n",
    "                        #if np.log10(loss/models[model_name]['best_eval_loss'])>1.5 and models[model_name]['total_iters']>100:\n",
    "                        #    models[model_name]['stopped']=True\n",
    "                        #    N_TRAINING_MODEL-=1\n",
    "            ###logging\n",
    "            logstr=''\n",
    "            for model in models:\n",
    "                if model.stopped:\n",
    "                    logstr+=f'{model.name}(stopped):{int(Q*model.running_loss)/Q}({int(Q*model.best_eval_loss)/Q}). '\n",
    "                else:\n",
    "                    logstr+=f'{model.name}:{int(Q*model.running_loss)/Q}({int(Q*model.best_eval_loss)/Q}). '\n",
    "            e_bar.set_description(logstr)\n",
    "        except Exception as e:\n",
    "            raise e\n",
    "    ### stepping schedulers:\n",
    "    \n",
    "    for model in models:\n",
    "        if model.sched is None: continue\n",
    "        if model.stopped or not model.training: continue\n",
    "        model.inner=model.inner.eval()\n",
    "        model.sched.step()"
   ]
  },
  {
   "cell_type": "code",
   "execution_count": 56,
   "id": "12720dd4-b7f5-407a-892a-595dec304b1b",
   "metadata": {},
   "outputs": [
    {
     "data": {
      "text/plain": [
       "tensor([[-0.6162,  0.1322,  0.2040],\n",
       "        [-0.0217, -0.1643,  0.7956],\n",
       "        [ 0.5405, -0.0216, -0.2201],\n",
       "        ...,\n",
       "        [-0.3138, -0.1273,  0.0962],\n",
       "        [-0.4222, -0.0827, -0.0766],\n",
       "        [-0.1132,  0.2046, -0.2739]], device='cuda:0', grad_fn=<AddBackward0>)"
      ]
     },
     "execution_count": 56,
     "metadata": {},
     "output_type": "execute_result"
    }
   ],
   "source": [
    "torch.autograd.grad(\n",
    "         -pred_energy, batch.pos, \n",
    "         grad_outputs=torch.ones_like(pred_energy,device=pred_energy.device), \n",
    "         retain_graph=True, create_graph=True,\n",
    "     )[0]"
   ]
  },
  {
   "cell_type": "code",
   "execution_count": 50,
   "id": "f9cc7f6f-8320-4776-957f-15836ad77f90",
   "metadata": {},
   "outputs": [
    {
     "data": {
      "text/plain": [
       "tensor([22.9020, 18.1286, 18.0431])"
      ]
     },
     "execution_count": 50,
     "metadata": {},
     "output_type": "execute_result"
    }
   ],
   "source": [
    "__std2"
   ]
  },
  {
   "cell_type": "code",
   "execution_count": 26,
   "id": "6cf3f652-036e-41ba-9bf0-432d172441e4",
   "metadata": {},
   "outputs": [
    {
     "name": "stdout",
     "output_type": "stream",
     "text": [
      "SchNet\n",
      "energy MAE: tensor(1.8372, device='cuda:0', grad_fn=<DivBackward0>)\n",
      "force MAE: tensor(14.3678, device='cuda:0')\n",
      "M307B\n",
      "energy MAE: tensor(1.1761, device='cuda:0', grad_fn=<DivBackward0>)\n",
      "force MAE: tensor(10.5271, device='cuda:0')\n"
     ]
    }
   ],
   "source": [
    "#these models were trained on 100 epochs\n",
    "#similar sizes\n",
    "#dataset: md17-benzene subset\n",
    "#training_size=1000\n",
    "loader=DataLoader(test_dataset, batch_size=512)\n",
    "for model in models:\n",
    "    print(model.name)\n",
    "    total_energy_mae=0\n",
    "    count=0\n",
    "    total_force_mae=0\n",
    "    for batch in loader:\n",
    "        batch=batch.to(cuda)\n",
    "        tmp=batch.clone()\n",
    "        tmp.pos.requires_grad_(True)\n",
    "        out=model.inner(tmp)*__std+__mean\n",
    "        out.sum().backward()\n",
    "        pred_force=-tmp.pos.grad\n",
    "        total_energy_mae+=(out-tmp.energy).abs().mean()\n",
    "        total_force_mae+=(tmp.dy-pred_force).abs().mean()\n",
    "        count+=1\n",
    "    print(\"energy MAE:\",total_energy_mae/count)\n",
    "    print(\"force MAE:\",total_force_mae/count)"
   ]
  },
  {
   "cell_type": "code",
   "execution_count": 67,
   "id": "60ab1f5b-1252-43de-be60-483c714bf37c",
   "metadata": {},
   "outputs": [
    {
     "data": {
      "text/plain": [
       "tensor([[  4.8662, -10.8835,  -3.9544],\n",
       "        [ -4.3179,   1.6682,   1.3008],\n",
       "        [  9.9137,  10.8159,   0.2552],\n",
       "        ...,\n",
       "        [ 16.3656,   0.0833, -18.0159],\n",
       "        [ -8.1509,   0.0730,   9.2196],\n",
       "        [  3.1431,   3.7348,  15.8427]], device='cuda:0')"
      ]
     },
     "execution_count": 67,
     "metadata": {},
     "output_type": "execute_result"
    }
   ],
   "source": [
    "tmp=batch.clone()\n",
    "tmp.pos.requires_grad_(True)\n",
    "out=model.inner(tmp)*__std+__mean\n",
    "out.sum().backward()\n",
    "-tmp.pos.grad"
   ]
  },
  {
   "cell_type": "code",
   "execution_count": 68,
   "id": "484cee4a-db74-4100-93bd-0758481ad401",
   "metadata": {},
   "outputs": [
    {
     "data": {
      "text/plain": [
       "tensor([[ 30.5522, -63.5073, -19.8314],\n",
       "        [-25.7000,   5.9124, -13.1955],\n",
       "        [ 78.8583,  39.0506,  22.2216],\n",
       "        ...,\n",
       "        [ 15.2196,   3.1760, -13.0158],\n",
       "        [ -3.7229,   3.6175,   8.2574],\n",
       "        [  6.1719,   2.5637,  18.7242]], device='cuda:0')"
      ]
     },
     "execution_count": 68,
     "metadata": {},
     "output_type": "execute_result"
    }
   ],
   "source": [
    "batch.dy"
   ]
  },
  {
   "cell_type": "code",
   "execution_count": 53,
   "id": "09b56cee-0d65-4863-bf72-2dd7c2a67b34",
   "metadata": {},
   "outputs": [
    {
     "data": {
      "text/plain": [
       "tensor([-146524.2812, -146526.8594, -146528.7969, -146525.3281, -146528.7031,\n",
       "        -146525.5938, -146524.2344, -146525.3750, -146526.6719, -146527.2500,\n",
       "        -146526.2344, -146529.8594, -146527.9219, -146529.6562, -146525.3594,\n",
       "        -146525.9688, -146529.5312, -146529.7500, -146529.2969, -146526.9531,\n",
       "        -146525.4062, -146524.9062, -146529.1562, -146526.0000, -146526.6406,\n",
       "        -146529.1875, -146528.7344, -146529.7656, -146527.0000, -146525.0938,\n",
       "        -146528.8750, -146526.4688, -146528.8750], device='cuda:0',\n",
       "       grad_fn=<AddBackward0>)"
      ]
     },
     "execution_count": 53,
     "metadata": {},
     "output_type": "execute_result"
    }
   ],
   "source": [
    "out"
   ]
  },
  {
   "cell_type": "code",
   "execution_count": 54,
   "id": "7a52e8eb-ae8b-4795-a180-4427dfbd4703",
   "metadata": {},
   "outputs": [
    {
     "data": {
      "text/plain": [
       "tensor([-146518.2344, -146528.1875, -146529.4375, -146525.2812, -146528.3750,\n",
       "        -146528.1094, -146523.0000, -146525.5156, -146527.4219, -146527.6719,\n",
       "        -146526.2031, -146532.4531, -146526.0312, -146526.1406, -146525.5781,\n",
       "        -146527.2031, -146529.4062, -146530.1562, -146529.8906, -146528.2500,\n",
       "        -146522.3594, -146525.9062, -146529.3750, -146525.7656, -146525.6406,\n",
       "        -146530.2188, -146530.1875, -146528.5625, -146527.8750, -146526.3750,\n",
       "        -146529.7344, -146527.0781, -146530.9844], device='cuda:0')"
      ]
     },
     "execution_count": 54,
     "metadata": {},
     "output_type": "execute_result"
    }
   ],
   "source": [
    "batch.energy"
   ]
  },
  {
   "cell_type": "code",
   "execution_count": 52,
   "id": "2a6d5f91-83d3-4560-980e-f1bec02ef9e2",
   "metadata": {},
   "outputs": [
    {
     "data": {
      "text/plain": [
       "<matplotlib.collections.PathCollection at 0x1d31d9aa260>"
      ]
     },
     "execution_count": 52,
     "metadata": {},
     "output_type": "execute_result"
    },
    {
     "data": {
      "image/png": "[encoded data removed]",
      "text/plain": [
       "<Figure size 640x480 with 1 Axes>"
      ]
     },
     "metadata": {},
     "output_type": "display_data"
    }
   ],
   "source": [
    "plt.scatter(out.detach().cpu().numpy(),batch.energy.detach().cpu().numpy())\n",
    "#plt.plot([1,1,2])"
   ]
  },
  {
   "cell_type": "code",
   "execution_count": 15,
   "id": "587a6d0e-a760-4d3b-8a43-1c13cacd7a9c",
   "metadata": {},
   "outputs": [],
   "source": [
    "with torch.no_grad():\n",
    "    out=model.inner(batch)\n"
   ]
  },
  {
   "cell_type": "code",
   "execution_count": 15,
   "id": "8f00f3b5-5072-43ee-9da9-13f02008c212",
   "metadata": {},
   "outputs": [
    {
     "data": {
      "text/plain": [
       "1         0.031046327\n",
       "16       0.0023953132\n",
       "31       0.0016284266\n",
       "46       0.0012833278\n",
       "61       0.0010527046\n",
       "            ...      \n",
       "1426     0.0009021604\n",
       "1441     0.0008597422\n",
       "1456    0.00086381467\n",
       "1471    0.00091114634\n",
       "1486    0.00085576763\n",
       "Length: 100, dtype: object"
      ]
     },
     "execution_count": 15,
     "metadata": {},
     "output_type": "execute_result"
    }
   ],
   "source": []
  },
  {
   "cell_type": "code",
   "execution_count": 18,
   "id": "11023eb3-9e42-4271-a262-916ba0c8b992",
   "metadata": {},
   "outputs": [
    {
     "data": {
      "text/plain": [
       "tensor(2.3318)"
      ]
     },
     "execution_count": 18,
     "metadata": {},
     "output_type": "execute_result"
    }
   ],
   "source": [
    "__std"
   ]
  },
  {
   "cell_type": "code",
   "execution_count": 19,
   "id": "3dd3d308-ae5a-4d72-ad02-967c7b4c13a5",
   "metadata": {},
   "outputs": [
    {
     "data": {
      "image/png": "[encoded data removed]",
      "text/plain": [
       "<Figure size 640x480 with 1 Axes>"
      ]
     },
     "metadata": {},
     "output_type": "display_data"
    }
   ],
   "source": [
    "import datetime\n",
    "ts=datetime.datetime.now().strftime(\"%Y-%m-%d-%H:%M:%S\")\n",
    "tsfs=datetime.datetime.now().strftime(\"%Y-%m-%d-%H-%M-%S\")\n",
    "for model,c in zip(models,['tab:'+cn for cn in ('blue','orange','green','red','purple','brown','pink','gray','olive','cyan')]):\n",
    "    plt.plot(pd.Series(model.train_loss_record),label=model.name+' MEA',linestyle='--',alpha=0.4,c=c)\n",
    "    plt.plot(pd.Series({k:v.detach().cpu().numpy()*float(__std) for k,v in model.test_loss_record.items()}),alpha=0.2,c=c)\n",
    "    plt.plot(pd.Series({k:v.detach().cpu().numpy()*float(__std) for k,v in model.test_loss_record.items()}).cummin(),label=model.name+' eval_loss',alpha=0.9,c=c,lw=1)\n",
    "    \n",
    "#plt.xticks(1.1**np.arange(len(record_loss_rgcn)))\n",
    "plt.yscale('log')\n",
    "plt.xscale('log')\n",
    "plt.legend()\n",
    "plt.title(ts)\n",
    "plt.ylabel(\"loss\")\n",
    "plt.xlabel(\"iter#\")\n",
    "plt.gcf().savefig(f\"loss_record-md17-energy-{tsfs}.svg\")"
   ]
  },
  {
   "cell_type": "code",
   "execution_count": 18,
   "id": "99465d54-8a11-447b-8f21-6170fbab92c5",
   "metadata": {},
   "outputs": [
    {
     "data": {
      "text/plain": [
       "DataBatch(pos=[768, 3], z=[768], energy=[64], force=[768, 3], batch=[768], ptr=[65], atom_type=[768])"
      ]
     },
     "execution_count": 18,
     "metadata": {},
     "output_type": "execute_result"
    }
   ],
   "source": []
  },
  {
   "cell_type": "code",
   "execution_count": null,
   "id": "e7f591fe-ce22-4227-8599-f2f9d691ed2c",
   "metadata": {},
   "outputs": [],
   "source": []
  }
 ],
 "metadata": {
  "kernelspec": {
   "display_name": "Python 3 (ipykernel)",
   "language": "python",
   "name": "python3"
  },
  "language_info": {
   "codemirror_mode": {
    "name": "ipython",
    "version": 3
   },
   "file_extension": ".py",
   "mimetype": "text/x-python",
   "name": "python",
   "nbconvert_exporter": "python",
   "pygments_lexer": "ipython3",
   "version": "3.10.13"
  }
 },
 "nbformat": 4,
 "nbformat_minor": 5
}
