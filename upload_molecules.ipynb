{
 "cells": [
  {
   "cell_type": "code",
   "execution_count": 1,
   "id": "d3a81544-b753-4983-9c02-91e3181b1e3e",
   "metadata": {},
   "outputs": [],
   "source": [
    "from pprint import pprint\n",
    "from convertmol import parse_sdf_file, bond_type_dict, single_bond_stereo_dict, double_bond_stereo_dict\n",
    "from torch_geometric.data import Data\n",
    "from torch_geometric.nn import *\n",
    "from torch_geometric.utils import to_dense_adj, to_dense_batch, add_self_loops\n",
    "from torch_geometric.nn.conv import MessagePassing\n",
    "import torch\n",
    "from torch import nn\n",
    "import rdkit\n",
    "from tqdm import tqdm\n",
    "import itertools\n",
    "from rdkit import Chem\n",
    "import pandas as pd\n",
    "from importlib import reload\n",
    "import matplotlib.pyplot as plt\n",
    "from rdkit import RDLogger\n",
    "from copy import deepcopy\n",
    "from torch.utils.data import Dataset, DataLoader\n",
    "# Suppress RDKit warnings\n",
    "RDLogger.DisableLog('rdApp.*')\n",
    "import sascorer\n",
    "torch.set_default_device('cpu:0')#'cuda'"
   ]
  },
  {
   "cell_type": "code",
   "execution_count": 2,
   "id": "e8b18006-057b-4cbd-93dd-9ac003e8c206",
   "metadata": {},
   "outputs": [],
   "source": [
    "from neo4j import GraphDatabase, RoutingControl\n",
    "\n",
    "\n",
    "URI = \"bolt://localhost:7687\"\n",
    "AUTH = (\"neo4j\", \"password\")"
   ]
  },
  {
   "cell_type": "code",
   "execution_count": 3,
   "id": "5cef7811-4a8f-4006-a7d7-1d95199dfdd2",
   "metadata": {},
   "outputs": [
    {
     "data": {
      "text/plain": [
       "<module 'convertmol' from 'C:\\\\Users\\\\umarzein\\\\Desktop\\\\biocheminformatics\\\\convertmol.py'>"
      ]
     },
     "execution_count": 3,
     "metadata": {},
     "output_type": "execute_result"
    }
   ],
   "source": [
    "import convertmol\n",
    "import importlib\n",
    "importlib.reload(convertmol)"
   ]
  },
  {
   "cell_type": "code",
   "execution_count": 6,
   "id": "8e10a262-b72a-4aaf-9162-50790a17b5cf",
   "metadata": {},
   "outputs": [],
   "source": [
    "import uuid"
   ]
  },
  {
   "cell_type": "code",
   "execution_count": 8,
   "id": "81ab72a4-b121-4c3f-b7fe-6bde03223b62",
   "metadata": {},
   "outputs": [],
   "source": [
    "import re\n",
    "invalid_key=re.compile(r'[^\\w.-]')\n",
    "def is_valid_fieldname(fieldname):\n",
    "    return re.search(invalid_key, fieldname) is None"
   ]
  },
  {
   "cell_type": "code",
   "execution_count": 9,
   "id": "f5d302e5-76af-455b-9794-1cfdd055141d",
   "metadata": {},
   "outputs": [],
   "source": [
    "primitives = (bool, str, int, float, type(None))\n",
    "\n",
    "def is_primitive(obj):\n",
    "    return isinstance(obj, primitives)"
   ]
  },
  {
   "cell_type": "code",
   "execution_count": 10,
   "id": "de45d045-fe95-477a-9d5a-c0c26f5b28a3",
   "metadata": {},
   "outputs": [],
   "source": [
    "def upload_mol(tx, mol:rdkit.Chem.rdchem.Mol, source, additional_properties=None):\n",
    "    assert isinstance(source, str), \"source must be str\"\n",
    "    # SOURCE\n",
    "    tx.run(f\"MERGE (:Source {{name: '{source}'}});\")\n",
    "\n",
    "    # MOLECULE\n",
    "    n_confs = mol.GetNumConformers()\n",
    "    props = {k:v for k,v in mol.GetPropsAsDict().items() if is_valid_fieldname(k) and is_primitive(v)}\n",
    "    _Name=mol.GetProp(\"_Name\")\n",
    "    props['_Name']=_Name\n",
    "    props['NumAtoms'] = mol.GetNumAtoms()\n",
    "    props['NumHeavyAtoms'] = mol.GetNumHeavyAtoms()\n",
    "    props['NumBonds'] = mol.GetNumBonds()\n",
    "    props['NumConformers'] = n_confs\n",
    "    \n",
    "    if n_confs==1:\n",
    "        conf=mol.GetConformer()\n",
    "        props = {**props, **{k:v for k,v in conf.GetPropsAsDict().items() if is_valid_fieldname(k) and is_primitive(v)}}\n",
    "\n",
    "    if isinstance(additional_properties, dict):\n",
    "        props = {**props, **{k:v for k,v in additional_properties.items() if is_valid_fieldname(k) and is_primitive(v)}}\n",
    "    \n",
    "    mol_props = \", \".join([f\"{key}: ${key}\" for key in props.keys()])\n",
    "    query = f\"MATCH (s:Source {{name: '{source}'}}) MERGE (m:Molecule {{{mol_props}}})-[:PART_OF]->(s);\"\n",
    "    tx.run(query, props)\n",
    "    \n",
    "    # ATOMS\n",
    "    for atom in (mol).GetAtoms():\n",
    "        props = {k:v for k,v in atom.GetPropsAsDict().items() if is_primitive(v)}\n",
    "        Idx=atom.GetIdx()\n",
    "        props['Idx']=Idx\n",
    "        props['Symbol']=atom.GetSymbol()\n",
    "        props['ChiralTag']=str(atom.GetChiralTag())\n",
    "        props['NumImplicitHs']=atom.GetNumImplicitHs()\n",
    "        if n_confs>1: raise Exception(\"what does >1 conformer even mean??!\")\n",
    "        elif n_confs==1:\n",
    "            pos=conf.GetAtomPosition(atom.GetIdx())\n",
    "            props['x']=pos.x\n",
    "            props['y']=pos.y\n",
    "            props['z']=pos.z\n",
    "        atom_props = \", \".join([f\"{key}: ${key}\" for key in props.keys()])\n",
    "        query = f\"MATCH (m: Molecule {{_Name: '{_Name}'}}) MERGE (a:Atom {{{atom_props}}})-[:PART_OF]->(m);\"\n",
    "        tx.run(query, props)\n",
    "\n",
    "    # BONDS\n",
    "    for bond in mol.GetBonds():\n",
    "        props = {k:v for k,v in bond.GetPropsAsDict().items() if is_primitive(v)}\n",
    "        props['Idx']=bond.GetIdx()\n",
    "        props['IsAromatic']=bond.GetIsAromatic()\n",
    "        props['IsConjugated']=bond.GetIsConjugated()\n",
    "        props['BondType']=str(bond.GetBondType())\n",
    "        props['Stereo']=str(bond.GetStereo())\n",
    "        orig=bond.GetBeginAtomIdx()\n",
    "        dest=bond.GetEndAtomIdx()\n",
    "        props['BeginAtomIdx']=orig\n",
    "        props['EndAtomIdx']=dest\n",
    "        bond_props = \", \".join([f\"{key}: ${key}\" for key in props.keys()])\n",
    "        query = f\"MATCH (orig:Atom {{Idx: {orig}}})-[:PART_OF]->(m: Molecule {{_Name: '{_Name}'}}), \\\n",
    "            (dest:Atom {{Idx: {dest}}})-[:PART_OF]->(m: Molecule {{_Name: '{_Name}'}}) \\\n",
    "            MERGE \\\n",
    "                (orig)-[:BOND {{{bond_props}}}]->(dest);\"\n",
    "        tx.run(query, props)"
   ]
  },
  {
   "cell_type": "code",
   "execution_count": 12,
   "id": "8b65b95f-4f3c-4734-a1ba-143f6561781c",
   "metadata": {},
   "outputs": [],
   "source": [
    "from typing import List, Iterable\n",
    "def upload_mols(tx, mols:Iterable[rdkit.Chem.rdchem.Mol], source, additional_properties:Iterable[dict]):\n",
    "    for mol,ap in (zip(mols, additional_properties)):\n",
    "        ret=upload_mol(tx, mol, source, ap)"
   ]
  },
  {
   "cell_type": "code",
   "execution_count": null,
   "id": "68bc319c-3c8c-40bb-8ac5-d63255ec7f50",
   "metadata": {},
   "outputs": [],
   "source": []
  },
  {
   "cell_type": "code",
   "execution_count": 25,
   "id": "9bd7e239-8b55-41d5-8b28-53304f3c82c0",
   "metadata": {},
   "outputs": [],
   "source": [
    "def create_indexes(tx):\n",
    "    # Creating an index on Atom properties\n",
    "    #tx.run(\"CREATE INDEX atom_index IF NOT EXISTS FOR (a:Atom) ON (a.Idx)\")\n",
    "    # we dont need this, according to chatgpt\n",
    "    # Creating an index on Molecule properties if molecules have specific identifiers\n",
    "    #tx.run(\"CREATE INDEX molecule_index IF NOT EXISTS FOR (m:Molecule) ON (m._Name)\")\n",
    "    # we dont need this^, according to chatgpt, \n",
    "    # if our queries are like these:\n",
    "    # MATCH (a:Atom)-[:PART_OF]->(m:Molecule)-[:PART_OF]->(s:Source {_Name: ...})\n",
    "    # RETURN a, m, s\n",
    "\n",
    "    \n",
    "    # Creating an index on Source properties if there are specific identifiers like 'name' or 'source_id'\n",
    "    tx.run(\"CREATE INDEX source_index IF NOT EXISTS FOR (s:Source) ON (s.name)\")"
   ]
  },
  {
   "cell_type": "code",
   "execution_count": 24,
   "id": "f6e54afa-aa78-48eb-9337-7a2d1e17384f",
   "metadata": {},
   "outputs": [],
   "source": [
    "\n",
    "with GraphDatabase.driver(URI, auth=AUTH) as driver:\n",
    "    with driver.session() as session:\n",
    "        session.execute_write(create_indexes)"
   ]
  },
  {
   "cell_type": "code",
   "execution_count": 24,
   "id": "bee2ecba-ffd9-4227-a4ff-9fe6bba45bef",
   "metadata": {},
   "outputs": [],
   "source": []
  },
  {
   "cell_type": "code",
   "execution_count": 26,
   "id": "c16e65c5-534e-42c5-8abe-84040b03bfca",
   "metadata": {},
   "outputs": [
    {
     "data": {
      "image/png": "[encoded data removed]",
      "text/plain": [
       "<rdkit.Chem.rdchem.Mol at 0x19bc824e880>"
      ]
     },
     "execution_count": 26,
     "metadata": {},
     "output_type": "execute_result"
    }
   ],
   "source": [
    "Chem.MolFromSmiles(\"CCN1C(CC2CC[NH2+]CC2)=NN(CCO)C1=O\")"
   ]
  },
  {
   "cell_type": "code",
   "execution_count": 13,
   "id": "85f8936e-4474-41ec-88a7-74581cf7d9c0",
   "metadata": {},
   "outputs": [
    {
     "name": "stdout",
     "output_type": "stream",
     "text": [
      "processing\n",
      "done\n",
      "processing\n",
      "done\n",
      "processing\n",
      "done\n",
      "processing\n",
      "done\n",
      "processing\n",
      "done\n",
      "processing\n",
      "done\n"
     ]
    }
   ],
   "source": [
    "\n",
    "# Use the driver\n",
    "with GraphDatabase.driver(URI, auth=AUTH) as driver:\n",
    "    with driver.session() as session:\n",
    "        for m in Chem.SDMolSupplier(\"./samples.sdf\"):\n",
    "            print(\"processing\")\n",
    "            session.execute_write(upload_mol, m, \"sample_gdb9\")\n",
    "            print(\"done\")\n",
    "        for m in Chem.SDMolSupplier(\"./example.mol\"):\n",
    "            print(\"processing\")\n",
    "            session.execute_write(upload_mol, m, \"example\")\n",
    "            print(\"done\")"
   ]
  },
  {
   "cell_type": "code",
   "execution_count": 22,
   "id": "9b87a234-94f2-4523-a385-6a2aa23c6ebb",
   "metadata": {},
   "outputs": [
    {
     "data": {
      "application/vnd.jupyter.widget-view+json": {
       "model_id": "19ca82ccebbf4ab9b94405c0f808f7b5",
       "version_major": 2,
       "version_minor": 0
      },
      "text/plain": [
       "  0%|          | 0/1000 [00:00<?, ?it/s]"
      ]
     },
     "metadata": {},
     "output_type": "display_data"
    }
   ],
   "source": [
    "import pandas as pd\n",
    "from tqdm.auto import tqdm\n",
    "\n",
    "def lazy_smiles_iterator(df):\n",
    "    for s in tqdm(df['smiles']):\n",
    "        m:Chem.rdchem.Mol = Chem.MolFromSmiles(s)\n",
    "        m.SetProp(\"_Name\",s)\n",
    "        yield m\n",
    "        \n",
    "def lazy_props_iterator(df):\n",
    "    for i,r in df.iterrows():\n",
    "        yield {\n",
    "            k:v for k,v in dict(r).items() if is_valid_fieldname(k) and is_primitive(v)\n",
    "        }\n",
    "        \n",
    "with GraphDatabase.driver(URI, auth=AUTH) as driver:\n",
    "    sourcefile=\"zinc_250k_10k.csv\"\n",
    "    zinc=pd.read_csv(sourcefile).iloc[:1000]\n",
    "    with driver.session() as session:\n",
    "        session.execute_write(\n",
    "            upload_mols, \n",
    "            lazy_smiles_iterator(zinc), \n",
    "            sourcefile, \n",
    "            lazy_props_iterator(zinc)\n",
    "        )"
   ]
  },
  {
   "cell_type": "code",
   "execution_count": 19,
   "id": "9dfa3963-718d-40ff-8c0d-8b6e2e53a01a",
   "metadata": {},
   "outputs": [
    {
     "data": {
      "application/vnd.jupyter.widget-view+json": {
       "model_id": "34446458dd504143ad28c79686136f88",
       "version_major": 2,
       "version_minor": 0
      },
      "text/plain": [
       "  0%|          | 0/10000 [00:00<?, ?it/s]"
      ]
     },
     "metadata": {},
     "output_type": "display_data"
    }
   ],
   "source": [
    "for m in lazy_smiles_iterator(pd.read_csv(\"zinc_250k_10k.csv\")):\n",
    "    pass"
   ]
  },
  {
   "cell_type": "code",
   "execution_count": 20,
   "id": "94ee9dee-4769-4d63-b99b-dfa0405a61ce",
   "metadata": {},
   "outputs": [
    {
     "data": {
      "image/png": "[encoded data removed]",
      "text/plain": [
       "<rdkit.Chem.rdchem.Mol at 0x19bca0b07b0>"
      ]
     },
     "execution_count": 20,
     "metadata": {},
     "output_type": "execute_result"
    }
   ],
   "source": [
    "m"
   ]
  },
  {
   "cell_type": "code",
   "execution_count": null,
   "id": "ab76429e-a14d-4b10-9526-e2dbcca7b2f1",
   "metadata": {
    "scrolled": true
   },
   "outputs": [],
   "source": [
    "tmp=Chem.MolFromSmiles(\"CC[C@H](C(=O)O)N[C@@H](CC1=CC=CC=C1)C(=O)[N-]\")\n",
    "tmp"
   ]
  },
  {
   "cell_type": "code",
   "execution_count": 156,
   "id": "f4f65910-d8fc-4775-8fa0-b069bf55a2e0",
   "metadata": {
    "scrolled": true
   },
   "outputs": [
    {
     "data": {
      "image/png": "[encoded data removed]",
      "text/plain": [
       "<rdkit.Chem.rdchem.Mol at 0x259c26da500>"
      ]
     },
     "metadata": {},
     "output_type": "display_data"
    },
    {
     "name": "stdout",
     "output_type": "stream",
     "text": [
      "=== MOL PROPS ===\n",
      "{}\n",
      "=== ATOMS PROPS ===\n",
      "{'_CIPRank': 0, 'Idx': 0, 'Symbol': 'C', 'ChiralTag': rdkit.Chem.rdchem.ChiralType.CHI_UNSPECIFIED, 'NumImplicitHs': 3}\n",
      "{'_CIPRank': 1, 'Idx': 1, 'Symbol': 'C', 'ChiralTag': rdkit.Chem.rdchem.ChiralType.CHI_UNSPECIFIED, 'NumImplicitHs': 2}\n",
      "{'_CIPRank': 8, '_ChiralityPossible': 1, '_CIPCode': 'R', 'Idx': 2, 'Symbol': 'C', 'ChiralTag': rdkit.Chem.rdchem.ChiralType.CHI_TETRAHEDRAL_CCW, 'NumImplicitHs': 0}\n",
      "{'_CIPRank': 10, 'Idx': 3, 'Symbol': 'C', 'ChiralTag': rdkit.Chem.rdchem.ChiralType.CHI_UNSPECIFIED, 'NumImplicitHs': 0}\n",
      "{'_CIPRank': 15, 'Idx': 4, 'Symbol': 'O', 'ChiralTag': rdkit.Chem.rdchem.ChiralType.CHI_UNSPECIFIED, 'NumImplicitHs': 0}\n",
      "{'_CIPRank': 13, 'Idx': 5, 'Symbol': 'O', 'ChiralTag': rdkit.Chem.rdchem.ChiralType.CHI_UNSPECIFIED, 'NumImplicitHs': 1}\n",
      "{'_CIPRank': 12, 'Idx': 6, 'Symbol': 'N', 'ChiralTag': rdkit.Chem.rdchem.ChiralType.CHI_UNSPECIFIED, 'NumImplicitHs': 1}\n",
      "{'_CIPRank': 7, '_ChiralityPossible': 1, '_CIPCode': 'S', 'Idx': 7, 'Symbol': 'C', 'ChiralTag': rdkit.Chem.rdchem.ChiralType.CHI_TETRAHEDRAL_CW, 'NumImplicitHs': 0}\n",
      "{'_CIPRank': 2, 'Idx': 8, 'Symbol': 'C', 'ChiralTag': rdkit.Chem.rdchem.ChiralType.CHI_UNSPECIFIED, 'NumImplicitHs': 2}\n",
      "{'_CIPRank': 6, 'Idx': 9, 'Symbol': 'C', 'ChiralTag': rdkit.Chem.rdchem.ChiralType.CHI_UNSPECIFIED, 'NumImplicitHs': 0}\n",
      "{'_CIPRank': 5, 'Idx': 10, 'Symbol': 'C', 'ChiralTag': rdkit.Chem.rdchem.ChiralType.CHI_UNSPECIFIED, 'NumImplicitHs': 1}\n",
      "{'_CIPRank': 4, 'Idx': 11, 'Symbol': 'C', 'ChiralTag': rdkit.Chem.rdchem.ChiralType.CHI_UNSPECIFIED, 'NumImplicitHs': 1}\n",
      "{'_CIPRank': 3, 'Idx': 12, 'Symbol': 'C', 'ChiralTag': rdkit.Chem.rdchem.ChiralType.CHI_UNSPECIFIED, 'NumImplicitHs': 1}\n",
      "{'_CIPRank': 4, 'Idx': 13, 'Symbol': 'C', 'ChiralTag': rdkit.Chem.rdchem.ChiralType.CHI_UNSPECIFIED, 'NumImplicitHs': 1}\n",
      "{'_CIPRank': 5, 'Idx': 14, 'Symbol': 'C', 'ChiralTag': rdkit.Chem.rdchem.ChiralType.CHI_UNSPECIFIED, 'NumImplicitHs': 1}\n",
      "{'_CIPRank': 9, 'Idx': 15, 'Symbol': 'C', 'ChiralTag': rdkit.Chem.rdchem.ChiralType.CHI_UNSPECIFIED, 'NumImplicitHs': 0}\n",
      "{'_CIPRank': 14, 'Idx': 16, 'Symbol': 'O', 'ChiralTag': rdkit.Chem.rdchem.ChiralType.CHI_UNSPECIFIED, 'NumImplicitHs': 0}\n",
      "{'_CIPRank': 11, 'Idx': 17, 'Symbol': 'N', 'ChiralTag': rdkit.Chem.rdchem.ChiralType.CHI_UNSPECIFIED, 'NumImplicitHs': 0}\n",
      "=== BONDS PROPS ===\n",
      "{'IsAromatic': False, 'IsConjugated': False, 'BondType': rdkit.Chem.rdchem.BondType.SINGLE, 'Stereo': rdkit.Chem.rdchem.BondStereo.STEREONONE, 'BeginAtomIdx': 0, 'EndAtomIdx': 1}\n",
      "{'IsAromatic': False, 'IsConjugated': False, 'BondType': rdkit.Chem.rdchem.BondType.SINGLE, 'Stereo': rdkit.Chem.rdchem.BondStereo.STEREONONE, 'BeginAtomIdx': 1, 'EndAtomIdx': 2}\n",
      "{'IsAromatic': False, 'IsConjugated': False, 'BondType': rdkit.Chem.rdchem.BondType.SINGLE, 'Stereo': rdkit.Chem.rdchem.BondStereo.STEREONONE, 'BeginAtomIdx': 2, 'EndAtomIdx': 3}\n",
      "{'IsAromatic': False, 'IsConjugated': True, 'BondType': rdkit.Chem.rdchem.BondType.DOUBLE, 'Stereo': rdkit.Chem.rdchem.BondStereo.STEREONONE, 'BeginAtomIdx': 3, 'EndAtomIdx': 4}\n",
      "{'IsAromatic': False, 'IsConjugated': True, 'BondType': rdkit.Chem.rdchem.BondType.SINGLE, 'Stereo': rdkit.Chem.rdchem.BondStereo.STEREONONE, 'BeginAtomIdx': 3, 'EndAtomIdx': 5}\n",
      "{'IsAromatic': False, 'IsConjugated': False, 'BondType': rdkit.Chem.rdchem.BondType.SINGLE, 'Stereo': rdkit.Chem.rdchem.BondStereo.STEREONONE, 'BeginAtomIdx': 2, 'EndAtomIdx': 6}\n",
      "{'IsAromatic': False, 'IsConjugated': False, 'BondType': rdkit.Chem.rdchem.BondType.SINGLE, 'Stereo': rdkit.Chem.rdchem.BondStereo.STEREONONE, 'BeginAtomIdx': 6, 'EndAtomIdx': 7}\n",
      "{'IsAromatic': False, 'IsConjugated': False, 'BondType': rdkit.Chem.rdchem.BondType.SINGLE, 'Stereo': rdkit.Chem.rdchem.BondStereo.STEREONONE, 'BeginAtomIdx': 7, 'EndAtomIdx': 8}\n",
      "{'IsAromatic': False, 'IsConjugated': False, 'BondType': rdkit.Chem.rdchem.BondType.SINGLE, 'Stereo': rdkit.Chem.rdchem.BondStereo.STEREONONE, 'BeginAtomIdx': 8, 'EndAtomIdx': 9}\n",
      "{'IsAromatic': True, 'IsConjugated': True, 'BondType': rdkit.Chem.rdchem.BondType.AROMATIC, 'Stereo': rdkit.Chem.rdchem.BondStereo.STEREONONE, 'BeginAtomIdx': 9, 'EndAtomIdx': 10}\n",
      "{'IsAromatic': True, 'IsConjugated': True, 'BondType': rdkit.Chem.rdchem.BondType.AROMATIC, 'Stereo': rdkit.Chem.rdchem.BondStereo.STEREONONE, 'BeginAtomIdx': 10, 'EndAtomIdx': 11}\n",
      "{'IsAromatic': True, 'IsConjugated': True, 'BondType': rdkit.Chem.rdchem.BondType.AROMATIC, 'Stereo': rdkit.Chem.rdchem.BondStereo.STEREONONE, 'BeginAtomIdx': 11, 'EndAtomIdx': 12}\n",
      "{'IsAromatic': True, 'IsConjugated': True, 'BondType': rdkit.Chem.rdchem.BondType.AROMATIC, 'Stereo': rdkit.Chem.rdchem.BondStereo.STEREONONE, 'BeginAtomIdx': 12, 'EndAtomIdx': 13}\n",
      "{'IsAromatic': True, 'IsConjugated': True, 'BondType': rdkit.Chem.rdchem.BondType.AROMATIC, 'Stereo': rdkit.Chem.rdchem.BondStereo.STEREONONE, 'BeginAtomIdx': 13, 'EndAtomIdx': 14}\n",
      "{'IsAromatic': False, 'IsConjugated': False, 'BondType': rdkit.Chem.rdchem.BondType.SINGLE, 'Stereo': rdkit.Chem.rdchem.BondStereo.STEREONONE, 'BeginAtomIdx': 7, 'EndAtomIdx': 15}\n",
      "{'IsAromatic': False, 'IsConjugated': True, 'BondType': rdkit.Chem.rdchem.BondType.DOUBLE, 'Stereo': rdkit.Chem.rdchem.BondStereo.STEREONONE, 'BeginAtomIdx': 15, 'EndAtomIdx': 16}\n",
      "{'IsAromatic': False, 'IsConjugated': True, 'BondType': rdkit.Chem.rdchem.BondType.SINGLE, 'Stereo': rdkit.Chem.rdchem.BondStereo.STEREONONE, 'BeginAtomIdx': 15, 'EndAtomIdx': 17}\n",
      "{'IsAromatic': True, 'IsConjugated': True, 'BondType': rdkit.Chem.rdchem.BondType.AROMATIC, 'Stereo': rdkit.Chem.rdchem.BondStereo.STEREONONE, 'BeginAtomIdx': 14, 'EndAtomIdx': 9}\n"
     ]
    }
   ],
   "source": [
    "print_mol_props(tmp)"
   ]
  },
  {
   "cell_type": "code",
   "execution_count": 189,
   "id": "52c73ddb-fc02-490f-952a-58adfc4c61e8",
   "metadata": {},
   "outputs": [
    {
     "name": "stdout",
     "output_type": "stream",
     "text": [
      "e\n"
     ]
    }
   ],
   "source": [
    "try:\n",
    "    mol.GetProp(\"_Namea\")\n",
    "except:\n",
    "    print(\"e\")"
   ]
  },
  {
   "cell_type": "code",
   "execution_count": 128,
   "id": "e53fe9c3-8ff4-4ce3-b164-5e28ef456823",
   "metadata": {},
   "outputs": [
    {
     "name": "stdout",
     "output_type": "stream",
     "text": [
      "C CHI_UNSPECIFIED 3 0 {'_CIPRank': 0}\n",
      "C CHI_UNSPECIFIED 2 0 {'_CIPRank': 1}\n",
      "C CHI_TETRAHEDRAL_CCW 0 0 {'_CIPRank': 8, '_ChiralityPossible': 1, '_CIPCode': 'R'}\n",
      "C CHI_UNSPECIFIED 0 0 {'_CIPRank': 10}\n",
      "O CHI_UNSPECIFIED 0 0 {'_CIPRank': 15}\n",
      "O CHI_UNSPECIFIED 1 0 {'_CIPRank': 13}\n",
      "N CHI_UNSPECIFIED 1 0 {'_CIPRank': 12}\n",
      "C CHI_TETRAHEDRAL_CW 0 0 {'_CIPRank': 7, '_ChiralityPossible': 1, '_CIPCode': 'S'}\n",
      "C CHI_UNSPECIFIED 2 0 {'_CIPRank': 2}\n",
      "C CHI_UNSPECIFIED 0 0 {'_CIPRank': 6}\n",
      "C CHI_UNSPECIFIED 1 0 {'_CIPRank': 5}\n",
      "C CHI_UNSPECIFIED 1 0 {'_CIPRank': 4}\n",
      "C CHI_UNSPECIFIED 1 0 {'_CIPRank': 3}\n",
      "C CHI_UNSPECIFIED 1 0 {'_CIPRank': 4}\n",
      "C CHI_UNSPECIFIED 1 0 {'_CIPRank': 5}\n",
      "C CHI_UNSPECIFIED 0 0 {'_CIPRank': 9}\n",
      "O CHI_UNSPECIFIED 0 0 {'_CIPRank': 14}\n",
      "N CHI_UNSPECIFIED 0 -1 {'_CIPRank': 11}\n"
     ]
    }
   ],
   "source": [
    "\n",
    "for atom in (tmp).GetAtoms():\n",
    "    props = {k:v for k,v in atom.GetPropsAsDict().items() if is_primitive(v)}\n",
    "    \n",
    "    n_confs = tmp.GetNumConformers()\n",
    "    props_conformer = {}\n",
    "    if n_confs>1: raise Exception(\"what does >1 conformer even mean??!\")\n",
    "    elif n_confs==1:\n",
    "        props_conformer = {k:v for k,v in conf.GetPropsAsDict().items() if is_primitive(v)}\n",
    "        conf=mol.GetConformer()\n",
    "        pos=conf.GetAtomPosition(atom.GetIdx())\n",
    "        props_conformer['x']=pos.x\n",
    "        props_conformer['y']=pos.y\n",
    "        props_conformer['z']=pos.z\n",
    "    props={**props, **props_conformer}\n",
    "    print(atom.GetSymbol(), atom.GetChiralTag(), atom.GetNumImplicitHs(), atom.GetFormalCharge(), props)"
   ]
  },
  {
   "cell_type": "code",
   "execution_count": 125,
   "id": "30177636-b73d-479a-b327-521c9bdf53f1",
   "metadata": {},
   "outputs": [
    {
     "data": {
      "text/plain": [
       "{'__computedProps': <rdkit.rdBase._vectclass std::basic_string<char,struct std::char_traits<char>,class std::allocator<char> > at 0x259c2455f40>,\n",
       " '_CIPRank': 11}"
      ]
     },
     "execution_count": 125,
     "metadata": {},
     "output_type": "execute_result"
    }
   ],
   "source": [
    "atom.GetPropsAsDict()"
   ]
  },
  {
   "cell_type": "code",
   "execution_count": 126,
   "id": "42fa8b0c-e7ed-46fa-a9a7-59e81d33bc73",
   "metadata": {},
   "outputs": [
    {
     "data": {
      "text/plain": [
       "{'_CIPRank': 11}"
      ]
     },
     "execution_count": 126,
     "metadata": {},
     "output_type": "execute_result"
    }
   ],
   "source": [
    "{k:v for k,v in atom.GetPropsAsDict().items() if is_primitive(v)}"
   ]
  },
  {
   "cell_type": "code",
   "execution_count": 36,
   "id": "f80653ca-4ab6-4874-b3fe-7f8a99e1ed33",
   "metadata": {},
   "outputs": [
    {
     "name": "stdout",
     "output_type": "stream",
     "text": [
      "N CHI_UNSPECIFIED 4\n",
      "H CHI_UNSPECIFIED 1\n",
      "H CHI_UNSPECIFIED 1\n",
      "H CHI_UNSPECIFIED 1\n",
      "H CHI_UNSPECIFIED 1\n"
     ]
    }
   ],
   "source": [
    "\n",
    "for a in Chem.AddHs(Chem.MolFromSmiles(\"[NH4+]\")).GetAtoms():\n",
    "    print(a.GetSymbol(), a.GetChiralTag(), a.GetExplicitValence(),)"
   ]
  },
  {
   "cell_type": "code",
   "execution_count": 93,
   "id": "f99a9758-128b-449d-afc8-8b5f3fb9cd60",
   "metadata": {},
   "outputs": [
    {
     "data": {
      "text/plain": [
       "1"
      ]
     },
     "execution_count": 93,
     "metadata": {},
     "output_type": "execute_result"
    }
   ],
   "source": [
    "mol.GetNumConformers()"
   ]
  },
  {
   "cell_type": "code",
   "execution_count": 157,
   "id": "497ea6d6-6950-4acd-93fd-83f4b9f6b2dc",
   "metadata": {},
   "outputs": [
    {
     "data": {
      "text/plain": [
       "rdkit.Chem.rdchem.Mol"
      ]
     },
     "execution_count": 157,
     "metadata": {},
     "output_type": "execute_result"
    }
   ],
   "source": [
    "type(tmp)"
   ]
  },
  {
   "cell_type": "code",
   "execution_count": 166,
   "id": "1b994ee1-8ff0-4a92-9018-493b0fed920d",
   "metadata": {},
   "outputs": [],
   "source": [
    "def print_mol_props(mol: rdkit.Chem.rdchem.Mol):\n",
    "    \n",
    "    display(mol)\n",
    "    print(\"=== MOL PROPS ===\")\n",
    "    n_confs = mol.GetNumConformers()\n",
    "    props = {k:v for k,v in mol.GetPropsAsDict().items() if is_primitive(v)}\n",
    "    props['NumAtoms'] = mol.GetNumAtoms()\n",
    "    props['NumHeavyAtoms'] = mol.GetNumHeavyAtoms()\n",
    "    props['NumBonds'] = mol.GetNumBonds()\n",
    "    props['NumConformers'] = n_confs\n",
    "    if n_confs==1:\n",
    "        conf=mol.GetConformer()\n",
    "        props = {**props, **{k:v for k,v in conf.GetPropsAsDict().items() if is_primitive(v)}}\n",
    "    print(props)\n",
    "    print(\"=== ATOMS PROPS ===\")\n",
    "    for atom in (mol).GetAtoms():\n",
    "        props = {k:v for k,v in atom.GetPropsAsDict().items() if is_primitive(v)}\n",
    "        props['Idx']=atom.GetIdx()\n",
    "        props['Symbol']=atom.GetSymbol()\n",
    "        props['ChiralTag']=atom.GetChiralTag()\n",
    "        props['NumImplicitHs']=atom.GetNumImplicitHs()\n",
    "        if n_confs>1: raise Exception(\"what does >1 conformer even mean??!\")\n",
    "        elif n_confs==1:\n",
    "            pos=conf.GetAtomPosition(atom.GetIdx())\n",
    "            props['x']=pos.x\n",
    "            props['y']=pos.y\n",
    "            props['z']=pos.z\n",
    "        print(props)\n",
    "    print(\"=== BONDS PROPS ===\")\n",
    "\n",
    "    for bond in mol.GetBonds():\n",
    "        props = {k:v for k,v in bond.GetPropsAsDict().items() if is_primitive(v)}\n",
    "        props['Idx']=atom.GetIdx()\n",
    "        props['IsAromatic']=bond.GetIsAromatic()\n",
    "        props['IsConjugated']=bond.GetIsConjugated()\n",
    "        props['BondType']=bond.GetBondType()\n",
    "        props['Stereo']=bond.GetStereo()\n",
    "        props['BeginAtomIdx']=bond.GetBeginAtomIdx()\n",
    "        props['EndAtomIdx']=bond.GetEndAtomIdx()\n",
    "        print(props)"
   ]
  },
  {
   "cell_type": "code",
   "execution_count": 167,
   "id": "96597fb3-4ee6-47df-8eeb-c54a701efd02",
   "metadata": {
    "scrolled": true
   },
   "outputs": [
    {
     "data": {
      "image/png": "[encoded data removed]",
      "text/plain": [
       "<rdkit.Chem.rdchem.Mol at 0x259c26da500>"
      ]
     },
     "metadata": {},
     "output_type": "display_data"
    },
    {
     "name": "stdout",
     "output_type": "stream",
     "text": [
      "=== MOL PROPS ===\n",
      "{'NumAtoms': 18, 'NumHeavyAtoms': 18, 'NumBonds': 18, 'NumConformers': 0}\n",
      "=== ATOMS PROPS ===\n",
      "{'_CIPRank': 0, 'Idx': 0, 'Symbol': 'C', 'ChiralTag': rdkit.Chem.rdchem.ChiralType.CHI_UNSPECIFIED, 'NumImplicitHs': 3}\n",
      "{'_CIPRank': 1, 'Idx': 1, 'Symbol': 'C', 'ChiralTag': rdkit.Chem.rdchem.ChiralType.CHI_UNSPECIFIED, 'NumImplicitHs': 2}\n",
      "{'_CIPRank': 8, '_ChiralityPossible': 1, '_CIPCode': 'R', 'Idx': 2, 'Symbol': 'C', 'ChiralTag': rdkit.Chem.rdchem.ChiralType.CHI_TETRAHEDRAL_CCW, 'NumImplicitHs': 0}\n",
      "{'_CIPRank': 10, 'Idx': 3, 'Symbol': 'C', 'ChiralTag': rdkit.Chem.rdchem.ChiralType.CHI_UNSPECIFIED, 'NumImplicitHs': 0}\n",
      "{'_CIPRank': 15, 'Idx': 4, 'Symbol': 'O', 'ChiralTag': rdkit.Chem.rdchem.ChiralType.CHI_UNSPECIFIED, 'NumImplicitHs': 0}\n",
      "{'_CIPRank': 13, 'Idx': 5, 'Symbol': 'O', 'ChiralTag': rdkit.Chem.rdchem.ChiralType.CHI_UNSPECIFIED, 'NumImplicitHs': 1}\n",
      "{'_CIPRank': 12, 'Idx': 6, 'Symbol': 'N', 'ChiralTag': rdkit.Chem.rdchem.ChiralType.CHI_UNSPECIFIED, 'NumImplicitHs': 1}\n",
      "{'_CIPRank': 7, '_ChiralityPossible': 1, '_CIPCode': 'S', 'Idx': 7, 'Symbol': 'C', 'ChiralTag': rdkit.Chem.rdchem.ChiralType.CHI_TETRAHEDRAL_CW, 'NumImplicitHs': 0}\n",
      "{'_CIPRank': 2, 'Idx': 8, 'Symbol': 'C', 'ChiralTag': rdkit.Chem.rdchem.ChiralType.CHI_UNSPECIFIED, 'NumImplicitHs': 2}\n",
      "{'_CIPRank': 6, 'Idx': 9, 'Symbol': 'C', 'ChiralTag': rdkit.Chem.rdchem.ChiralType.CHI_UNSPECIFIED, 'NumImplicitHs': 0}\n",
      "{'_CIPRank': 5, 'Idx': 10, 'Symbol': 'C', 'ChiralTag': rdkit.Chem.rdchem.ChiralType.CHI_UNSPECIFIED, 'NumImplicitHs': 1}\n",
      "{'_CIPRank': 4, 'Idx': 11, 'Symbol': 'C', 'ChiralTag': rdkit.Chem.rdchem.ChiralType.CHI_UNSPECIFIED, 'NumImplicitHs': 1}\n",
      "{'_CIPRank': 3, 'Idx': 12, 'Symbol': 'C', 'ChiralTag': rdkit.Chem.rdchem.ChiralType.CHI_UNSPECIFIED, 'NumImplicitHs': 1}\n",
      "{'_CIPRank': 4, 'Idx': 13, 'Symbol': 'C', 'ChiralTag': rdkit.Chem.rdchem.ChiralType.CHI_UNSPECIFIED, 'NumImplicitHs': 1}\n",
      "{'_CIPRank': 5, 'Idx': 14, 'Symbol': 'C', 'ChiralTag': rdkit.Chem.rdchem.ChiralType.CHI_UNSPECIFIED, 'NumImplicitHs': 1}\n",
      "{'_CIPRank': 9, 'Idx': 15, 'Symbol': 'C', 'ChiralTag': rdkit.Chem.rdchem.ChiralType.CHI_UNSPECIFIED, 'NumImplicitHs': 0}\n",
      "{'_CIPRank': 14, 'Idx': 16, 'Symbol': 'O', 'ChiralTag': rdkit.Chem.rdchem.ChiralType.CHI_UNSPECIFIED, 'NumImplicitHs': 0}\n",
      "{'_CIPRank': 11, 'Idx': 17, 'Symbol': 'N', 'ChiralTag': rdkit.Chem.rdchem.ChiralType.CHI_UNSPECIFIED, 'NumImplicitHs': 0}\n",
      "=== BONDS PROPS ===\n",
      "{'Idx': 17, 'IsAromatic': False, 'IsConjugated': False, 'BondType': rdkit.Chem.rdchem.BondType.SINGLE, 'Stereo': rdkit.Chem.rdchem.BondStereo.STEREONONE, 'BeginAtomIdx': 0, 'EndAtomIdx': 1}\n",
      "{'Idx': 17, 'IsAromatic': False, 'IsConjugated': False, 'BondType': rdkit.Chem.rdchem.BondType.SINGLE, 'Stereo': rdkit.Chem.rdchem.BondStereo.STEREONONE, 'BeginAtomIdx': 1, 'EndAtomIdx': 2}\n",
      "{'Idx': 17, 'IsAromatic': False, 'IsConjugated': False, 'BondType': rdkit.Chem.rdchem.BondType.SINGLE, 'Stereo': rdkit.Chem.rdchem.BondStereo.STEREONONE, 'BeginAtomIdx': 2, 'EndAtomIdx': 3}\n",
      "{'Idx': 17, 'IsAromatic': False, 'IsConjugated': True, 'BondType': rdkit.Chem.rdchem.BondType.DOUBLE, 'Stereo': rdkit.Chem.rdchem.BondStereo.STEREONONE, 'BeginAtomIdx': 3, 'EndAtomIdx': 4}\n",
      "{'Idx': 17, 'IsAromatic': False, 'IsConjugated': True, 'BondType': rdkit.Chem.rdchem.BondType.SINGLE, 'Stereo': rdkit.Chem.rdchem.BondStereo.STEREONONE, 'BeginAtomIdx': 3, 'EndAtomIdx': 5}\n",
      "{'Idx': 17, 'IsAromatic': False, 'IsConjugated': False, 'BondType': rdkit.Chem.rdchem.BondType.SINGLE, 'Stereo': rdkit.Chem.rdchem.BondStereo.STEREONONE, 'BeginAtomIdx': 2, 'EndAtomIdx': 6}\n",
      "{'Idx': 17, 'IsAromatic': False, 'IsConjugated': False, 'BondType': rdkit.Chem.rdchem.BondType.SINGLE, 'Stereo': rdkit.Chem.rdchem.BondStereo.STEREONONE, 'BeginAtomIdx': 6, 'EndAtomIdx': 7}\n",
      "{'Idx': 17, 'IsAromatic': False, 'IsConjugated': False, 'BondType': rdkit.Chem.rdchem.BondType.SINGLE, 'Stereo': rdkit.Chem.rdchem.BondStereo.STEREONONE, 'BeginAtomIdx': 7, 'EndAtomIdx': 8}\n",
      "{'Idx': 17, 'IsAromatic': False, 'IsConjugated': False, 'BondType': rdkit.Chem.rdchem.BondType.SINGLE, 'Stereo': rdkit.Chem.rdchem.BondStereo.STEREONONE, 'BeginAtomIdx': 8, 'EndAtomIdx': 9}\n",
      "{'Idx': 17, 'IsAromatic': True, 'IsConjugated': True, 'BondType': rdkit.Chem.rdchem.BondType.AROMATIC, 'Stereo': rdkit.Chem.rdchem.BondStereo.STEREONONE, 'BeginAtomIdx': 9, 'EndAtomIdx': 10}\n",
      "{'Idx': 17, 'IsAromatic': True, 'IsConjugated': True, 'BondType': rdkit.Chem.rdchem.BondType.AROMATIC, 'Stereo': rdkit.Chem.rdchem.BondStereo.STEREONONE, 'BeginAtomIdx': 10, 'EndAtomIdx': 11}\n",
      "{'Idx': 17, 'IsAromatic': True, 'IsConjugated': True, 'BondType': rdkit.Chem.rdchem.BondType.AROMATIC, 'Stereo': rdkit.Chem.rdchem.BondStereo.STEREONONE, 'BeginAtomIdx': 11, 'EndAtomIdx': 12}\n",
      "{'Idx': 17, 'IsAromatic': True, 'IsConjugated': True, 'BondType': rdkit.Chem.rdchem.BondType.AROMATIC, 'Stereo': rdkit.Chem.rdchem.BondStereo.STEREONONE, 'BeginAtomIdx': 12, 'EndAtomIdx': 13}\n",
      "{'Idx': 17, 'IsAromatic': True, 'IsConjugated': True, 'BondType': rdkit.Chem.rdchem.BondType.AROMATIC, 'Stereo': rdkit.Chem.rdchem.BondStereo.STEREONONE, 'BeginAtomIdx': 13, 'EndAtomIdx': 14}\n",
      "{'Idx': 17, 'IsAromatic': False, 'IsConjugated': False, 'BondType': rdkit.Chem.rdchem.BondType.SINGLE, 'Stereo': rdkit.Chem.rdchem.BondStereo.STEREONONE, 'BeginAtomIdx': 7, 'EndAtomIdx': 15}\n",
      "{'Idx': 17, 'IsAromatic': False, 'IsConjugated': True, 'BondType': rdkit.Chem.rdchem.BondType.DOUBLE, 'Stereo': rdkit.Chem.rdchem.BondStereo.STEREONONE, 'BeginAtomIdx': 15, 'EndAtomIdx': 16}\n",
      "{'Idx': 17, 'IsAromatic': False, 'IsConjugated': True, 'BondType': rdkit.Chem.rdchem.BondType.SINGLE, 'Stereo': rdkit.Chem.rdchem.BondStereo.STEREONONE, 'BeginAtomIdx': 15, 'EndAtomIdx': 17}\n",
      "{'Idx': 17, 'IsAromatic': True, 'IsConjugated': True, 'BondType': rdkit.Chem.rdchem.BondType.AROMATIC, 'Stereo': rdkit.Chem.rdchem.BondStereo.STEREONONE, 'BeginAtomIdx': 14, 'EndAtomIdx': 9}\n"
     ]
    }
   ],
   "source": [
    "print_mol_props(tmp)"
   ]
  },
  {
   "cell_type": "code",
   "execution_count": 177,
   "id": "3be59df8-3523-4965-a1bc-c021a8552c96",
   "metadata": {},
   "outputs": [
    {
     "data": {
      "text/plain": [
       "'470\\n  -OEChem-03231300073D\\n\\n 18 17  0     1  0  0  0  0  0999 V2000\\n    1.0306    1.6399   -0.7243 O   0  0  0  0  0  0  0  0  0  0  0  0\\n    1.8454    0.5515    1.0905 O   0  0  0  0  0  0  0  0  0  0  0  0\\n    1.2894   -1.8469   -0.1464 N   0  0  0  0  0  0  0  0  0  0  0  0\\n   -3.1271    0.2139    0.3789 N   0  0  0  0  0  0  0  0  0  0  0  0\\n   -0.9234   -0.8189    0.0722 C   0  0  0  0  0  0  0  0  0  0  0  0\\n    0.4864   -0.6787   -0.5160 C   0  0  1  0  0  0  0  0  0  0  0  0\\n   -1.8029    0.4035   -0.2036 C   0  0  0  0  0  0  0  0  0  0  0  0\\n    1.2016    0.5357    0.0487 C   0  0  0  0  0  0  0  0  0  0  0  0\\n   -1.4018   -1.7164   -0.3424 H   0  0  0  0  0  0  0  0  0  0  0  0\\n   -0.8579   -0.9676    1.1593 H   0  0  0  0  0  0  0  0  0  0  0  0\\n    0.4512   -0.6051   -1.6086 H   0  0  0  0  0  0  0  0  0  0  0  0\\n   -1.3711    1.3052    0.2400 H   0  0  0  0  0  0  0  0  0  0  0  0\\n   -1.8971    0.5673   -1.2825 H   0  0  0  0  0  0  0  0  0  0  0  0\\n    2.1982   -1.7955   -0.6058 H   0  0  0  0  0  0  0  0  0  0  0  0\\n    0.8424   -2.6929   -0.4982 H   0  0  0  0  0  0  0  0  0  0  0  0\\n   -3.5711   -0.6038   -0.0372 H   0  0  0  0  0  0  0  0  0  0  0  0\\n   -3.7172    1.0105    0.1425 H   0  0  0  0  0  0  0  0  0  0  0  0\\n    1.4839    2.4238   -0.3471 H   0  0  0  0  0  0  0  0  0  0  0  0\\n  1  8  1  0  0  0  0\\n  1 18  1  0  0  0  0\\n  2  8  2  0  0  0  0\\n  3  6  1  0  0  0  0\\n  3 14  1  0  0  0  0\\n  3 15  1  0  0  0  0\\n  4  7  1  0  0  0  0\\n  4 16  1  0  0  0  0\\n  4 17  1  0  0  0  0\\n  5  6  1  0  0  0  0\\n  5  7  1  0  0  0  0\\n  5  9  1  0  0  0  0\\n  5 10  1  0  0  0  0\\n  6  8  1  0  0  0  0\\n  6 11  1  0  0  0  0\\n  7 12  1  0  0  0  0\\n  7 13  1  0  0  0  0\\nM  END\\n> <PUBCHEM_COMPOUND_CID>\\n470\\n$$$$'"
      ]
     },
     "execution_count": 177,
     "metadata": {},
     "output_type": "execute_result"
    }
   ],
   "source": [
    "suppl.GetItemText(0)"
   ]
  },
  {
   "cell_type": "code",
   "execution_count": 178,
   "id": "033d1265-41a6-46bb-a763-549a5054dac3",
   "metadata": {},
   "outputs": [
    {
     "data": {
      "image/png": "[encoded data removed]",
      "text/html": [
       "<table><tr><td colspan=\"2\" style=\"text-align: center;\"><image src=\"data:image/png;base64,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\"></td></tr>\n",
       "<tr><th style=\"text-align: right\">PUBCHEM_COMPOUND_CID</th><td style=\"text-align: left\">470\n",
       "$$$$</td></tr></table>"
      ],
      "text/plain": [
       "<rdkit.Chem.rdchem.Mol at 0x259c2687a70>"
      ]
     },
     "metadata": {},
     "output_type": "display_data"
    },
    {
     "name": "stdout",
     "output_type": "stream",
     "text": [
      "=== MOL PROPS ===\n",
      "{'PUBCHEM_COMPOUND_CID': '470\\n$$$$', 'NumAtoms': 8, 'NumHeavyAtoms': 8, 'NumBonds': 7, 'NumConformers': 1}\n",
      "=== ATOMS PROPS ===\n",
      "{'_CIPRank': 6, 'Idx': 0, 'Symbol': 'O', 'ChiralTag': rdkit.Chem.rdchem.ChiralType.CHI_UNSPECIFIED, 'NumImplicitHs': 1, 'x': 1.0306, 'y': 1.6399, 'z': -0.7243}\n",
      "{'_CIPRank': 7, 'Idx': 1, 'Symbol': 'O', 'ChiralTag': rdkit.Chem.rdchem.ChiralType.CHI_UNSPECIFIED, 'NumImplicitHs': 0, 'x': 1.8454, 'y': 0.5515, 'z': 1.0905}\n",
      "{'_CIPRank': 5, 'Idx': 2, 'Symbol': 'N', 'ChiralTag': rdkit.Chem.rdchem.ChiralType.CHI_UNSPECIFIED, 'NumImplicitHs': 2, 'x': 1.2894, 'y': -1.8469, 'z': -0.1464}\n",
      "{'_CIPRank': 4, 'Idx': 3, 'Symbol': 'N', 'ChiralTag': rdkit.Chem.rdchem.ChiralType.CHI_UNSPECIFIED, 'NumImplicitHs': 2, 'x': -3.1271, 'y': 0.2139, 'z': 0.3789}\n",
      "{'_CIPRank': 0, 'Idx': 4, 'Symbol': 'C', 'ChiralTag': rdkit.Chem.rdchem.ChiralType.CHI_UNSPECIFIED, 'NumImplicitHs': 0, 'x': -0.9234, 'y': -0.8189, 'z': 0.0722}\n",
      "{'molParity': 1, '_CIPRank': 2, '_ChiralityPossible': 1, '_CIPCode': 'S', 'Idx': 5, 'Symbol': 'C', 'ChiralTag': rdkit.Chem.rdchem.ChiralType.CHI_TETRAHEDRAL_CW, 'NumImplicitHs': 0, 'x': 0.4864, 'y': -0.6787, 'z': -0.516}\n",
      "{'_CIPRank': 1, 'Idx': 6, 'Symbol': 'C', 'ChiralTag': rdkit.Chem.rdchem.ChiralType.CHI_UNSPECIFIED, 'NumImplicitHs': 0, 'x': -1.8029, 'y': 0.4035, 'z': -0.2036}\n",
      "{'_CIPRank': 3, 'Idx': 7, 'Symbol': 'C', 'ChiralTag': rdkit.Chem.rdchem.ChiralType.CHI_UNSPECIFIED, 'NumImplicitHs': 0, 'x': 1.2016, 'y': 0.5357, 'z': 0.0487}\n",
      "=== BONDS PROPS ===\n",
      "{'_MolFileBondType': 1, 'Idx': 7, 'IsAromatic': False, 'IsConjugated': True, 'BondType': rdkit.Chem.rdchem.BondType.SINGLE, 'Stereo': rdkit.Chem.rdchem.BondStereo.STEREONONE, 'BeginAtomIdx': 0, 'EndAtomIdx': 7}\n",
      "{'_MolFileBondType': 2, 'Idx': 7, 'IsAromatic': False, 'IsConjugated': True, 'BondType': rdkit.Chem.rdchem.BondType.DOUBLE, 'Stereo': rdkit.Chem.rdchem.BondStereo.STEREONONE, 'BeginAtomIdx': 1, 'EndAtomIdx': 7}\n",
      "{'_MolFileBondType': 1, 'Idx': 7, 'IsAromatic': False, 'IsConjugated': False, 'BondType': rdkit.Chem.rdchem.BondType.SINGLE, 'Stereo': rdkit.Chem.rdchem.BondStereo.STEREONONE, 'BeginAtomIdx': 2, 'EndAtomIdx': 5}\n",
      "{'_MolFileBondType': 1, 'Idx': 7, 'IsAromatic': False, 'IsConjugated': False, 'BondType': rdkit.Chem.rdchem.BondType.SINGLE, 'Stereo': rdkit.Chem.rdchem.BondStereo.STEREONONE, 'BeginAtomIdx': 3, 'EndAtomIdx': 6}\n",
      "{'_MolFileBondType': 1, 'Idx': 7, 'IsAromatic': False, 'IsConjugated': False, 'BondType': rdkit.Chem.rdchem.BondType.SINGLE, 'Stereo': rdkit.Chem.rdchem.BondStereo.STEREONONE, 'BeginAtomIdx': 4, 'EndAtomIdx': 5}\n",
      "{'_MolFileBondType': 1, 'Idx': 7, 'IsAromatic': False, 'IsConjugated': False, 'BondType': rdkit.Chem.rdchem.BondType.SINGLE, 'Stereo': rdkit.Chem.rdchem.BondStereo.STEREONONE, 'BeginAtomIdx': 4, 'EndAtomIdx': 6}\n",
      "{'_MolFileBondType': 1, 'Idx': 7, 'IsAromatic': False, 'IsConjugated': False, 'BondType': rdkit.Chem.rdchem.BondType.SINGLE, 'Stereo': rdkit.Chem.rdchem.BondStereo.STEREONONE, 'BeginAtomIdx': 5, 'EndAtomIdx': 7}\n"
     ]
    }
   ],
   "source": [
    "suppl=(Chem.SDMolSupplier(\"example.mol\"))\n",
    "for mol in suppl:\n",
    "    print_mol_props(mol)"
   ]
  },
  {
   "cell_type": "code",
   "execution_count": 185,
   "id": "0c51ee4e-912b-4743-894f-66c6ceee1692",
   "metadata": {},
   "outputs": [
    {
     "data": {
      "text/plain": [
       "'470'"
      ]
     },
     "execution_count": 185,
     "metadata": {},
     "output_type": "execute_result"
    }
   ],
   "source": []
  },
  {
   "cell_type": "code",
   "execution_count": 50,
   "id": "e00941b4-d1d4-496a-98fe-b3c46d332637",
   "metadata": {},
   "outputs": [
    {
     "data": {
      "text/plain": [
       "('N', rdkit.Chem.rdchem.ChiralType.CHI_UNSPECIFIED, 1)"
      ]
     },
     "execution_count": 50,
     "metadata": {},
     "output_type": "execute_result"
    }
   ],
   "source": [
    "atom=mol.GetAtomWithIdx(2)\n",
    "(atom.GetSymbol(), atom.GetChiralTag(), atom.GetExplicitValence(),)"
   ]
  },
  {
   "cell_type": "code",
   "execution_count": 18,
   "id": "2de3c0e9-6b5c-4614-b8eb-321ba30ee1b4",
   "metadata": {},
   "outputs": [
    {
     "data": {
      "image/png": "[encoded data removed]",
      "text/plain": [
       "<rdkit.Chem.rdchem.Mol at 0x259c115a490>"
      ]
     },
     "execution_count": 18,
     "metadata": {},
     "output_type": "execute_result"
    }
   ],
   "source": [
    "Chem.MolFromSmiles(\"[NH4+]\")"
   ]
  },
  {
   "cell_type": "code",
   "execution_count": 36,
   "id": "db345be7-c077-41dc-b9db-c7a42e298070",
   "metadata": {
    "scrolled": true
   },
   "outputs": [
    {
     "data": {
      "text/plain": [
       "[{'n': {'software': '-OEChem-03231823243D',\n",
       "   'id': 'gdb_1',\n",
       "   'version': 'V2000'}},\n",
       " {'n': {'software': '-OEChem-03231823233D',\n",
       "   'id': 'gdb_2',\n",
       "   'version': 'V2000'}},\n",
       " {'n': {'software': '-OEChem-03231823243D',\n",
       "   'id': 'gdb_3',\n",
       "   'version': 'V2000'}},\n",
       " {'n': {'software': '-OEChem-03231823253D',\n",
       "   'id': 'gdb_4',\n",
       "   'version': 'V2000'}},\n",
       " {'n': {'software': 'ChemDraw2024',\n",
       "   'LogP': '0.83',\n",
       "   'id': 'CO2',\n",
       "   'version': 'V2000'}}]"
      ]
     },
     "metadata": {},
     "output_type": "display_data"
    }
   ],
   "source": [
    "\n",
    "with GraphDatabase.driver(URI, auth=AUTH) as driver:\n",
    "    with driver.session() as session:\n",
    "        display(session.run(\"MATCH (n:Molecule)-[:PART_OF]->(s:Source) return n\").data())"
   ]
  },
  {
   "cell_type": "code",
   "execution_count": 95,
   "id": "a62250f9-f34c-438b-8b02-c35155e5651c",
   "metadata": {},
   "outputs": [],
   "source": [
    "\n",
    "with GraphDatabase.driver(URI, auth=AUTH) as driver:\n",
    "    with driver.session() as session:\n",
    "        result=(session.run(\"MATCH (a:Atom)-[b:BOND]->(a2:Atom)-[:PART_OF]->(m:Molecule{id:'CO2'}) return a,b,a2\"))\n",
    "        for row in result:\n",
    "            out=(row['b'])"
   ]
  },
  {
   "cell_type": "code",
   "execution_count": 96,
   "id": "7f643ef9-adcf-4b2f-b6d1-f4c17a38e581",
   "metadata": {},
   "outputs": [
    {
     "data": {
      "text/plain": [
       "{'bond_stereo': 'Use_coordinates', 'id': 'bond1', 'bond_type': 'Double'}"
      ]
     },
     "execution_count": 96,
     "metadata": {},
     "output_type": "execute_result"
    }
   ],
   "source": [
    "dict(out)"
   ]
  },
  {
   "cell_type": "code",
   "execution_count": null,
   "id": "f89bf7f3-13cb-46ef-b274-b32856462cda",
   "metadata": {},
   "outputs": [],
   "source": []
  },
  {
   "cell_type": "code",
   "execution_count": 52,
   "id": "5ace0fae-8839-402f-9f27-778f270e8049",
   "metadata": {},
   "outputs": [
    {
     "data": {
      "text/plain": [
       "({'symbol': 'C',\n",
       "  'charge': 'outside_limits',\n",
       "  'stereo_parity': 'not_stereo',\n",
       "  'mass_diff': '0',\n",
       "  'x': -0.72,\n",
       "  'y': 0.0,\n",
       "  'valence': 'no marking',\n",
       "  'z': 0.0,\n",
       "  'id': 'atom1'},\n",
       " 'BOND',\n",
       " {'symbol': 'O',\n",
       "  'charge': 'outside_limits',\n",
       "  'stereo_parity': 'not_stereo',\n",
       "  'mass_diff': '0',\n",
       "  'x': 0.72,\n",
       "  'y': 0.0,\n",
       "  'valence': 'no marking',\n",
       "  'z': 0.0,\n",
       "  'id': 'atom2'})"
      ]
     },
     "execution_count": 52,
     "metadata": {},
     "output_type": "execute_result"
    }
   ],
   "source": [
    "tmp[0]['b']"
   ]
  },
  {
   "cell_type": "code",
   "execution_count": 74,
   "id": "fe2274c4-7cc0-4855-ac44-2545dbcb6b38",
   "metadata": {},
   "outputs": [
    {
     "name": "stdout",
     "output_type": "stream",
     "text": [
      "1\n",
      "2\n",
      "2\n",
      "1\n",
      "21\n",
      "\n",
      "took 3.0773708820343018 seconds\n"
     ]
    }
   ],
   "source": [
    "import threading\n",
    "from time import sleep, time\n",
    "sem = threading.Semaphore(2)\n",
    "def fun1():\n",
    "    n=3\n",
    "    while n>0:\n",
    "        sleep(0.00000001)\n",
    "        with sem:\n",
    "            n-=1\n",
    "            print(1)\n",
    "            sleep(1)\n",
    "\n",
    "def fun2():\n",
    "    n=3\n",
    "    while n>0:\n",
    "        sleep(0.00000001)\n",
    "        with sem:\n",
    "            n-=1\n",
    "            print(2)\n",
    "            sleep(1)\n",
    "start=time()\n",
    "t = threading.Thread(target = fun1)\n",
    "t.start()\n",
    "t2 = threading.Thread(target = fun2)\n",
    "t2.start()\n",
    "t.join()\n",
    "t2.join()\n",
    "print(\"took\",time()-start,\"seconds\")"
   ]
  },
  {
   "cell_type": "code",
   "execution_count": null,
   "id": "01c9c62f-56f5-4585-a792-677b9bf8aae9",
   "metadata": {},
   "outputs": [],
   "source": []
  }
 ],
 "metadata": {
  "kernelspec": {
   "display_name": "Python 3 (ipykernel)",
   "language": "python",
   "name": "python3"
  },
  "language_info": {
   "codemirror_mode": {
    "name": "ipython",
    "version": 3
   },
   "file_extension": ".py",
   "mimetype": "text/x-python",
   "name": "python",
   "nbconvert_exporter": "python",
   "pygments_lexer": "ipython3",
   "version": "3.10.14"
  }
 },
 "nbformat": 4,
 "nbformat_minor": 5
}
