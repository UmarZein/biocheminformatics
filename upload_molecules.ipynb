{
 "cells": [
  {
   "cell_type": "code",
   "execution_count": 1,
   "id": "d3a81544-b753-4983-9c02-91e3181b1e3e",
   "metadata": {},
   "outputs": [],
   "source": [
    "from pprint import pprint\n",
    "from convertmol import parse_sdf_file, bond_type_dict, single_bond_stereo_dict, double_bond_stereo_dict\n",
    "from torch_geometric.data import Data\n",
    "from torch_geometric.nn import *\n",
    "from torch_geometric.utils import to_dense_adj, to_dense_batch, add_self_loops\n",
    "from torch_geometric.nn.conv import MessagePassing\n",
    "import torch\n",
    "from torch import nn\n",
    "import rdkit\n",
    "from tqdm import tqdm\n",
    "import itertools\n",
    "from rdkit import Chem\n",
    "import pandas as pd\n",
    "from importlib import reload\n",
    "import matplotlib.pyplot as plt\n",
    "from rdkit import RDLogger\n",
    "from copy import deepcopy\n",
    "from torch.utils.data import Dataset, DataLoader\n",
    "# Suppress RDKit warnings\n",
    "RDLogger.DisableLog('rdApp.*')\n",
    "import sascorer\n",
    "torch.set_default_device('cpu:0')#'cuda'"
   ]
  },
  {
   "cell_type": "code",
   "execution_count": 2,
   "id": "e8b18006-057b-4cbd-93dd-9ac003e8c206",
   "metadata": {},
   "outputs": [],
   "source": [
    "from neo4j import GraphDatabase, RoutingControl\n",
    "\n",
    "\n",
    "URI = \"bolt://localhost:7687\"\n",
    "AUTH = (\"neo4j\", \"password\")"
   ]
  },
  {
   "cell_type": "code",
   "execution_count": 3,
   "id": "5cef7811-4a8f-4006-a7d7-1d95199dfdd2",
   "metadata": {},
   "outputs": [
    {
     "data": {
      "text/plain": [
       "<module 'convertmol' from 'C:\\\\Users\\\\umarzein\\\\Desktop\\\\biocheminformatics\\\\convertmol.py'>"
      ]
     },
     "execution_count": 3,
     "metadata": {},
     "output_type": "execute_result"
    }
   ],
   "source": [
    "import convertmol\n",
    "import importlib\n",
    "importlib.reload(convertmol)"
   ]
  },
  {
   "cell_type": "code",
   "execution_count": 6,
   "id": "8e10a262-b72a-4aaf-9162-50790a17b5cf",
   "metadata": {},
   "outputs": [],
   "source": [
    "import uuid"
   ]
  },
  {
   "cell_type": "code",
   "execution_count": 8,
   "id": "81ab72a4-b121-4c3f-b7fe-6bde03223b62",
   "metadata": {},
   "outputs": [],
   "source": [
    "import re\n",
    "invalid_key=re.compile(r'[^\\w.-]')\n",
    "def is_valid_fieldname(fieldname):\n",
    "    return re.search(invalid_key, fieldname) is None"
   ]
  },
  {
   "cell_type": "code",
   "execution_count": 9,
   "id": "f5d302e5-76af-455b-9794-1cfdd055141d",
   "metadata": {},
   "outputs": [],
   "source": [
    "primitives = (bool, str, int, float, type(None))\n",
    "\n",
    "def is_primitive(obj):\n",
    "    return isinstance(obj, primitives)"
   ]
  },
  {
   "cell_type": "code",
   "execution_count": 10,
   "id": "de45d045-fe95-477a-9d5a-c0c26f5b28a3",
   "metadata": {},
   "outputs": [],
   "source": [
    "def upload_mol(tx, mol:rdkit.Chem.rdchem.Mol, source, additional_properties=None):\n",
    "    assert isinstance(source, str), \"source must be str\"\n",
    "    # SOURCE\n",
    "    tx.run(f\"MERGE (:Source {{name: '{source}'}});\")\n",
    "\n",
    "    # MOLECULE\n",
    "    n_confs = mol.GetNumConformers()\n",
    "    props = {k:v for k,v in mol.GetPropsAsDict().items() if is_valid_fieldname(k) and is_primitive(v)}\n",
    "    _Name=mol.GetProp(\"_Name\")\n",
    "    props['_Name']=_Name\n",
    "    props['NumAtoms'] = mol.GetNumAtoms()\n",
    "    props['NumHeavyAtoms'] = mol.GetNumHeavyAtoms()\n",
    "    props['NumBonds'] = mol.GetNumBonds()\n",
    "    props['NumConformers'] = n_confs\n",
    "    \n",
    "    if n_confs==1:\n",
    "        conf=mol.GetConformer()\n",
    "        props = {**props, **{k:v for k,v in conf.GetPropsAsDict().items() if is_valid_fieldname(k) and is_primitive(v)}}\n",
    "\n",
    "    if isinstance(additional_properties, dict):\n",
    "        props = {**props, **{k:v for k,v in additional_properties.items() if is_valid_fieldname(k) and is_primitive(v)}}\n",
    "    \n",
    "    mol_props = \", \".join([f\"{key}: ${key}\" for key in props.keys()])\n",
    "    query = f\"MATCH (s:Source {{name: '{source}'}}) MERGE (m:Molecule {{{mol_props}}})-[:PART_OF]->(s);\"\n",
    "    tx.run(query, props)\n",
    "    \n",
    "    # ATOMS\n",
    "    for atom in (mol).GetAtoms():\n",
    "        props = {k:v for k,v in atom.GetPropsAsDict().items() if is_primitive(v)}\n",
    "        Idx=atom.GetIdx()\n",
    "        props['Idx']=Idx\n",
    "        props['Symbol']=atom.GetSymbol()\n",
    "        props['ChiralTag']=str(atom.GetChiralTag())\n",
    "        props['NumImplicitHs']=atom.GetNumImplicitHs()\n",
    "        if n_confs>1: raise Exception(\"what does >1 conformer even mean??!\")\n",
    "        elif n_confs==1:\n",
    "            pos=conf.GetAtomPosition(atom.GetIdx())\n",
    "            props['x']=pos.x\n",
    "            props['y']=pos.y\n",
    "            props['z']=pos.z\n",
    "        atom_props = \", \".join([f\"{key}: ${key}\" for key in props.keys()])\n",
    "        query = f\"MATCH (m: Molecule {{_Name: '{_Name}'}}) MERGE (a:Atom {{{atom_props}}})-[:PART_OF]->(m);\"\n",
    "        tx.run(query, props)\n",
    "\n",
    "    # BONDS\n",
    "    for bond in mol.GetBonds():\n",
    "        props = {k:v for k,v in bond.GetPropsAsDict().items() if is_primitive(v)}\n",
    "        props['Idx']=bond.GetIdx()\n",
    "        props['IsAromatic']=bond.GetIsAromatic()\n",
    "        props['IsConjugated']=bond.GetIsConjugated()\n",
    "        props['BondType']=str(bond.GetBondType())\n",
    "        props['Stereo']=str(bond.GetStereo())\n",
    "        orig=bond.GetBeginAtomIdx()\n",
    "        dest=bond.GetEndAtomIdx()\n",
    "        props['BeginAtomIdx']=orig\n",
    "        props['EndAtomIdx']=dest\n",
    "        bond_props = \", \".join([f\"{key}: ${key}\" for key in props.keys()])\n",
    "        query = f\"MATCH (orig:Atom {{Idx: {orig}}})-[:PART_OF]->(m: Molecule {{_Name: '{_Name}'}}), \\\n",
    "            (dest:Atom {{Idx: {dest}}})-[:PART_OF]->(m: Molecule {{_Name: '{_Name}'}}) \\\n",
    "            MERGE \\\n",
    "                (orig)-[:BOND {{{bond_props}}}]->(dest);\"\n",
    "        tx.run(query, props)"
   ]
  },
  {
   "cell_type": "code",
   "execution_count": 12,
   "id": "8b65b95f-4f3c-4734-a1ba-143f6561781c",
   "metadata": {},
   "outputs": [],
   "source": [
    "from typing import List, Iterable\n",
    "def upload_mols(tx, mols:Iterable[rdkit.Chem.rdchem.Mol], source, additional_properties:Iterable[dict]):\n",
    "    for mol,ap in (zip(mols, additional_properties)):\n",
    "        ret=upload_mol(tx, mol, source, ap)"
   ]
  },
  {
   "cell_type": "code",
   "execution_count": 25,
   "id": "9bd7e239-8b55-41d5-8b28-53304f3c82c0",
   "metadata": {},
   "outputs": [],
   "source": [
    "def create_indexes(tx):\n",
    "    # Creating an index on Atom properties\n",
    "    #tx.run(\"CREATE INDEX atom_index IF NOT EXISTS FOR (a:Atom) ON (a.Idx)\")\n",
    "    # we dont need this, according to chatgpt\n",
    "    # Creating an index on Molecule properties if molecules have specific identifiers\n",
    "    #tx.run(\"CREATE INDEX molecule_index IF NOT EXISTS FOR (m:Molecule) ON (m._Name)\")\n",
    "    # we dont need this^, according to chatgpt, \n",
    "    # if our queries are like these:\n",
    "    # MATCH (a:Atom)-[:PART_OF]->(m:Molecule)-[:PART_OF]->(s:Source {_Name: ...})\n",
    "    # RETURN a, m, s\n",
    "\n",
    "    \n",
    "    # Creating an index on Source properties if there are specific identifiers like 'name' or 'source_id'\n",
    "    tx.run(\"CREATE INDEX source_index IF NOT EXISTS FOR (s:Source) ON (s.name)\")"
   ]
  },
  {
   "cell_type": "code",
   "execution_count": 24,
   "id": "f6e54afa-aa78-48eb-9337-7a2d1e17384f",
   "metadata": {},
   "outputs": [],
   "source": [
    "\n",
    "with GraphDatabase.driver(URI, auth=AUTH) as driver:\n",
    "    with driver.session() as session:\n",
    "        session.execute_write(create_indexes)"
   ]
  },
  {
   "cell_type": "code",
   "execution_count": 22,
   "id": "9b87a234-94f2-4523-a385-6a2aa23c6ebb",
   "metadata": {},
   "outputs": [
    {
     "data": {
      "application/vnd.jupyter.widget-view+json": {
       "model_id": "19ca82ccebbf4ab9b94405c0f808f7b5",
       "version_major": 2,
       "version_minor": 0
      },
      "text/plain": [
       "  0%|          | 0/1000 [00:00<?, ?it/s]"
      ]
     },
     "metadata": {},
     "output_type": "display_data"
    }
   ],
   "source": [
    "import pandas as pd\n",
    "from tqdm.auto import tqdm\n",
    "\n",
    "def lazy_smiles_iterator(df):\n",
    "    for s in tqdm(df['smiles']):\n",
    "        m:Chem.rdchem.Mol = Chem.MolFromSmiles(s)\n",
    "        m.SetProp(\"_Name\",s)\n",
    "        yield m\n",
    "        \n",
    "def lazy_props_iterator(df):\n",
    "    for i,r in df.iterrows():\n",
    "        yield {\n",
    "            k:v for k,v in dict(r).items() if is_valid_fieldname(k) and is_primitive(v)\n",
    "        }\n",
    "        \n",
    "with GraphDatabase.driver(URI, auth=AUTH) as driver:\n",
    "    sourcefile=\"zinc_250k_10k.csv\"\n",
    "    zinc=pd.read_csv(sourcefile).iloc[:1000]\n",
    "    with driver.session() as session:\n",
    "        session.execute_write(\n",
    "            upload_mols, \n",
    "            lazy_smiles_iterator(zinc), \n",
    "            sourcefile, \n",
    "            lazy_props_iterator(zinc)\n",
    "        )"
   ]
  },
  {
   "cell_type": "code",
   "execution_count": 19,
   "id": "9dfa3963-718d-40ff-8c0d-8b6e2e53a01a",
   "metadata": {},
   "outputs": [
    {
     "data": {
      "application/vnd.jupyter.widget-view+json": {
       "model_id": "34446458dd504143ad28c79686136f88",
       "version_major": 2,
       "version_minor": 0
      },
      "text/plain": [
       "  0%|          | 0/10000 [00:00<?, ?it/s]"
      ]
     },
     "metadata": {},
     "output_type": "display_data"
    }
   ],
   "source": [
    "for m in lazy_smiles_iterator(pd.read_csv(\"zinc_250k_10k.csv\")):\n",
    "    pass"
   ]
  },
  {
   "cell_type": "code",
   "execution_count": 20,
   "id": "94ee9dee-4769-4d63-b99b-dfa0405a61ce",
   "metadata": {},
   "outputs": [
    {
     "data": {
      "image/png": "[encoded data removed]",
      "text/plain": [
       "<rdkit.Chem.rdchem.Mol at 0x19bca0b07b0>"
      ]
     },
     "execution_count": 20,
     "metadata": {},
     "output_type": "execute_result"
    }
   ],
   "source": [
    "m"
   ]
  },
  {
   "cell_type": "code",
   "execution_count": null,
   "id": "ab76429e-a14d-4b10-9526-e2dbcca7b2f1",
   "metadata": {
    "scrolled": true
   },
   "outputs": [],
   "source": [
    "tmp=Chem.MolFromSmiles(\"CC[C@H](C(=O)O)N[C@@H](CC1=CC=CC=C1)C(=O)[N-]\")\n",
    "tmp"
   ]
  },
  {
   "cell_type": "code",
   "execution_count": 156,
   "id": "f4f65910-d8fc-4775-8fa0-b069bf55a2e0",
   "metadata": {},
   "outputs": [
    {
     "data": {
      "image/png": "[encoded data removed]",
      "text/plain": [
       "<rdkit.Chem.rdchem.Mol at 0x259c26da500>"
      ]
     },
     "metadata": {},
     "output_type": "display_data"
    },
    {
     "name": "stdout",
     "output_type": "stream",
     "text": [
      "=== MOL PROPS ===\n",
      "{}\n",
      "=== ATOMS PROPS ===\n",
      "{'_CIPRank': 0, 'Idx': 0, 'Symbol': 'C', 'ChiralTag': rdkit.Chem.rdchem.ChiralType.CHI_UNSPECIFIED, 'NumImplicitHs': 3}\n",
      "{'_CIPRank': 1, 'Idx': 1, 'Symbol': 'C', 'ChiralTag': rdkit.Chem.rdchem.ChiralType.CHI_UNSPECIFIED, 'NumImplicitHs': 2}\n",
      "{'_CIPRank': 8, '_ChiralityPossible': 1, '_CIPCode': 'R', 'Idx': 2, 'Symbol': 'C', 'ChiralTag': rdkit.Chem.rdchem.ChiralType.CHI_TETRAHEDRAL_CCW, 'NumImplicitHs': 0}\n",
      "{'_CIPRank': 10, 'Idx': 3, 'Symbol': 'C', 'ChiralTag': rdkit.Chem.rdchem.ChiralType.CHI_UNSPECIFIED, 'NumImplicitHs': 0}\n",
      "{'_CIPRank': 15, 'Idx': 4, 'Symbol': 'O', 'ChiralTag': rdkit.Chem.rdchem.ChiralType.CHI_UNSPECIFIED, 'NumImplicitHs': 0}\n",
      "{'_CIPRank': 13, 'Idx': 5, 'Symbol': 'O', 'ChiralTag': rdkit.Chem.rdchem.ChiralType.CHI_UNSPECIFIED, 'NumImplicitHs': 1}\n",
      "{'_CIPRank': 12, 'Idx': 6, 'Symbol': 'N', 'ChiralTag': rdkit.Chem.rdchem.ChiralType.CHI_UNSPECIFIED, 'NumImplicitHs': 1}\n",
      "{'_CIPRank': 7, '_ChiralityPossible': 1, '_CIPCode': 'S', 'Idx': 7, 'Symbol': 'C', 'ChiralTag': rdkit.Chem.rdchem.ChiralType.CHI_TETRAHEDRAL_CW, 'NumImplicitHs': 0}\n",
      "{'_CIPRank': 2, 'Idx': 8, 'Symbol': 'C', 'ChiralTag': rdkit.Chem.rdchem.ChiralType.CHI_UNSPECIFIED, 'NumImplicitHs': 2}\n",
      "{'_CIPRank': 6, 'Idx': 9, 'Symbol': 'C', 'ChiralTag': rdkit.Chem.rdchem.ChiralType.CHI_UNSPECIFIED, 'NumImplicitHs': 0}\n",
      "{'_CIPRank': 5, 'Idx': 10, 'Symbol': 'C', 'ChiralTag': rdkit.Chem.rdchem.ChiralType.CHI_UNSPECIFIED, 'NumImplicitHs': 1}\n",
      "{'_CIPRank': 4, 'Idx': 11, 'Symbol': 'C', 'ChiralTag': rdkit.Chem.rdchem.ChiralType.CHI_UNSPECIFIED, 'NumImplicitHs': 1}\n",
      "{'_CIPRank': 3, 'Idx': 12, 'Symbol': 'C', 'ChiralTag': rdkit.Chem.rdchem.ChiralType.CHI_UNSPECIFIED, 'NumImplicitHs': 1}\n",
      "{'_CIPRank': 4, 'Idx': 13, 'Symbol': 'C', 'ChiralTag': rdkit.Chem.rdchem.ChiralType.CHI_UNSPECIFIED, 'NumImplicitHs': 1}\n",
      "{'_CIPRank': 5, 'Idx': 14, 'Symbol': 'C', 'ChiralTag': rdkit.Chem.rdchem.ChiralType.CHI_UNSPECIFIED, 'NumImplicitHs': 1}\n",
      "{'_CIPRank': 9, 'Idx': 15, 'Symbol': 'C', 'ChiralTag': rdkit.Chem.rdchem.ChiralType.CHI_UNSPECIFIED, 'NumImplicitHs': 0}\n",
      "{'_CIPRank': 14, 'Idx': 16, 'Symbol': 'O', 'ChiralTag': rdkit.Chem.rdchem.ChiralType.CHI_UNSPECIFIED, 'NumImplicitHs': 0}\n",
      "{'_CIPRank': 11, 'Idx': 17, 'Symbol': 'N', 'ChiralTag': rdkit.Chem.rdchem.ChiralType.CHI_UNSPECIFIED, 'NumImplicitHs': 0}\n",
      "=== BONDS PROPS ===\n",
      "{'IsAromatic': False, 'IsConjugated': False, 'BondType': rdkit.Chem.rdchem.BondType.SINGLE, 'Stereo': rdkit.Chem.rdchem.BondStereo.STEREONONE, 'BeginAtomIdx': 0, 'EndAtomIdx': 1}\n",
      "{'IsAromatic': False, 'IsConjugated': False, 'BondType': rdkit.Chem.rdchem.BondType.SINGLE, 'Stereo': rdkit.Chem.rdchem.BondStereo.STEREONONE, 'BeginAtomIdx': 1, 'EndAtomIdx': 2}\n",
      "{'IsAromatic': False, 'IsConjugated': False, 'BondType': rdkit.Chem.rdchem.BondType.SINGLE, 'Stereo': rdkit.Chem.rdchem.BondStereo.STEREONONE, 'BeginAtomIdx': 2, 'EndAtomIdx': 3}\n",
      "{'IsAromatic': False, 'IsConjugated': True, 'BondType': rdkit.Chem.rdchem.BondType.DOUBLE, 'Stereo': rdkit.Chem.rdchem.BondStereo.STEREONONE, 'BeginAtomIdx': 3, 'EndAtomIdx': 4}\n",
      "{'IsAromatic': False, 'IsConjugated': True, 'BondType': rdkit.Chem.rdchem.BondType.SINGLE, 'Stereo': rdkit.Chem.rdchem.BondStereo.STEREONONE, 'BeginAtomIdx': 3, 'EndAtomIdx': 5}\n",
      "{'IsAromatic': False, 'IsConjugated': False, 'BondType': rdkit.Chem.rdchem.BondType.SINGLE, 'Stereo': rdkit.Chem.rdchem.BondStereo.STEREONONE, 'BeginAtomIdx': 2, 'EndAtomIdx': 6}\n",
      "{'IsAromatic': False, 'IsConjugated': False, 'BondType': rdkit.Chem.rdchem.BondType.SINGLE, 'Stereo': rdkit.Chem.rdchem.BondStereo.STEREONONE, 'BeginAtomIdx': 6, 'EndAtomIdx': 7}\n",
      "{'IsAromatic': False, 'IsConjugated': False, 'BondType': rdkit.Chem.rdchem.BondType.SINGLE, 'Stereo': rdkit.Chem.rdchem.BondStereo.STEREONONE, 'BeginAtomIdx': 7, 'EndAtomIdx': 8}\n",
      "{'IsAromatic': False, 'IsConjugated': False, 'BondType': rdkit.Chem.rdchem.BondType.SINGLE, 'Stereo': rdkit.Chem.rdchem.BondStereo.STEREONONE, 'BeginAtomIdx': 8, 'EndAtomIdx': 9}\n",
      "{'IsAromatic': True, 'IsConjugated': True, 'BondType': rdkit.Chem.rdchem.BondType.AROMATIC, 'Stereo': rdkit.Chem.rdchem.BondStereo.STEREONONE, 'BeginAtomIdx': 9, 'EndAtomIdx': 10}\n",
      "{'IsAromatic': True, 'IsConjugated': True, 'BondType': rdkit.Chem.rdchem.BondType.AROMATIC, 'Stereo': rdkit.Chem.rdchem.BondStereo.STEREONONE, 'BeginAtomIdx': 10, 'EndAtomIdx': 11}\n",
      "{'IsAromatic': True, 'IsConjugated': True, 'BondType': rdkit.Chem.rdchem.BondType.AROMATIC, 'Stereo': rdkit.Chem.rdchem.BondStereo.STEREONONE, 'BeginAtomIdx': 11, 'EndAtomIdx': 12}\n",
      "{'IsAromatic': True, 'IsConjugated': True, 'BondType': rdkit.Chem.rdchem.BondType.AROMATIC, 'Stereo': rdkit.Chem.rdchem.BondStereo.STEREONONE, 'BeginAtomIdx': 12, 'EndAtomIdx': 13}\n",
      "{'IsAromatic': True, 'IsConjugated': True, 'BondType': rdkit.Chem.rdchem.BondType.AROMATIC, 'Stereo': rdkit.Chem.rdchem.BondStereo.STEREONONE, 'BeginAtomIdx': 13, 'EndAtomIdx': 14}\n",
      "{'IsAromatic': False, 'IsConjugated': False, 'BondType': rdkit.Chem.rdchem.BondType.SINGLE, 'Stereo': rdkit.Chem.rdchem.BondStereo.STEREONONE, 'BeginAtomIdx': 7, 'EndAtomIdx': 15}\n",
      "{'IsAromatic': False, 'IsConjugated': True, 'BondType': rdkit.Chem.rdchem.BondType.DOUBLE, 'Stereo': rdkit.Chem.rdchem.BondStereo.STEREONONE, 'BeginAtomIdx': 15, 'EndAtomIdx': 16}\n",
      "{'IsAromatic': False, 'IsConjugated': True, 'BondType': rdkit.Chem.rdchem.BondType.SINGLE, 'Stereo': rdkit.Chem.rdchem.BondStereo.STEREONONE, 'BeginAtomIdx': 15, 'EndAtomIdx': 17}\n",
      "{'IsAromatic': True, 'IsConjugated': True, 'BondType': rdkit.Chem.rdchem.BondType.AROMATIC, 'Stereo': rdkit.Chem.rdchem.BondStereo.STEREONONE, 'BeginAtomIdx': 14, 'EndAtomIdx': 9}\n"
     ]
    }
   ],
   "source": [
    "print_mol_props(tmp)"
   ]
  }
 ],
 "metadata": {
  "kernelspec": {
   "display_name": "Python 3 (ipykernel)",
   "language": "python",
   "name": "python3"
  },
  "language_info": {
   "codemirror_mode": {
    "name": "ipython",
    "version": 3
   },
   "file_extension": ".py",
   "mimetype": "text/x-python",
   "name": "python",
   "nbconvert_exporter": "python",
   "pygments_lexer": "ipython3",
   "version": "3.10.14"
  }
 },
 "nbformat": 4,
 "nbformat_minor": 5
}
