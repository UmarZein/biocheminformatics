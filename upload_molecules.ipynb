{
 "cells": [
  {
   "cell_type": "code",
   "execution_count": 26,
   "id": "d3a81544-b753-4983-9c02-91e3181b1e3e",
   "metadata": {},
   "outputs": [],
   "source": [
    "from pprint import pprint\n",
    "from convertmol import parse_sdf_file, bond_type_dict, single_bond_stereo_dict, double_bond_stereo_dict\n",
    "from torch_geometric.data import Data\n",
    "from torch_geometric.nn import *\n",
    "from torch_geometric.utils import to_dense_adj, to_dense_batch, add_self_loops\n",
    "from torch_geometric.nn.conv import MessagePassing\n",
    "import torch\n",
    "from torch import nn\n",
    "import rdkit\n",
    "from tqdm import tqdm\n",
    "import itertools\n",
    "from rdkit import Chem\n",
    "import pandas as pd\n",
    "from importlib import reload\n",
    "import matplotlib.pyplot as plt\n",
    "from rdkit import RDLogger\n",
    "from copy import deepcopy\n",
    "from torch.utils.data import Dataset, DataLoader\n",
    "# Suppress RDKit warnings\n",
    "RDLogger.DisableLog('rdApp.*')\n",
    "import sascorer\n",
    "torch.set_default_device('cpu:0')#'cuda'"
   ]
  },
  {
   "cell_type": "code",
   "execution_count": 29,
   "id": "e8b18006-057b-4cbd-93dd-9ac003e8c206",
   "metadata": {},
   "outputs": [],
   "source": [
    "from neo4j import GraphDatabase, RoutingControl\n",
    "\n",
    "\n",
    "URI = \"bolt://localhost:7687\"\n",
    "AUTH = (\"neo4j\", \"password\")\n",
    "\n",
    "\n",
    "def add_friend(driver, name, friend_name):\n",
    "    driver.execute_query(\n",
    "        \"MERGE (a:Person {name: $name}) \"\n",
    "        \"MERGE (friend:Person {name: $friend_name}) \"\n",
    "        \"MERGE (a)-[:KNOWS]->(friend)\",\n",
    "        name=name, friend_name=friend_name, database_=\"neo4j\",\n",
    "    )\n",
    "\n",
    "\n",
    "def print_friends(driver, name):\n",
    "    records, _, _ = driver.execute_query(\n",
    "        \"MATCH (a:Person)-[:KNOWS]->(friend) WHERE a.name = $name \"\n",
    "        \"RETURN friend.name ORDER BY friend.name\",\n",
    "        name=name, database_=\"neo4j\", routing_=RoutingControl.READ,\n",
    "    )\n",
    "    for record in records:\n",
    "        print(record[\"friend.name\"])\n",
    "\n"
   ]
  },
  {
   "cell_type": "code",
   "execution_count": 30,
   "id": "4ff9a92b-1142-4ca6-b668-9a9da3d45bc0",
   "metadata": {},
   "outputs": [
    {
     "name": "stdout",
     "output_type": "stream",
     "text": [
      "A\n"
     ]
    }
   ],
   "source": [
    "with GraphDatabase.driver(URI, auth=AUTH) as driver:\n",
    "    print(\"A\")"
   ]
  },
  {
   "cell_type": "code",
   "execution_count": 31,
   "id": "5cef7811-4a8f-4006-a7d7-1d95199dfdd2",
   "metadata": {},
   "outputs": [
    {
     "data": {
      "text/plain": [
       "<module 'convertmol' from 'C:\\\\Users\\\\umarzein\\\\Desktop\\\\biocheminformatics\\\\convertmol.py'>"
      ]
     },
     "execution_count": 31,
     "metadata": {},
     "output_type": "execute_result"
    }
   ],
   "source": [
    "import convertmol\n",
    "import importlib\n",
    "importlib.reload(convertmol)"
   ]
  },
  {
   "cell_type": "code",
   "execution_count": 43,
   "id": "c75e1b19-6129-43d3-9c03-79817428d6b6",
   "metadata": {},
   "outputs": [],
   "source": [
    "import re\n",
    "atom_re=re.compile(\"^atom\\d+$\")#.match(\"watom123\")\n",
    "bond_re=re.compile(\"^bond\\d+$\")\n",
    "\n",
    "def create_mol(tx,d,source):\n",
    "    assert isinstance(source, str), \"source must be str\"\n",
    "    atoms={}\n",
    "    bonds={}\n",
    "    props={}\n",
    "    for k,v in d.items():\n",
    "        if atom_re.match(k):\n",
    "            atoms[k]=v\n",
    "        elif bond_re.match(k):\n",
    "            bonds[k]=v\n",
    "        else:\n",
    "            props[k]=v\n",
    "    tx.run(f\"MERGE (:Source {{name: '{source}'}});\")\n",
    "    \n",
    "    mol_props = \", \".join([f\"{key}: ${key}\" for key in props.keys()])\n",
    "    query = f\"CREATE (:Molecule {{{mol_props}}});\"\n",
    "    tx.run(query, props)\n",
    "    for k, atom in atoms.items():\n",
    "        atom_props = \", \".join([f\"{key}: ${key}\" for key in atom.keys()])\n",
    "        query = f\"MATCH (m: Molecule {{id: '{props['id']}'}}) CREATE (a:Atom {{id: '{k}', {atom_props}}})-[:PART_OF]->(m);\"\n",
    "        tx.run(query, atom)\n",
    "    for k, bond in bonds.items():\n",
    "        orig=bond.pop(\"orig\")\n",
    "        dest=bond.pop(\"dest\")\n",
    "        bond_props = \", \".join([f\"{key}: ${key}\" for key in bond.keys()])\n",
    "        query = f\"MATCH (orig:Atom {{id: '{orig}'}})-[:PART_OF]->(m: Molecule {{id: '{props['id']}'}}), \\\n",
    "            (dest:Atom {{id: '{dest}'}})-[:PART_OF]->(m: Molecule {{id: '{props['id']}'}}) \\\n",
    "            CREATE \\\n",
    "                (orig)-[:BOND {{id: '{k}', {bond_props}}}]->(dest);\"\n",
    "        #query = f\"MATCH (orig:Atom {{id: '{orig}'}})-[:PART_OF]->(m: Molecule {{id: '{props['id']}'}}), (dest:Atom {{id: '{dest}'}}) \\\n",
    "        #    CREATE \\\n",
    "        #        (orig)-[:BOND {{id: '{k}', {bond_props}}}]->(dest), \\\n",
    "        #        (dest)-[:BOND {{id: '{k}', {bond_props}}}]->(orig);\"\n",
    "        tx.run(query, bond)\n",
    "    \n",
    "    tx.run(f\"MATCH (m: Molecule {{id: '{props['id']}'}}),(s:Source {{name: '{source}'}}) CREATE (m)-[:PART_OF]->(s);\")\n",
    "    return\n"
   ]
  },
  {
   "cell_type": "code",
   "execution_count": 44,
   "id": "85f8936e-4474-41ec-88a7-74581cf7d9c0",
   "metadata": {},
   "outputs": [
    {
     "name": "stdout",
     "output_type": "stream",
     "text": [
      "processing\n",
      "done\n",
      "processing\n",
      "done\n",
      "processing\n",
      "done\n",
      "processing\n",
      "done\n",
      "processing\n",
      "done\n"
     ]
    }
   ],
   "source": [
    "\n",
    "# Use the driver\n",
    "with GraphDatabase.driver(URI, auth=AUTH) as driver:\n",
    "    with driver.session() as session:\n",
    "        for m in parse_sdf_file(\"./samples.sdf\", data_items=True):\n",
    "            print(\"processing\")\n",
    "            #display(m)\n",
    "            session.execute_write(create_mol, m, \"sample_gdb9\")\n",
    "            print(\"done\")\n",
    "            "
   ]
  },
  {
   "cell_type": "code",
   "execution_count": 36,
   "id": "db345be7-c077-41dc-b9db-c7a42e298070",
   "metadata": {
    "scrolled": true
   },
   "outputs": [
    {
     "data": {
      "text/plain": [
       "[{'n': {'software': '-OEChem-03231823243D',\n",
       "   'id': 'gdb_1',\n",
       "   'version': 'V2000'}},\n",
       " {'n': {'software': '-OEChem-03231823233D',\n",
       "   'id': 'gdb_2',\n",
       "   'version': 'V2000'}},\n",
       " {'n': {'software': '-OEChem-03231823243D',\n",
       "   'id': 'gdb_3',\n",
       "   'version': 'V2000'}},\n",
       " {'n': {'software': '-OEChem-03231823253D',\n",
       "   'id': 'gdb_4',\n",
       "   'version': 'V2000'}},\n",
       " {'n': {'software': 'ChemDraw2024',\n",
       "   'LogP': '0.83',\n",
       "   'id': 'CO2',\n",
       "   'version': 'V2000'}}]"
      ]
     },
     "metadata": {},
     "output_type": "display_data"
    }
   ],
   "source": [
    "\n",
    "with GraphDatabase.driver(URI, auth=AUTH) as driver:\n",
    "    with driver.session() as session:\n",
    "        display(session.run(\"MATCH (n:Molecule)-[:PART_OF]->(s:Source) return n\").data())"
   ]
  },
  {
   "cell_type": "code",
   "execution_count": 95,
   "id": "a62250f9-f34c-438b-8b02-c35155e5651c",
   "metadata": {},
   "outputs": [],
   "source": [
    "\n",
    "with GraphDatabase.driver(URI, auth=AUTH) as driver:\n",
    "    with driver.session() as session:\n",
    "        result=(session.run(\"MATCH (a:Atom)-[b:BOND]->(a2:Atom)-[:PART_OF]->(m:Molecule{id:'CO2'}) return a,b,a2\"))\n",
    "        for row in result:\n",
    "            out=(row['b'])"
   ]
  },
  {
   "cell_type": "code",
   "execution_count": 96,
   "id": "7f643ef9-adcf-4b2f-b6d1-f4c17a38e581",
   "metadata": {},
   "outputs": [
    {
     "data": {
      "text/plain": [
       "{'bond_stereo': 'Use_coordinates', 'id': 'bond1', 'bond_type': 'Double'}"
      ]
     },
     "execution_count": 96,
     "metadata": {},
     "output_type": "execute_result"
    }
   ],
   "source": [
    "dict(out)"
   ]
  },
  {
   "cell_type": "code",
   "execution_count": null,
   "id": "f89bf7f3-13cb-46ef-b274-b32856462cda",
   "metadata": {},
   "outputs": [],
   "source": []
  },
  {
   "cell_type": "code",
   "execution_count": 52,
   "id": "5ace0fae-8839-402f-9f27-778f270e8049",
   "metadata": {},
   "outputs": [
    {
     "data": {
      "text/plain": [
       "({'symbol': 'C',\n",
       "  'charge': 'outside_limits',\n",
       "  'stereo_parity': 'not_stereo',\n",
       "  'mass_diff': '0',\n",
       "  'x': -0.72,\n",
       "  'y': 0.0,\n",
       "  'valence': 'no marking',\n",
       "  'z': 0.0,\n",
       "  'id': 'atom1'},\n",
       " 'BOND',\n",
       " {'symbol': 'O',\n",
       "  'charge': 'outside_limits',\n",
       "  'stereo_parity': 'not_stereo',\n",
       "  'mass_diff': '0',\n",
       "  'x': 0.72,\n",
       "  'y': 0.0,\n",
       "  'valence': 'no marking',\n",
       "  'z': 0.0,\n",
       "  'id': 'atom2'})"
      ]
     },
     "execution_count": 52,
     "metadata": {},
     "output_type": "execute_result"
    }
   ],
   "source": [
    "tmp[0]['b']"
   ]
  },
  {
   "cell_type": "code",
   "execution_count": 74,
   "id": "fe2274c4-7cc0-4855-ac44-2545dbcb6b38",
   "metadata": {},
   "outputs": [
    {
     "name": "stdout",
     "output_type": "stream",
     "text": [
      "1\n",
      "2\n",
      "2\n",
      "1\n",
      "21\n",
      "\n",
      "took 3.0773708820343018 seconds\n"
     ]
    }
   ],
   "source": [
    "import threading\n",
    "from time import sleep, time\n",
    "sem = threading.Semaphore(2)\n",
    "def fun1():\n",
    "    n=3\n",
    "    while n>0:\n",
    "        sleep(0.00000001)\n",
    "        with sem:\n",
    "            n-=1\n",
    "            print(1)\n",
    "            sleep(1)\n",
    "\n",
    "def fun2():\n",
    "    n=3\n",
    "    while n>0:\n",
    "        sleep(0.00000001)\n",
    "        with sem:\n",
    "            n-=1\n",
    "            print(2)\n",
    "            sleep(1)\n",
    "start=time()\n",
    "t = threading.Thread(target = fun1)\n",
    "t.start()\n",
    "t2 = threading.Thread(target = fun2)\n",
    "t2.start()\n",
    "t.join()\n",
    "t2.join()\n",
    "print(\"took\",time()-start,\"seconds\")"
   ]
  },
  {
   "cell_type": "code",
   "execution_count": null,
   "id": "01c9c62f-56f5-4585-a792-677b9bf8aae9",
   "metadata": {},
   "outputs": [],
   "source": []
  }
 ],
 "metadata": {
  "kernelspec": {
   "display_name": "Python 3 (ipykernel)",
   "language": "python",
   "name": "python3"
  },
  "language_info": {
   "codemirror_mode": {
    "name": "ipython",
    "version": 3
   },
   "file_extension": ".py",
   "mimetype": "text/x-python",
   "name": "python",
   "nbconvert_exporter": "python",
   "pygments_lexer": "ipython3",
   "version": "3.10.14"
  }
 },
 "nbformat": 4,
 "nbformat_minor": 5
}
