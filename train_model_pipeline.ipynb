{
 "cells": [
  {
   "cell_type": "code",
   "execution_count": 1,
   "id": "cb068f09-9736-4b21-a2a3-6d67b01a9c0e",
   "metadata": {},
   "outputs": [],
   "source": [
    "from pprint import pprint\n",
    "from convertmol import parse_sdf_file, bond_type_dict, single_bond_stereo_dict, double_bond_stereo_dict\n",
    "from torch_geometric.data import Data\n",
    "from torch_geometric.nn import *\n",
    "from torch_geometric.utils import to_dense_adj, to_dense_batch, add_self_loops\n",
    "from torch_geometric.nn.conv import MessagePassing\n",
    "import torch\n",
    "from torch import nn\n",
    "import rdkit\n",
    "from tqdm.auto import tqdm\n",
    "import itertools\n",
    "from rdkit import Chem\n",
    "import pandas as pd\n",
    "from importlib import reload\n",
    "import matplotlib.pyplot as plt\n",
    "from rdkit import RDLogger\n",
    "from copy import deepcopy\n",
    "from torch.utils.data import Dataset, DataLoader\n",
    "import os\n",
    "# Suppress RDKit warnings\n",
    "RDLogger.DisableLog('rdApp.*')\n",
    "import sascorer\n",
    "torch.set_default_device('cpu:0')#'cuda'"
   ]
  },
  {
   "cell_type": "code",
   "execution_count": 2,
   "id": "7ff09a52-6c83-472f-a9ba-918f8c10ed4e",
   "metadata": {},
   "outputs": [],
   "source": [
    "from neo4j import GraphDatabase, RoutingControl\n",
    "\n",
    "\n",
    "URI = \"bolt://localhost:7687\"\n",
    "AUTH = (\"neo4j\", \"password\")"
   ]
  },
  {
   "cell_type": "code",
   "execution_count": 3,
   "id": "30a89de6-52e0-4f90-8ac8-a475364bf6c4",
   "metadata": {},
   "outputs": [],
   "source": [
    "from neo4j import Transaction, ManagedTransaction\n",
    "def iterate_from_source_batched(tx: ManagedTransaction, name: str, batch_size):\n",
    "    assert isinstance(batch_size, int)\n",
    "    assert batch_size>0\n",
    "    query = f\"\"\"\n",
    "    MATCH (m:Molecule)-[:PART_OF]->(s:Source {{name: $name}})\n",
    "    MATCH (a:Atom)-[:PART_OF]->(m)\n",
    "    OPTIONAL MATCH (a)-[b:BOND]->(c:Atom)\n",
    "    RETURN m, a, b, c\n",
    "    \"\"\"\n",
    "    ready_mols=[]\n",
    "    mol_buffer={}\n",
    "    for record in tx.run(query,{\"name\":name}):\n",
    "        #print('record')\n",
    "        m = record[\"m\"]\n",
    "        a = record[\"a\"]\n",
    "        b = record.get(\"b\",None)\n",
    "        c = record.get(\"c\",None)\n",
    "\n",
    "        aIdx=a['Idx']\n",
    "        bIdx=None\n",
    "        cIdx=None\n",
    "        if b:\n",
    "            bIdx=b['Idx']\n",
    "        if c:\n",
    "            cIdx=c['Idx']\n",
    "        _Name = m['_Name']\n",
    "\n",
    "        if _Name not in mol_buffer:\n",
    "            # Initialize molecule entry\n",
    "            mol_buffer[_Name] = {\n",
    "                \"molecule\": m,\n",
    "                \"atoms\": {\n",
    "                    aIdx:a,\n",
    "                },\n",
    "                \"bonds\": {}\n",
    "            }\n",
    "                    \n",
    "            if b:\n",
    "                mol_buffer[_Name]['bonds'][bIdx]=b\n",
    "            if c:\n",
    "                mol_buffer[_Name]['atoms'][cIdx]=c\n",
    "                \n",
    "        elif mol_buffer[_Name] != True: #if it's true, it means that it's already been yielded\n",
    "            if aIdx not in mol_buffer[_Name]['atoms']:\n",
    "                mol_buffer[_Name]['atoms'][aIdx]=a\n",
    "            if bIdx and bIdx not in mol_buffer[_Name]['bonds']:\n",
    "                mol_buffer[_Name]['bonds'][bIdx]=b\n",
    "            if cIdx and cIdx not in mol_buffer[_Name]['atoms']:\n",
    "                mol_buffer[_Name]['atoms'][cIdx]=c\n",
    "        else:\n",
    "            continue\n",
    "        if len(mol_buffer[_Name]['atoms'])==m['NumAtoms'] and len(mol_buffer[_Name]['bonds'])==m['NumBonds']:\n",
    "            #print(\"appending molecule\",_Name,len(mol_buffer[_Name]['atoms']),len(mol_buffer[_Name]['bonds']))\n",
    "            ready_mols.append(mol_buffer[_Name])\n",
    "            mol_buffer[_Name]=True\n",
    "            if len(ready_mols)>=batch_size:\n",
    "                yield ready_mols\n",
    "                ready_mols.clear()\n",
    "    for k,v in mol_buffer.items():\n",
    "        if v != True:\n",
    "            ready_mols.append(v)\n",
    "    if len(ready_mols)>0:\n",
    "        yield ready_mols"
   ]
  },
  {
   "cell_type": "code",
   "execution_count": 4,
   "id": "bc3acde3-6083-4eb0-8d10-dd5b21cbe346",
   "metadata": {},
   "outputs": [],
   "source": [
    "from neo4j import Transaction, ManagedTransaction\n",
    "def stream_from_source(tx: ManagedTransaction, name: str):\n",
    "    query = f\"\"\"\n",
    "    MATCH (m:Molecule)-[:PART_OF]->(s:Source {{name: $name}})\n",
    "    MATCH (a:Atom)-[:PART_OF]->(m)\n",
    "    OPTIONAL MATCH (a)-[b:BOND]->(c:Atom)\n",
    "    RETURN m, a, b, c\n",
    "    \"\"\"\n",
    "    mol_buffer=dict()\n",
    "    for record in tx.run(query,{\"name\":name}):\n",
    "        #print('record',record['m']['_Name'])\n",
    "        m = record[\"m\"]\n",
    "        a = record[\"a\"]\n",
    "        b = record.get(\"b\",None)\n",
    "        c = record.get(\"c\",None)\n",
    "\n",
    "        aIdx=a['Idx']\n",
    "        bIdx=None\n",
    "        cIdx=None\n",
    "        if b:\n",
    "            bIdx=b['Idx']\n",
    "        if c:\n",
    "            cIdx=c['Idx']\n",
    "        _Name = m['_Name']\n",
    "\n",
    "        if _Name not in mol_buffer:\n",
    "            # Initialize molecule entry\n",
    "            mol_buffer[_Name] = dict({\n",
    "                \"molecule\": m,\n",
    "                \"atoms\": dict({\n",
    "                    aIdx:a,\n",
    "                }),\n",
    "                \"bonds\": dict()\n",
    "            })\n",
    "                    \n",
    "            if b:\n",
    "                mol_buffer[_Name]['bonds'][bIdx]=b\n",
    "            if c:\n",
    "                mol_buffer[_Name]['atoms'][cIdx]=c\n",
    "                \n",
    "        elif mol_buffer[_Name] != True: #if it's true, it means that it's already been yielded\n",
    "            if aIdx not in mol_buffer[_Name]['atoms']:\n",
    "                mol_buffer[_Name]['atoms'][aIdx]=a\n",
    "            if bIdx and bIdx not in mol_buffer[_Name]['bonds']:\n",
    "                mol_buffer[_Name]['bonds'][bIdx]=b\n",
    "            if cIdx and cIdx not in mol_buffer[_Name]['atoms']:\n",
    "                mol_buffer[_Name]['atoms'][cIdx]=c\n",
    "        else:\n",
    "            continue\n",
    "        if len(mol_buffer[_Name]['atoms'])==m['NumAtoms'] and len(mol_buffer[_Name]['bonds'])==m['NumBonds']:\n",
    "            #print(\"yielding molecule\",_Name,len(mol_buffer[_Name]['atoms']),len(mol_buffer[_Name]['bonds']))\n",
    "            tmp = (mol_buffer[_Name])\n",
    "            atoms=tmp['atoms']\n",
    "            atoms=[atoms[i] for i in atoms]\n",
    "            bonds=tmp['bonds']\n",
    "            bonds=[bonds[i] for i in bonds]\n",
    "            yield atoms, bonds, tmp['molecule']\n",
    "            mol_buffer[_Name]=True\n",
    "    for k,v in mol_buffer.items():\n",
    "        if v != True:\n",
    "            atoms=v['atoms']\n",
    "            atoms=[atoms[i] for i in atoms]\n",
    "            bonds=v['bonds']\n",
    "            bonds=[bonds[i] for i in bonds]\n",
    "            #print(\"yielding molecule\",v['_Name'],len(v['atoms']),len(v['bonds']))\n",
    "            yield atoms, bonds, v['molecule']"
   ]
  },
  {
   "cell_type": "code",
   "execution_count": 5,
   "id": "b4b7bcd8-fe8e-4d75-bbda-a7f9f9f1160e",
   "metadata": {},
   "outputs": [],
   "source": [
    "ATOMIC_SYMBOL = {\n",
    "    'H':0, 'He': 1, 'Li': 2, 'Be': 3, 'B': 4, 'C': 5, 'N': 6, 'O': 7, 'F': 8, 'Ne': 9, 'Na': 10, 'Mg': 11, 'Al': 12, 'Si': 13, 'P': 14, \n",
    "    'S': 15, 'Cl': 16, 'Ar': 17, 'K': 18, 'Ca': 19, 'Sc': 20, 'Ti': 21, 'V': 22, 'Cr': 23, 'Mn': 24, 'Fe': 25, 'Co': 26, 'Ni': 27, 'Cu': 28, \n",
    "    'Zn': 29, 'Ga': 30, 'Ge': 31, 'As': 32, 'Se': 33, 'Br': 34, 'Kr': 35, 'Rb': 36, 'Sr': 37, 'Y': 38, 'Zr': 39, 'Nb': 40, 'Mo': 41, 'Tc': 42, \n",
    "    'Ru': 43, 'Rh': 44, 'Pd': 45, 'Ag': 46, 'Cd': 47, 'In': 48, 'Sn': 49, 'Sb': 50, 'Te': 51, 'I': 52, 'Xe': 53, 'Cs': 54, 'Ba': 55, 'La': 56, \n",
    "    'Ce': 57, 'Pr': 58, 'Nd': 59, 'Pm': 60, 'Sm': 61, 'Eu': 62, 'Gd': 63, 'Tb': 64, 'Dy': 65, 'Ho': 66, 'Er': 67, 'Tm': 68, 'Yb': 69, 'Lu': 70, \n",
    "    'Hf': 71, 'Ta': 72, 'W ': 73, 'Re': 74, 'Os': 75, 'Ir': 76, 'Pt': 77, 'Au': 78, 'Hg': 79, 'Tl': 80, 'Pb': 81, 'Bi': 82, 'Po': 83, 'At': 84, \n",
    "    'Rn': 85, 'Fr': 86, 'Ra': 87, 'Ac': 88, 'Th': 89, 'Pa': 90, 'U': 91, 'Np': 92, 'Pu': 93, 'Am': 94, 'Cm': 95, 'Bk': 96, 'Cf': 97, 'Es': 98, \n",
    "    'Fm': 99, 'Md': 100, 'No': 101, 'Lr': 102, 'Rf': 103, 'Db': 104, 'Sg': 105, 'Bh': 106, 'Hs': 107, 'Mt': 108, 'Ds': 109, 'Rg': 110, 'Cn': 111, \n",
    "    'Nh': 112, 'Fl': 113, 'Mc': 114, 'Lv': 115, 'Ts': 116, 'Og': 117\n",
    "}"
   ]
  },
  {
   "cell_type": "code",
   "execution_count": 6,
   "id": "8707b55e-66e8-462b-a1e9-33f2960aa9be",
   "metadata": {},
   "outputs": [],
   "source": [
    "BONDTYPE= {\n",
    "    'UNSPECIFIED': 0,\n",
    "    'SINGLE': 1,\n",
    "    'DOUBLE': 2,\n",
    "    'TRIPLE': 3,\n",
    "    'QUADRUPLE': 4,\n",
    "    'QUINTUPLE': 5,\n",
    "    'HEXTUPLE': 6,\n",
    "    'ONEANDAHALF': 7,\n",
    "    'TWOANDAHALF': 8,\n",
    "    'THREEANDAHALF': 9,\n",
    "    'FOURANDAHALF': 10,\n",
    "    'FIVEANDAHALF': 11,\n",
    "    'AROMATIC': 12,\n",
    "    'IONIC': 13,\n",
    "    'HYDROGEN': 14,\n",
    "    'THREECENTER': 15,\n",
    "    'DATIVEONE': 16,\n",
    "    'DATIVE': 17,\n",
    "    'DATIVEL': 18,\n",
    "    'DATIVER': 19,\n",
    "    'OTHER': 20,\n",
    "    'ZERO': 21,\n",
    "}"
   ]
  },
  {
   "cell_type": "code",
   "execution_count": 7,
   "id": "fd01494e-77f6-4dcc-8045-fe4bae9661fe",
   "metadata": {},
   "outputs": [],
   "source": [
    "def atoms_transform_get_symbol(atoms, x): #should we use X&x or x&x_?\n",
    "    return atoms, ([(\n",
    "        *x_, ATOMIC_SYMBOL[atom['Symbol']]\n",
    "    ) for x_,atom in zip(x,atoms)])"
   ]
  },
  {
   "cell_type": "code",
   "execution_count": 8,
   "id": "ab6bae07-261a-448c-8510-f4a0d1afdfa2",
   "metadata": {},
   "outputs": [],
   "source": [
    "def bonds_transform_get_bondtype(bonds, edge_index, edge_attr):\n",
    "    return bonds, edge_index, ([(\n",
    "        *edge_attr_, BONDTYPE[bond['BondType']]\n",
    "    ) for edge_attr_,bond in zip(edge_attr, bonds)])"
   ]
  },
  {
   "cell_type": "code",
   "execution_count": 9,
   "id": "8e1a914a-8694-4614-aee3-f2458ebd4bea",
   "metadata": {},
   "outputs": [],
   "source": [
    "def bonds_transform_get_edge_index(bonds, edge_index, edge_attr):\n",
    "    return bonds, ([(\n",
    "        *edge_index_, bond['BeginAtomIdx'], bond['EndAtomIdx']\n",
    "    ) for edge_index_,bond in zip(edge_index, bonds)]), edge_attr"
   ]
  },
  {
   "cell_type": "code",
   "execution_count": 10,
   "id": "6fcc008b-f4e6-45ef-8b31-34e89ec1ee25",
   "metadata": {},
   "outputs": [],
   "source": [
    "def bonds_transform_add_mirrored_edge_index_and_attr(bonds, edge_index, edge_attr):\n",
    "    return bonds, tuple(sum([edge_index, [ei[::-1] for ei in edge_index]], [])), tuple(sum([edge_attr, edge_attr], []))"
   ]
  },
  {
   "cell_type": "code",
   "execution_count": 11,
   "id": "58412452-e67d-4461-96a6-a7a4e1463078",
   "metadata": {},
   "outputs": [],
   "source": [
    "def bonds_transform_transpose_edge_index(bonds, edge_index, edge_attr):\n",
    "    return bonds, tuple(zip(*edge_index)), edge_attr"
   ]
  },
  {
   "cell_type": "code",
   "execution_count": 12,
   "id": "31b9efda-6b50-48e3-b3b8-3321d3b1a513",
   "metadata": {},
   "outputs": [],
   "source": [
    "def bonds_transform_flatten_edge_attr(bonds, edge_index, edge_attr):\n",
    "    return bonds, edge_index, tuple(sum((list(ei) for ei in edge_attr),[]))"
   ]
  },
  {
   "cell_type": "code",
   "execution_count": 13,
   "id": "8b4561bd-e0ea-42b5-ba54-699a01545b41",
   "metadata": {},
   "outputs": [],
   "source": [
    "def atoms_transform_flatten_x(atoms, x):\n",
    "    return atoms, tuple(sum((list(x_) for x_ in x),[]))"
   ]
  },
  {
   "cell_type": "code",
   "execution_count": 14,
   "id": "1e1a5be4-a923-4177-8748-e6439147d573",
   "metadata": {},
   "outputs": [],
   "source": [
    "def mol_transform_get_prop(key):\n",
    "    def inner(mol, y):\n",
    "        y = (*y, mol[key])\n",
    "        return mol, y\n",
    "    return inner"
   ]
  },
  {
   "cell_type": "code",
   "execution_count": 15,
   "id": "1a954cb6-be94-4670-9479-48121837a4d7",
   "metadata": {},
   "outputs": [],
   "source": [
    "from torch_geometric.data import Data\n",
    "def mol_to_data(atoms, bonds, mol, atom_transformations, bond_transformations, mol_transformations=None):\n",
    "    #print('mol_to_data',len(atoms), len(bonds), mol['_Name'])\n",
    "    #print(\"mol...\")\n",
    "    #display(mol)\n",
    "    x=tuple(tuple() for _ in range(len(atoms)))\n",
    "    for t in atom_transformations:\n",
    "        atoms, x = t(atoms, x)\n",
    "    \n",
    "    edge_index=tuple(tuple() for _ in range(len(bonds)))\n",
    "    edge_attr=tuple(tuple() for _ in range(len(bonds)))\n",
    "    for t in bond_transformations:\n",
    "        bonds, edge_index, edge_attr = t(bonds, edge_index, edge_attr)\n",
    "\n",
    "    if mol_transformations:\n",
    "        y=()\n",
    "        for t in mol_transformations:\n",
    "            mol, y = t(mol, y)\n",
    "        #print(\"y...\")\n",
    "        #display(y)\n",
    "        return Data(x=torch.tensor(x), edge_attr=torch.tensor(edge_attr), edge_index=torch.tensor(edge_index), y=torch.tensor(y))\n",
    "    return Data(x=torch.tensor(x), edge_attr=torch.tensor(edge_attr), edge_index=torch.tensor(edge_index))"
   ]
  },
  {
   "cell_type": "code",
   "execution_count": 16,
   "id": "24cb400d-3fe9-4a11-83c2-b1d9062d119c",
   "metadata": {},
   "outputs": [],
   "source": [
    "def mols_to_data(abm_gen, atom_transformations, bond_transformations, mol_transformations=None):\n",
    "    #print(\"START mols_to_data\")\n",
    "    for atoms, bonds, mol in abm_gen:\n",
    "        tmp = mol_to_data(atoms, bonds, mol, atom_transformations, bond_transformations, mol_transformations=mol_transformations)\n",
    "        #print(\"yield\",tmp)\n",
    "        yield tmp\n",
    "    #print(\"END mols_to_data\")"
   ]
  },
  {
   "cell_type": "code",
   "execution_count": 17,
   "id": "e181f1c8-4144-4449-af69-651955b75bf3",
   "metadata": {},
   "outputs": [],
   "source": [
    "from torch_geometric.nn.conv import RGCNConv\n",
    "\n",
    "class RGCNLayer(nn.Module):\n",
    "    'https://arxiv.org/pdf/1703.06103'\n",
    "    def __init__(self, in_dim, out_dim, do_rate, activation=nn.Tanh):\n",
    "        super().__init__()\n",
    "        self.inner = RGCNConv(in_dim, out_dim, len(BONDTYPE))\n",
    "        self.do = nn.Dropout(p=do_rate)\n",
    "        self.act = activation() if activation is not None else None\n",
    "    def forward(self, \n",
    "                data, \n",
    "                use_old=False\n",
    "                #inputs = (X,A) \n",
    "                #X: (B*, N, in_dim) ; x_v^{(l)} synonymous with h_v^{(l)}\n",
    "                #A: (B*, num_relations, N, N)\n",
    "               ):\n",
    "        x, edge_index, edge_type = data.x, data.edge_index, data.edge_attr\n",
    "        x=self.inner(x,edge_index,edge_type)\n",
    "        if self.act is not None:\n",
    "            data = self.act(x)\n",
    "        x=self.do(x)\n",
    "        return Data(x=x,edge_index=edge_index, edge_attr=edge_type)\n",
    "        \n",
    "class RGCN(nn.Module):\n",
    "    def __init__(self, input_dim, dims, output_dim, activation=nn.Tanh, final_activation=nn.Tanh, dropout_rate=0.0):\n",
    "        super().__init__()\n",
    "        self.node_emb=nn.Embedding(len(ATOMIC_SYMBOL), input_dim)\n",
    "        self.dims=[input_dim]+dims+[output_dim]\n",
    "        self.do_rate=dropout_rate\n",
    "        self.layers = nn.Sequential(\n",
    "            *[\n",
    "                x\n",
    "                for xs in [(\n",
    "                    RGCNLayer(self.dims[i],self.dims[i+1], activation=activation, do_rate=self.do_rate),\n",
    "                ) if i+1<len(self.dims)-1 else (\n",
    "                    RGCNLayer(self.dims[i],self.dims[i+1], activation=final_activation, do_rate=self.do_rate),\n",
    "                ) if final_activation is not None else (\n",
    "                    RGCNLayer(self.dims[i],self.dims[i+1], activation=None, do_rate=self.do_rate),\n",
    "                )  for i in range(len(self.dims)-1)]\n",
    "                for x in xs\n",
    "            ]\n",
    "        )\n",
    "    def forward(self, x):\n",
    "        x=x.clone()\n",
    "        x.x=self.node_emb(x.x)\n",
    "        return self.layers(x)"
   ]
  },
  {
   "cell_type": "code",
   "execution_count": 18,
   "id": "e0869506-f22d-438b-a71f-7974c92346f4",
   "metadata": {},
   "outputs": [],
   "source": [
    "class EpochedStream:\n",
    "    def __init__(self, gen, max_epochs):\n",
    "        self.gen=gen\n",
    "        self.max_epochs=max_epochs\n",
    "        self.epoch=0\n",
    "        self.n=-1\n",
    "        self.i=0\n",
    "        self.saves=list()\n",
    "    def __iter__(self):\n",
    "        #raise Exception(\"test\")\n",
    "        return self\n",
    "    def __next__(self):\n",
    "        #print('i',self.i)\n",
    "        if self.epoch==0:\n",
    "            try:\n",
    "                self.n+=1\n",
    "                nxt = next(self.gen)\n",
    "                self.saves.append(None)\n",
    "                self.saves[self.n]=nxt\n",
    "                return nxt\n",
    "            except:\n",
    "                print(\"AAA\", len(self.saves))\n",
    "                #print('saves',self.saves)\n",
    "                self.epoch+=1\n",
    "        if self.i>=self.n:\n",
    "            self.i=0\n",
    "            self.epoch+=1\n",
    "        if self.epoch>=self.max_epochs:\n",
    "            raise StopIteration\n",
    "        self.i+=1\n",
    "        return self.saves[self.i-1]"
   ]
  },
  {
   "cell_type": "code",
   "execution_count": 19,
   "id": "62764074-47fe-4291-9e5b-2d37a58285d1",
   "metadata": {},
   "outputs": [],
   "source": [
    "from abc import ABC,abstractmethod\n",
    "class Task(ABC):\n",
    "    def __init__(self, atom_transformations, bond_transformations, mol_transformations=None):\n",
    "        self.atom_transformations=atom_transformations\n",
    "        self.bond_transformations=bond_transformations\n",
    "        self.mol_transformations=mol_transformations\n",
    "    @abstractmethod\n",
    "    def train(self, model, abm_gen, epochs):\n",
    "        pass\n",
    "    @abstractmethod\n",
    "    def eval(self, model, abm_gen):\n",
    "        pass"
   ]
  },
  {
   "cell_type": "code",
   "execution_count": 20,
   "id": "607d61b2-fcae-43d0-9938-e720be32e8d3",
   "metadata": {},
   "outputs": [],
   "source": [
    "from tqdm.auto import tqdm\n",
    "class PlogpRegressionTask(Task):\n",
    "    def __init__(self):\n",
    "        super().__init__(\n",
    "            (\n",
    "                atoms_transform_get_symbol, \n",
    "                atoms_transform_flatten_x\n",
    "            ), \n",
    "            (\n",
    "                bonds_transform_get_bondtype, \n",
    "                bonds_transform_get_edge_index, \n",
    "                bonds_transform_add_mirrored_edge_index_and_attr, \n",
    "                bonds_transform_transpose_edge_index, \n",
    "                bonds_transform_flatten_edge_attr\n",
    "            ),\n",
    "            (\n",
    "                mol_transform_get_prop(\"plogp\"),\n",
    "            )\n",
    "        )\n",
    "    def train(self, model: nn.Module, abm_gen, epochs=1):\n",
    "        optimizer=torch.optim.AdamW(model.parameters())\n",
    "        MAE=0.0\n",
    "        n=100\n",
    "        iterator = tqdm(EpochedStream(\n",
    "            mols_to_data(\n",
    "                abm_gen, \n",
    "                self.atom_transformations, \n",
    "                self.bond_transformations,\n",
    "                self.mol_transformations\n",
    "            ),\n",
    "            max_epochs=epochs\n",
    "        ))\n",
    "        for data in iterator:\n",
    "            output=model(data)\n",
    "            pred=output.x.mean()\n",
    "            error=(pred-data.y)**2\n",
    "            error.backward()\n",
    "            optimizer.step()\n",
    "            model.zero_grad(set_to_none=True)\n",
    "            MAE=(1-1/n)*MAE+error.detach().cpu().item()\n",
    "            iterator.set_description(f\"SSE: {MAE:.2f}\")\n",
    "    def eval(self, model, abm_gen):\n",
    "        pred=[]\n",
    "        target=[]\n",
    "        with torch.no_grad():\n",
    "            iterator = tqdm(mols_to_data(\n",
    "                    abm_gen, \n",
    "                    self.atom_transformations, \n",
    "                    self.bond_transformations,\n",
    "                    self.mol_transformations\n",
    "            ))\n",
    "            for data in iterator:\n",
    "                output=model(data)\n",
    "                pred.append(output.x.mean())\n",
    "                target.append(data.y)\n",
    "        return pred, target"
   ]
  },
  {
   "cell_type": "code",
   "execution_count": 22,
   "id": "1c420513-f194-4558-bc17-871d47accc82",
   "metadata": {},
   "outputs": [
    {
     "data": {
      "application/vnd.jupyter.widget-view+json": {
       "model_id": "cfa3aba071ff43eda3303329f9b29273",
       "version_major": 2,
       "version_minor": 0
      },
      "text/plain": [
       "0it [00:00, ?it/s]"
      ]
     },
     "metadata": {},
     "output_type": "display_data"
    },
    {
     "name": "stdout",
     "output_type": "stream",
     "text": [
      "AAA 1000\n"
     ]
    },
    {
     "data": {
      "application/vnd.jupyter.widget-view+json": {
       "model_id": "4d1fc553acfb478693f26100f3b4510e",
       "version_major": 2,
       "version_minor": 0
      },
      "text/plain": [
       "0it [00:00, ?it/s]"
      ]
     },
     "metadata": {},
     "output_type": "display_data"
    }
   ],
   "source": [
    "from neo4j import READ_ACCESS\n",
    "task=PlogpRegressionTask()\n",
    "model=RGCN(32,[16,32],1)\n",
    "with GraphDatabase.driver(URI, auth=AUTH) as driver:\n",
    "    with driver.session(default_access_mode=READ_ACCESS) as session:\n",
    "        with session.begin_transaction() as tx:\n",
    "            gen1=stream_from_source(tx, \"zinc_250k_10k.csv\")\n",
    "            gen2=stream_from_source(tx, \"zinc_250k_10k.csv\")\n",
    "            task.train(model, gen1, epochs=1)\n",
    "            pred, target=task.eval(model, gen2)"
   ]
  },
  {
   "cell_type": "code",
   "execution_count": 27,
   "id": "a1e7851c-eb86-4a8e-8550-0b1220d4b00b",
   "metadata": {},
   "outputs": [
    {
     "data": {
      "text/plain": [
       "Text(0.5, 1.0, 'corr=0.67')"
      ]
     },
     "execution_count": 27,
     "metadata": {},
     "output_type": "execute_result"
    },
    {
     "data": {
      "image/png": "[encoded data removed]",
      "text/plain": [
       "<Figure size 640x480 with 1 Axes>"
      ]
     },
     "metadata": {},
     "output_type": "display_data"
    }
   ],
   "source": [
    "plt.scatter(pred,target)\n",
    "plt.xlabel(\"pred\")\n",
    "plt.ylabel(\"target\")\n",
    "plt.title(f\"corr={pd.DataFrame({'pred':pred,'target':target}).corr()['pred']['target']:.2f}\")"
   ]
  }
 ],
 "metadata": {
  "kernelspec": {
   "display_name": "Python 3 (ipykernel)",
   "language": "python",
   "name": "python3"
  },
  "language_info": {
   "codemirror_mode": {
    "name": "ipython",
    "version": 3
   },
   "file_extension": ".py",
   "mimetype": "text/x-python",
   "name": "python",
   "nbconvert_exporter": "python",
   "pygments_lexer": "ipython3",
   "version": "3.10.14"
  }
 },
 "nbformat": 4,
 "nbformat_minor": 5
}
