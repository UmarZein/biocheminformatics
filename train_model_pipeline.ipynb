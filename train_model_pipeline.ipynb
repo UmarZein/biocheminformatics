{
 "cells": [
  {
   "cell_type": "code",
   "execution_count": 1,
   "id": "cb068f09-9736-4b21-a2a3-6d67b01a9c0e",
   "metadata": {},
   "outputs": [],
   "source": [
    "from pprint import pprint\n",
    "from convertmol import parse_sdf_file, bond_type_dict, single_bond_stereo_dict, double_bond_stereo_dict\n",
    "from torch_geometric.data import Data\n",
    "from torch_geometric.nn import *\n",
    "from torch_geometric.utils import to_dense_adj, to_dense_batch, add_self_loops\n",
    "from torch_geometric.nn.conv import MessagePassing\n",
    "import torch\n",
    "from torch import nn\n",
    "import rdkit\n",
    "from tqdm import tqdm\n",
    "import itertools\n",
    "from rdkit import Chem\n",
    "import pandas as pd\n",
    "from importlib import reload\n",
    "import matplotlib.pyplot as plt\n",
    "from rdkit import RDLogger\n",
    "from copy import deepcopy\n",
    "from torch.utils.data import Dataset, DataLoader\n",
    "import os\n",
    "# Suppress RDKit warnings\n",
    "RDLogger.DisableLog('rdApp.*')\n",
    "import sascorer\n",
    "torch.set_default_device('cpu:0')#'cuda'"
   ]
  },
  {
   "cell_type": "code",
   "execution_count": null,
   "id": "7ff09a52-6c83-472f-a9ba-918f8c10ed4e",
   "metadata": {},
   "outputs": [],
   "source": [
    "from neo4j import GraphDatabase, RoutingControl\n",
    "\n",
    "\n",
    "URI = \"bolt://localhost:7687\"\n",
    "AUTH = (\"neo4j\", \"password\")"
   ]
  },
  {
   "cell_type": "raw",
   "id": "2109a58f-38d3-4afd-aab5-e48c830532bf",
   "metadata": {},
   "source": [
    "filename: rgcn_apples123\n",
    "in_edge_feats: bond_type\n",
    "in_node_feats: symbol"
   ]
  },
  {
   "cell_type": "code",
   "execution_count": null,
   "id": "09cec896-8b83-47ce-8427-5d3884cde172",
   "metadata": {},
   "outputs": [],
   "source": []
  },
  {
   "cell_type": "code",
   "execution_count": null,
   "id": "038bed0b-ba8f-4ea2-bf43-9de299dfeb77",
   "metadata": {},
   "outputs": [],
   "source": []
  }
 ],
 "metadata": {
  "kernelspec": {
   "display_name": "Python 3 (ipykernel)",
   "language": "python",
   "name": "python3"
  },
  "language_info": {
   "codemirror_mode": {
    "name": "ipython",
    "version": 3
   },
   "file_extension": ".py",
   "mimetype": "text/x-python",
   "name": "python",
   "nbconvert_exporter": "python",
   "pygments_lexer": "ipython3",
   "version": "3.10.14"
  }
 },
 "nbformat": 4,
 "nbformat_minor": 5
}
