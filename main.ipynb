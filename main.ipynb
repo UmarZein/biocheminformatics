{
 "cells": [
  {
   "cell_type": "code",
   "execution_count": 1,
   "id": "d3a81544-b753-4983-9c02-91e3181b1e3e",
   "metadata": {},
   "outputs": [],
   "source": [
    "from pprint import pprint\n",
    "from molparser.convertmol import parse_sdf_file, bond_type_dict, single_bond_stereo_dict, double_bond_stereo_dict\n",
    "from torch_geometric.data import Data\n",
    "from torch_geometric.nn import *\n",
    "from torch_geometric.utils import to_dense_adj, to_dense_batch, add_self_loops\n",
    "from torch_geometric.nn.conv import MessagePassing\n",
    "import torch\n",
    "from torch import nn\n",
    "import rdkit\n",
    "from tqdm import tqdm\n",
    "import itertools\n",
    "from rdkit import Chem\n",
    "import pandas as pd\n",
    "from importlib import reload\n",
    "import matplotlib.pyplot as plt\n",
    "from rdkit import RDLogger\n",
    "from copy import deepcopy\n",
    "from torch.utils.data import Dataset, DataLoader\n",
    "# Suppress RDKit warnings\n",
    "RDLogger.DisableLog('rdApp.*')\n",
    "import sascorer\n",
    "torch.set_default_device('cpu:0')#'cuda'"
   ]
  },
  {
   "cell_type": "code",
   "execution_count": 3,
   "id": "7089ea20-76b3-4ce7-a75b-d72ee852ca69",
   "metadata": {},
   "outputs": [],
   "source": [
    "from neo4j import GraphDatabase"
   ]
  },
  {
   "cell_type": "code",
   "execution_count": null,
   "id": "2b33ce7e-5449-4615-aa69-2de2c6a85986",
   "metadata": {},
   "outputs": [],
   "source": [
    "Dataset\n",
    "    entry_id\n",
    "        "
   ]
  },
  {
   "cell_type": "code",
   "execution_count": 2,
   "id": "e8b18006-057b-4cbd-93dd-9ac003e8c206",
   "metadata": {},
   "outputs": [],
   "source": [
    "from neo4j import GraphDatabase, RoutingControl\n",
    "\n",
    "\n",
    "URI = \"bolt://localhost:7687\"\n",
    "AUTH = (\"neo4j\", \"password\")\n",
    "\n",
    "\n",
    "def add_friend(driver, name, friend_name):\n",
    "    driver.execute_query(\n",
    "        \"MERGE (a:Person {name: $name}) \"\n",
    "        \"MERGE (friend:Person {name: $friend_name}) \"\n",
    "        \"MERGE (a)-[:KNOWS]->(friend)\",\n",
    "        name=name, friend_name=friend_name, database_=\"neo4j\",\n",
    "    )\n",
    "\n",
    "\n",
    "def print_friends(driver, name):\n",
    "    records, _, _ = driver.execute_query(\n",
    "        \"MATCH (a:Person)-[:KNOWS]->(friend) WHERE a.name = $name \"\n",
    "        \"RETURN friend.name ORDER BY friend.name\",\n",
    "        name=name, database_=\"neo4j\", routing_=RoutingControl.READ,\n",
    "    )\n",
    "    for record in records:\n",
    "        print(record[\"friend.name\"])\n",
    "\n"
   ]
  },
  {
   "cell_type": "code",
   "execution_count": 5,
   "id": "4ff9a92b-1142-4ca6-b668-9a9da3d45bc0",
   "metadata": {},
   "outputs": [
    {
     "name": "stderr",
     "output_type": "stream",
     "text": [
      "Received notification from DBMS server: {severity: WARNING} {code: Neo.ClientNotification.Statement.UnknownRelationshipTypeWarning} {category: UNRECOGNIZED} {title: The provided relationship type is not in the database.} {description: One of the relationship types in your query is not available in the database, make sure you didn't misspell it or that the label is available when you run this statement in your application (the missing relationship type is: KNOWS)} {position: line: 1, column: 20, offset: 19} for query: 'MATCH (a:Person)-[:KNOWS]->(friend) WHERE a.name = $name RETURN friend.name ORDER BY friend.name'\n",
      "Received notification from DBMS server: {severity: WARNING} {code: Neo.ClientNotification.Statement.UnknownLabelWarning} {category: UNRECOGNIZED} {title: The provided label is not in the database.} {description: One of the labels in your query is not available in the database, make sure you didn't misspell it or that the label is available when you run this statement in your application (the missing label name is: Person)} {position: line: 1, column: 10, offset: 9} for query: 'MATCH (a:Person)-[:KNOWS]->(friend) WHERE a.name = $name RETURN friend.name ORDER BY friend.name'\n",
      "Received notification from DBMS server: {severity: WARNING} {code: Neo.ClientNotification.Statement.UnknownPropertyKeyWarning} {category: UNRECOGNIZED} {title: The provided property key is not in the database} {description: One of the property names in your query is not available in the database, make sure you didn't misspell it or that the label is available when you run this statement in your application (the missing property name is: name)} {position: line: 1, column: 45, offset: 44} for query: 'MATCH (a:Person)-[:KNOWS]->(friend) WHERE a.name = $name RETURN friend.name ORDER BY friend.name'\n",
      "Received notification from DBMS server: {severity: WARNING} {code: Neo.ClientNotification.Statement.UnknownPropertyKeyWarning} {category: UNRECOGNIZED} {title: The provided property key is not in the database} {description: One of the property names in your query is not available in the database, make sure you didn't misspell it or that the label is available when you run this statement in your application (the missing property name is: name)} {position: line: 1, column: 72, offset: 71} for query: 'MATCH (a:Person)-[:KNOWS]->(friend) WHERE a.name = $name RETURN friend.name ORDER BY friend.name'\n"
     ]
    }
   ],
   "source": [
    "with GraphDatabase.driver(URI, auth=AUTH) as driver:\n",
    "    driver.se"
   ]
  },
  {
   "cell_type": "code",
   "execution_count": 6,
   "id": "db345be7-c077-41dc-b9db-c7a42e298070",
   "metadata": {},
   "outputs": [],
   "source": [
    "res"
   ]
  },
  {
   "cell_type": "code",
   "execution_count": null,
   "id": "f89bf7f3-13cb-46ef-b274-b32856462cda",
   "metadata": {},
   "outputs": [],
   "source": [
    "add_friend(driver, \"Arthur\", \"Guinevere\")\n",
    "    add_friend(driver, \"Arthur\", \"Lancelot\")\n",
    "    add_friend(driver, \"Arthur\", \"Merlin\")"
   ]
  }
 ],
 "metadata": {
  "kernelspec": {
   "display_name": "Python 3 (ipykernel)",
   "language": "python",
   "name": "python3"
  },
  "language_info": {
   "codemirror_mode": {
    "name": "ipython",
    "version": 3
   },
   "file_extension": ".py",
   "mimetype": "text/x-python",
   "name": "python",
   "nbconvert_exporter": "python",
   "pygments_lexer": "ipython3",
   "version": "3.10.14"
  }
 },
 "nbformat": 4,
 "nbformat_minor": 5
}
