{
 "cells": [
  {
   "cell_type": "code",
   "execution_count": 11,
   "id": "91a3d27c-532e-49e5-8351-c9f5a7292723",
   "metadata": {},
   "outputs": [],
   "source": [
    "import torch\n",
    "from torch import nn\n",
    "import matplotlib.pyplot as plt\n",
    "from sklearn.datasets import load_iris"
   ]
  },
  {
   "cell_type": "code",
   "execution_count": 15,
   "id": "773ebab3-cae0-4a53-a1f5-41748559dc4e",
   "metadata": {},
   "outputs": [],
   "source": [
    "X=torch.tensor(load_iris()['data'])\n",
    "y=torch.tensor(load_iris()['target'])"
   ]
  },
  {
   "cell_type": "code",
   "execution_count": 32,
   "id": "6431fe6d-4885-4297-bd64-a1cacfddda9d",
   "metadata": {},
   "outputs": [],
   "source": [
    "class MyNN(nn.Module):\n",
    "    def __init__(self):\n",
    "        super().__init__()\n",
    "        self.W=nn.Parameter(torch.randn(4))\n",
    "        self.b=nn.Parameter(torch.randn(4))\n",
    "    def forward(self, x):\n",
    "        return (x*self.W+self.b).sum(-1)"
   ]
  },
  {
   "cell_type": "code",
   "execution_count": 33,
   "id": "1453f44c-f47c-4983-a8aa-647d210e93e7",
   "metadata": {},
   "outputs": [],
   "source": [
    "model=MyNN()\n",
    "optimizer=torch.optim.SGD(model.parameters())"
   ]
  },
  {
   "cell_type": "code",
   "execution_count": 36,
   "id": "1fc63775-3e81-457c-9d32-5b4e90b8308e",
   "metadata": {},
   "outputs": [
    {
     "data": {
      "text/plain": [
       "torch.Size([150, 4])"
      ]
     },
     "execution_count": 36,
     "metadata": {},
     "output_type": "execute_result"
    }
   ],
   "source": [
    "X.shape"
   ]
  },
  {
   "cell_type": "code",
   "execution_count": 35,
   "id": "178eac4f-b7a4-4c64-9887-40b288d7eabd",
   "metadata": {},
   "outputs": [
    {
     "data": {
      "text/plain": [
       "torch.Size([150])"
      ]
     },
     "execution_count": 35,
     "metadata": {},
     "output_type": "execute_result"
    }
   ],
   "source": [
    "model(X).shape"
   ]
  },
  {
   "cell_type": "markdown",
   "id": "894e2081-f167-441c-a411-92bbc4b2ff4d",
   "metadata": {},
   "source": [
    "$f(x)= Wx+b$"
   ]
  },
  {
   "cell_type": "code",
   "execution_count": null,
   "id": "37dc8e8e-5f0b-46f7-a6ec-34e16e4de21a",
   "metadata": {},
   "outputs": [],
   "source": []
  },
  {
   "cell_type": "code",
   "execution_count": null,
   "id": "6cf14351-fa39-44e1-9853-747bba6b01e7",
   "metadata": {},
   "outputs": [],
   "source": []
  }
 ],
 "metadata": {
  "kernelspec": {
   "display_name": "Python 3 (ipykernel)",
   "language": "python",
   "name": "python3"
  },
  "language_info": {
   "codemirror_mode": {
    "name": "ipython",
    "version": 3
   },
   "file_extension": ".py",
   "mimetype": "text/x-python",
   "name": "python",
   "nbconvert_exporter": "python",
   "pygments_lexer": "ipython3",
   "version": "3.10.14"
  }
 },
 "nbformat": 4,
 "nbformat_minor": 5
}
