{
 "cells": [
  {
   "cell_type": "code",
   "execution_count": 1,
   "id": "ed5f96ed-6c3e-46ff-b095-041a59ed58c6",
   "metadata": {},
   "outputs": [
    {
     "name": "stderr",
     "output_type": "stream",
     "text": [
      "/home/maru/micromamba/envs/textmining/lib/python3.10/site-packages/tqdm/auto.py:21: TqdmWarning: IProgress not found. Please update jupyter and ipywidgets. See https://ipywidgets.readthedocs.io/en/stable/user_install.html\n",
      "  from .autonotebook import tqdm as notebook_tqdm\n"
     ]
    }
   ],
   "source": [
    "from pprint import pprint\n",
    "from torch_geometric.data import Data, DataListLoader, Dataset, InMemoryDataset, Batch\n",
    "from torch_geometric.loader import DataListLoader, DataLoader\n",
    "from torch_geometric.nn import *\n",
    "from torch_geometric.utils import to_dense_adj, to_dense_batch, add_self_loops, remove_self_loops\n",
    "from torch_geometric.nn.conv import MessagePassing\n",
    "import torch\n",
    "from torch import nn\n",
    "import rdkit\n",
    "from tqdm.auto import tqdm\n",
    "import itertools\n",
    "from rdkit import Chem\n",
    "import pandas as pd\n",
    "from importlib import reload\n",
    "import matplotlib.pyplot as plt\n",
    "from rdkit import RDLogger\n",
    "\n",
    "from copy import deepcopy\n",
    "#from torch.utils.data import Dataset, DataLoader\n",
    "from typing import Tuple, List, Dict, Union\n",
    "from torch import Tensor\n",
    "from torch_geometric.nn import MessagePassing, radius_graph\n",
    "from torch_geometric.utils import add_self_loops, degree\n",
    "from torch_scatter import scatter\n",
    "from torch_geometric.typing import (\n",
    "    Adj,\n",
    "    OptTensor,\n",
    "    SparseTensor,\n",
    "    pyg_lib,\n",
    "    torch_sparse,\n",
    ")\n",
    "from torch_geometric.data import (\n",
    "    Data,\n",
    "    InMemoryDataset,\n",
    "    download_url,\n",
    "    extract_zip,\n",
    ")\n",
    "from rdkit import Chem\n",
    "import os\n",
    "# Suppress RDKit warnings\n",
    "RDLogger.DisableLog('rdApp.*')\n",
    "cuda=torch.device('cuda') if torch.cuda.is_available() else 'cpu'\n",
    "import sascorer\n",
    "#torch.set_default_dtype(torch.float64)\n",
    "from models import *\n",
    "from rdkit.Chem.Crippen import MolLogP\n",
    "from typing import List\n",
    "#from prolog import *\n",
    "#import torchlens as tl"
   ]
  },
  {
   "cell_type": "code",
   "execution_count": 2,
   "id": "e3615280-3685-4b3b-8ac4-247affaecf16",
   "metadata": {},
   "outputs": [],
   "source": [
    "from torch_geometric.nn import GCNConv\n",
    "from torch_geometric.datasets import KarateClub\n",
    "from torch_geometric.utils import negative_sampling\n",
    "from torch_geometric.transforms import RandomLinkSplit\n",
    "from sklearn.metrics import roc_auc_score"
   ]
  },
  {
   "cell_type": "code",
   "execution_count": 3,
   "id": "316e92e9-da73-4236-bb28-708bb3971419",
   "metadata": {},
   "outputs": [],
   "source": [
    "from torch_geometric.datasets import Planetoid"
   ]
  },
  {
   "cell_type": "code",
   "execution_count": 4,
   "id": "42552e7e-9729-4a1e-8bde-419b5afc9eb6",
   "metadata": {},
   "outputs": [],
   "source": [
    "def enumerate_last(iterable):\n",
    "    it = iter(iterable)\n",
    "    try:\n",
    "        prev = next(it)\n",
    "    except StopIteration:\n",
    "        return  # Empty iterable case\n",
    "\n",
    "    for item in it:\n",
    "        yield (False, prev)\n",
    "        prev = item\n",
    "\n",
    "    yield (True, prev)  # Last element"
   ]
  },
  {
   "cell_type": "code",
   "execution_count": 6,
   "id": "fa2c72d1-7232-421a-aabd-2ff0d144ac7f",
   "metadata": {},
   "outputs": [],
   "source": [
    "\n",
    "class GCNLinkPredictor(nn.Module):\n",
    "    def __init__(self, in_channels, hidden_channels, out_channels):\n",
    "        super(GCNLinkPredictor, self).__init__()\n",
    "        self.convs = nn.ModuleList([\n",
    "            GCNConv(in_channels, hidden_channels),\n",
    "            GCNConv(hidden_channels, hidden_channels),\n",
    "            GCNConv(hidden_channels, hidden_channels),\n",
    "            GCNConv(hidden_channels, hidden_channels),\n",
    "            GCNConv(hidden_channels, hidden_channels),\n",
    "            GCNConv(hidden_channels, out_channels)\n",
    "        ])\n",
    "    def encode(self, x, edge_index):\n",
    "        for is_last,conv in enumerate_last(self.convs):\n",
    "            x = conv(x, edge_index)\n",
    "            if not is_last:\n",
    "                x=x.relu()\n",
    "        return x\n",
    "\n",
    "    def decode(self, z, edge_index):\n",
    "        # Dot product decoder to compute the edge score.\n",
    "        return (z[edge_index[0]] * z[edge_index[1]]).sum(dim=1)"
   ]
  },
  {
   "cell_type": "code",
   "execution_count": 7,
   "id": "c9523d64-5c41-4ee9-aa35-b351f53d6896",
   "metadata": {},
   "outputs": [],
   "source": [
    "from models import m307b_clean\n",
    "from importlib import reload\n",
    "_=reload(m307b_clean)"
   ]
  },
  {
   "cell_type": "code",
   "execution_count": 13,
   "id": "f12b0fd1-ab11-4cd4-91ce-d6a8d624887f",
   "metadata": {},
   "outputs": [],
   "source": [
    "from models.m307b_clean import M307B\n",
    "class M307BLinkPredictor(M307B):\n",
    "    def __init__(self,*args, **kwargs):\n",
    "        super().__init__(*args, **kwargs)\n",
    "        self.map = nn.Linear(1433,16)\n",
    "    def encode(self, h, edge_index):\n",
    "        edge_attr = torch.zeros_like(edge_index[0,:]).view(-1,1).float()\n",
    "        return self(self.map(h), edge_attr, edge_index)\n",
    "\n",
    "    def decode(self, z, edge_index):\n",
    "        # Dot product decoder to compute the edge score.\n",
    "        return (z[edge_index[0]] * z[edge_index[1]]).sum(dim=1)"
   ]
  },
  {
   "cell_type": "code",
   "execution_count": 14,
   "id": "de43b803-8d9e-4ee9-a008-c2054544d3fc",
   "metadata": {},
   "outputs": [],
   "source": [
    "import torch\n",
    "import torch.nn as nn\n",
    "import torch.nn.functional as F\n",
    "from torch_geometric.nn import GCNConv\n",
    "from torch_geometric.datasets import KarateClub\n",
    "from torch_geometric.transforms import RandomLinkSplit\n",
    "from torch_geometric.utils import negative_sampling\n",
    "from sklearn.metrics import roc_auc_score\n",
    "from sklearn.decomposition import PCA\n",
    "\n",
    "# Load the KarateClub dataset\n",
    "ds=Planetoid('datasets/planetoid-cora',name='Cora',split='full')\n",
    "data = ds[0]\n",
    "\n",
    "# If no node features are provided, use an identity matrix as one-hot encoding per node.\n",
    "if data.x is None:\n",
    "    data.x = torch.eye(data.num_nodes)\n",
    "\n",
    "# Use RandomLinkSplit to create training, validation, and test splits.\n",
    "# Note: is_undirected=True is set for an undirected graph.\n",
    "transform = RandomLinkSplit(num_val=0.1, num_test=0.2, is_undirected=True)\n",
    "train_data, val_data, test_data = transform(data)\n",
    "\n",
    "\n",
    "device = torch.device('cuda' if torch.cuda.is_available() else 'cpu')\n",
    "\n",
    "train_data = train_data.to(device)\n",
    "val_data = val_data.to(device)\n",
    "test_data = test_data.to(device)\n",
    "\n",
    "def train(model, opetimizer, data):\n",
    "    model.train()\n",
    "    optimizer.zero_grad()\n",
    "    \n",
    "    # Encode nodes using only the training graph (with positive edges).\n",
    "    z = model.encode(data.x, data.edge_index)\n",
    "    \n",
    "    # Compute positive edge scores using training edges.\n",
    "    pos_edge = data.edge_index\n",
    "    pos_scores = model.decode(z, pos_edge)\n",
    "    \n",
    "    # Negative sampling on the training graph.\n",
    "    neg_edge = negative_sampling(\n",
    "        edge_index=pos_edge,\n",
    "        num_nodes=data.num_nodes,\n",
    "        num_neg_samples=pos_edge.size(1)\n",
    "    )\n",
    "    neg_scores = model.decode(z, neg_edge)\n",
    "    \n",
    "    # Binary cross entropy loss.\n",
    "    pos_loss = -torch.log(torch.sigmoid(pos_scores) + 1e-15).mean()\n",
    "    neg_loss = -torch.log(1 - torch.sigmoid(neg_scores) + 1e-15).mean()\n",
    "    loss = pos_loss + neg_loss\n",
    "    loss.backward()\n",
    "    optimizer.step()\n",
    "    return loss.item()\n",
    "\n",
    "@torch.no_grad()\n",
    "def test(model, train_data, val_data, test_data):\n",
    "    model.eval()\n",
    "    # Use the training graph to compute node embeddings.\n",
    "    z = model.encode(train_data.x, train_data.edge_index).to(device)\n",
    "    \n",
    "    def compute_auc(split):\n",
    "        # Evaluate using the provided edge_label_index and edge_label.\n",
    "        scores = model.decode(z, split.edge_label_index)\n",
    "        scores = scores.cpu()\n",
    "        labels = split.edge_label.cpu()\n",
    "        return roc_auc_score(labels, scores)\n",
    "    \n",
    "    auc_val = compute_auc(val_data)\n",
    "    auc_test = compute_auc(test_data)\n",
    "    return auc_val, auc_test"
   ]
  },
  {
   "cell_type": "code",
   "execution_count": 16,
   "id": "c1674405-1640-4f95-9052-c2be9751942d",
   "metadata": {},
   "outputs": [
    {
     "name": "stdout",
     "output_type": "stream",
     "text": [
      "#params: 24304\n",
      "Epoch: 000, Loss: 1.3846, Val AUC: 0.6473, Test AUC: 0.6623\n",
      "Epoch: 005, Loss: 1.3795, Val AUC: 0.6435, Test AUC: 0.6570\n",
      "Epoch: 010, Loss: 1.3206, Val AUC: 0.6511, Test AUC: 0.6739\n",
      "Epoch: 015, Loss: 1.1939, Val AUC: 0.7236, Test AUC: 0.7083\n",
      "Epoch: 020, Loss: 1.1098, Val AUC: 0.7344, Test AUC: 0.7337\n",
      "Epoch: 025, Loss: 1.0920, Val AUC: 0.7305, Test AUC: 0.7292\n",
      "Epoch: 030, Loss: 1.0858, Val AUC: 0.7302, Test AUC: 0.7310\n",
      "Epoch: 035, Loss: 1.0775, Val AUC: 0.7328, Test AUC: 0.7320\n",
      "Epoch: 040, Loss: 1.0892, Val AUC: 0.7313, Test AUC: 0.7350\n",
      "Epoch: 045, Loss: 1.0831, Val AUC: 0.7256, Test AUC: 0.7309\n",
      "Epoch: 050, Loss: 1.0816, Val AUC: 0.7258, Test AUC: 0.7296\n",
      "Epoch: 055, Loss: 1.0720, Val AUC: 0.7275, Test AUC: 0.7278\n",
      "Epoch: 060, Loss: 1.0707, Val AUC: 0.7294, Test AUC: 0.7258\n",
      "Epoch: 065, Loss: 1.0673, Val AUC: 0.7326, Test AUC: 0.7250\n",
      "Epoch: 070, Loss: 1.0686, Val AUC: 0.7330, Test AUC: 0.7283\n",
      "Epoch: 075, Loss: 1.0643, Val AUC: 0.7368, Test AUC: 0.7318\n",
      "Epoch: 080, Loss: 1.0262, Val AUC: 0.7731, Test AUC: 0.7681\n",
      "Epoch: 085, Loss: 1.0183, Val AUC: 0.7894, Test AUC: 0.7893\n",
      "Epoch: 090, Loss: 0.9924, Val AUC: 0.7996, Test AUC: 0.7872\n",
      "Epoch: 095, Loss: 0.9702, Val AUC: 0.8037, Test AUC: 0.7931\n"
     ]
    }
   ],
   "source": [
    "\n",
    "model = GCNLinkPredictor(in_channels=train_data.x.size(1), hidden_channels=16, out_channels=16).to(device)\n",
    "print(\"#params:\",sum(map(torch.numel,model.parameters())))\n",
    "optimizer = torch.optim.Adam(model.parameters(), lr=0.01)\n",
    "# Train the model\n",
    "for epoch in range(100):\n",
    "    loss = train(model, optimizer, train_data)\n",
    "    if epoch % 5 == 0:\n",
    "        auc_val, auc_test = test(model, train_data, val_data, test_data)\n",
    "        print(f'Epoch: {epoch:03d}, Loss: {loss:.4f}, Val AUC: {auc_val:.4f}, Test AUC: {auc_test:.4f}')\n"
   ]
  },
  {
   "cell_type": "code",
   "execution_count": 18,
   "id": "7a557391-95ed-42b6-86b0-69823dcc1ce4",
   "metadata": {},
   "outputs": [
    {
     "data": {
      "text/plain": [
       "Data(x=[2708, 1433], edge_index=[2, 10556], y=[2708], train_mask=[2708], val_mask=[2708], test_mask=[2708])"
      ]
     },
     "execution_count": 18,
     "metadata": {},
     "output_type": "execute_result"
    }
   ],
   "source": [
    "data"
   ]
  },
  {
   "cell_type": "code",
   "execution_count": 17,
   "id": "8e0a20ac-0ca9-4e4d-aedc-7fb56aa8d2f1",
   "metadata": {},
   "outputs": [
    {
     "name": "stdout",
     "output_type": "stream",
     "text": [
      "#params: 27142\n",
      "Epoch: 000, Loss: 17.0587, Val AUC: 0.5611, Test AUC: 0.5662\n",
      "Epoch: 005, Loss: 3.7842, Val AUC: 0.6129, Test AUC: 0.6284\n",
      "Epoch: 010, Loss: 1.9487, Val AUC: 0.6415, Test AUC: 0.6533\n",
      "Epoch: 015, Loss: 1.4802, Val AUC: 0.6474, Test AUC: 0.6743\n",
      "Epoch: 020, Loss: 1.3741, Val AUC: 0.6715, Test AUC: 0.7009\n",
      "Epoch: 025, Loss: 1.2585, Val AUC: 0.6802, Test AUC: 0.7099\n",
      "Epoch: 030, Loss: 1.1877, Val AUC: 0.6967, Test AUC: 0.7288\n",
      "Epoch: 035, Loss: 1.1588, Val AUC: 0.7124, Test AUC: 0.7446\n",
      "Epoch: 040, Loss: 1.1031, Val AUC: 0.7185, Test AUC: 0.7537\n",
      "Epoch: 045, Loss: 1.0742, Val AUC: 0.7245, Test AUC: 0.7614\n",
      "Epoch: 050, Loss: 1.0402, Val AUC: 0.7303, Test AUC: 0.7677\n",
      "Epoch: 055, Loss: 1.0148, Val AUC: 0.7365, Test AUC: 0.7747\n",
      "Epoch: 060, Loss: 1.0599, Val AUC: 0.7393, Test AUC: 0.7812\n",
      "Epoch: 065, Loss: 1.0141, Val AUC: 0.7437, Test AUC: 0.7855\n",
      "Epoch: 070, Loss: 1.0078, Val AUC: 0.7489, Test AUC: 0.7898\n",
      "Epoch: 075, Loss: 0.9793, Val AUC: 0.7488, Test AUC: 0.7936\n",
      "Epoch: 080, Loss: 1.0242, Val AUC: 0.7499, Test AUC: 0.7955\n",
      "Epoch: 085, Loss: 0.9486, Val AUC: 0.7529, Test AUC: 0.7997\n",
      "Epoch: 090, Loss: 0.9316, Val AUC: 0.7556, Test AUC: 0.8036\n",
      "Epoch: 095, Loss: 0.9360, Val AUC: 0.7577, Test AUC: 0.8061\n"
     ]
    }
   ],
   "source": [
    "node_dim=16\n",
    "hidden_dim=16\n",
    "inner_dim=16\n",
    "model = M307BLinkPredictor(\n",
    "    node_dimses=[\n",
    "        [node_dim,   inner_dim, hidden_dim],\n",
    "        [hidden_dim, inner_dim, hidden_dim],\n",
    "        [hidden_dim, inner_dim, hidden_dim],\n",
    "        [hidden_dim, inner_dim, hidden_dim],\n",
    "        [hidden_dim, inner_dim, hidden_dim],\n",
    "        [hidden_dim, inner_dim, hidden_dim],\n",
    "    ],\n",
    "    edge_dimses=[\n",
    "        [1, hidden_dim],\n",
    "        [1, hidden_dim],\n",
    "        [1, hidden_dim],\n",
    "        [1, hidden_dim],\n",
    "        [1, hidden_dim],\n",
    "        [1, hidden_dim],\n",
    "    ],\n",
    "    activation=nn.SiLU,\n",
    "    dropout_rate=0,\n",
    "    ).to(device)\n",
    "print(\"#params:\",sum(map(torch.numel,model.parameters())))\n",
    "optimizer = torch.optim.Adam(model.parameters(), lr=0.01)\n",
    "# Train the model\n",
    "for epoch in range(100):\n",
    "    loss = train(model, optimizer, train_data)\n",
    "    if epoch % 5 == 0:\n",
    "        auc_val, auc_test = test(model, train_data, val_data, test_data)\n",
    "        print(f'Epoch: {epoch:03d}, Loss: {loss:.4f}, Val AUC: {auc_val:.4f}, Test AUC: {auc_test:.4f}')\n"
   ]
  },
  {
   "cell_type": "code",
   "execution_count": 34,
   "id": "44c4d030-d23f-4402-8011-c60b79a2c837",
   "metadata": {},
   "outputs": [
    {
     "name": "stdout",
     "output_type": "stream",
     "text": [
      "Parameter containing:\n",
      "tensor([1.0061, 1.0141, 1.0158, 1.1479, 1.1511, 1.1472, 1.1271, 0.8646, 0.9467,\n",
      "        0.8907, 0.8993, 0.7285, 1.0994, 0.9746, 0.7081, 0.9881, 1.1249, 1.0201,\n",
      "        1.0170, 0.7510, 0.9181, 0.8399, 0.9558, 1.1762, 0.7181, 0.7015, 0.6753,\n",
      "        1.0228, 1.0947, 1.0132, 0.8804, 0.9982, 1.0818, 1.1061, 0.9119, 1.0503,\n",
      "        0.9111, 0.8308, 0.9412, 0.8230, 0.7303, 1.2109, 0.7824, 1.0068, 0.9572,\n",
      "        1.0117, 0.9358, 0.9009, 0.9428, 0.7858, 1.0028, 1.0819, 0.7838, 1.1019,\n",
      "        1.0545, 1.0808, 0.7992, 0.7195, 0.9679, 0.9222, 0.7677, 0.7603, 0.9260,\n",
      "        0.9416, 1.0698, 0.8621, 0.8129, 0.8895, 0.6565, 0.9638, 0.8874, 0.8962,\n",
      "        0.7377, 0.6436, 0.7694, 0.9658, 0.7946, 0.9556, 0.9460, 0.8951, 0.7375,\n",
      "        0.8055, 0.9803, 0.9196, 1.0044, 0.9176, 0.7754, 0.8766, 0.9366, 0.9999,\n",
      "        0.8318, 0.8912, 1.0089, 0.8411, 0.7546, 0.9442, 0.9385, 0.9093, 0.7587,\n",
      "        0.8542], requires_grad=True)\n",
      "Parameter containing:\n",
      "tensor([1.0074, 1.1171, 0.8210, 1.0191, 1.0949, 0.6912, 0.8049, 1.1135, 0.7483,\n",
      "        1.0779, 1.0735, 1.0161, 0.9687, 0.7582, 1.0025, 1.1604, 1.0028, 0.7252,\n",
      "        0.7548, 1.0535, 0.8870, 1.0907, 1.0715, 0.8427, 0.9512, 0.9170, 0.9811,\n",
      "        1.0734, 0.7653, 0.9442, 1.0877, 0.6990, 1.0027, 0.7417, 0.9238, 0.7156,\n",
      "        0.9464, 0.7822, 1.0354, 1.0035, 0.8605, 1.0785, 0.9766, 1.0074, 0.7657,\n",
      "        0.9495, 1.0659, 1.0813, 1.0974, 1.1091, 1.0029, 0.8066, 1.0078, 0.9701,\n",
      "        0.7380, 1.0942, 1.0236, 0.9337, 0.6356, 0.7491, 1.0125, 0.7618, 0.7201,\n",
      "        1.0221, 0.7276, 1.1301, 0.8459, 1.0235, 0.8304, 1.0493, 0.8019, 0.9375,\n",
      "        1.0465, 1.0663, 1.0229, 1.2058, 0.8861, 1.0478, 0.7318, 0.8806, 0.7235,\n",
      "        1.0902, 1.0432, 1.0149, 0.9596, 0.7127, 0.9706, 0.8379, 1.1111, 0.9759,\n",
      "        1.1153, 0.9593, 1.0968, 0.7849, 0.9169, 0.8733, 1.1550, 0.9544, 1.0613,\n",
      "        1.1187], requires_grad=True)\n",
      "Parameter containing:\n",
      "tensor([0.8044, 1.0551, 1.1134, 1.0181, 1.1121, 0.7936, 0.7296, 0.8781, 0.9264,\n",
      "        0.8706, 1.1515, 1.0226, 0.8877, 1.0073, 1.1331, 1.0116, 0.8391, 1.0940,\n",
      "        0.8157, 1.1974, 0.7949, 1.0008, 0.9079, 0.8612, 1.1697, 1.0930, 1.0282,\n",
      "        0.9727, 1.0834, 0.9038, 0.9952, 0.8825, 1.0313, 0.7294, 0.8100, 0.8219,\n",
      "        0.7379, 1.2734, 0.8251, 0.7015, 0.9850, 0.8473, 1.2247, 0.6967, 1.0316,\n",
      "        0.7696, 1.1437, 1.0961, 0.9895, 1.0406, 0.9091, 0.7704, 0.6866, 1.1485,\n",
      "        0.9204, 1.1357, 0.7541, 0.8584, 1.0065, 1.1057, 1.0289, 1.1729, 0.7483,\n",
      "        0.8150, 1.0648, 1.0454, 0.8070, 0.9803, 0.7734, 1.1085, 1.0801, 0.6287,\n",
      "        1.0003, 0.8871, 0.9917, 0.9249, 0.9507, 0.9045, 0.7577, 0.6913, 0.8675,\n",
      "        0.7598, 0.9788, 0.9105, 0.9401, 1.0231, 0.8883, 1.0473, 1.1808, 1.0019,\n",
      "        0.7280, 1.1868, 1.0188, 0.7815, 0.8453, 0.9412, 0.8240, 1.0255, 0.7116,\n",
      "        1.0614], requires_grad=True)\n",
      "Parameter containing:\n",
      "tensor([0.7126, 0.9484, 0.9201, 0.7647, 1.0601, 1.1306, 0.7198, 0.6597, 1.0571,\n",
      "        1.0203, 0.8646, 1.0950, 0.7255, 0.7564, 0.8479, 0.7524, 1.1703, 0.9619,\n",
      "        0.7323, 1.0257, 0.8968, 0.9025, 1.0898, 1.0044, 0.7784, 0.9918, 0.7798,\n",
      "        1.3099, 1.1779, 0.8069, 0.6895, 0.8913, 1.0274, 0.9960, 1.1156, 0.7725,\n",
      "        0.7044, 0.9988, 0.7393, 0.8566, 0.7854, 0.9494, 0.9975, 0.7248, 1.0815,\n",
      "        0.9521, 0.7130, 1.0971, 0.9814, 0.9212, 1.0227, 0.7528, 0.7525, 0.8284,\n",
      "        0.9314, 0.8220, 0.7890, 0.9133, 1.0176, 0.6977, 0.7425, 1.1493, 0.9234,\n",
      "        0.7226, 1.1758, 0.9561, 0.9881, 0.8247, 0.9889, 0.7444, 1.0036, 1.0610,\n",
      "        1.1510, 0.8564, 0.8723, 0.7689, 0.6930, 0.6512, 0.7390, 1.0624, 0.9341,\n",
      "        0.7408, 1.0596, 0.9668, 1.0587, 0.6659, 0.8479, 0.8912, 0.8765, 0.8450,\n",
      "        1.0375, 0.6908, 0.7536, 0.7971, 0.7384, 0.6669, 0.7193, 0.7682, 0.8102,\n",
      "        0.8315], requires_grad=True)\n",
      "Parameter containing:\n",
      "tensor([0.7619, 0.8312, 1.2061, 0.7643, 0.7235, 0.8898, 1.1860, 0.9130, 0.9626,\n",
      "        0.9533, 1.1654, 0.9272, 1.1442, 0.7981, 0.9444, 0.7291, 0.6803, 0.9199,\n",
      "        0.7350, 1.0582, 0.7199, 0.8273, 0.7018, 0.9600, 0.6965, 0.9979, 0.8333,\n",
      "        0.9620, 0.7089, 0.9451, 0.6955, 1.0718, 0.6977, 0.6238, 0.9990, 1.0012,\n",
      "        0.7256, 0.8618, 0.9107, 1.1282, 1.1078, 0.8041, 0.6053, 0.7550, 0.6084,\n",
      "        0.7951, 1.0718, 0.7263, 0.9805, 0.8716, 0.6792, 0.7940, 0.8716, 0.9656,\n",
      "        0.8475, 0.6056, 0.7349, 1.1706, 1.0001, 0.7180, 0.9562, 0.8854, 0.7102,\n",
      "        1.2067, 0.8849, 0.8051, 0.7194, 1.0823, 0.8094, 1.0845, 0.9817, 0.8212,\n",
      "        0.6613, 0.6241, 0.6188, 0.7556, 0.9997, 1.0268, 0.9312, 0.9412, 1.0257,\n",
      "        0.8449, 0.7813, 1.1505, 0.9705, 0.9636, 0.9099, 0.9685, 0.8966, 0.8429,\n",
      "        0.8834, 0.9483, 0.9294, 0.9010, 0.5894, 0.8901, 0.7958, 1.0553, 0.7693,\n",
      "        0.7331], requires_grad=True)\n",
      "Parameter containing:\n",
      "tensor([0.6826, 1.2619, 0.6557, 0.9791, 0.8603, 0.7949, 0.9234, 0.7106, 1.2984,\n",
      "        1.2940, 0.9827, 0.8625, 0.7681, 0.8827, 0.8599, 0.8992, 0.8645, 0.7131,\n",
      "        0.7383, 1.0424, 0.7397, 0.9165, 0.8939, 0.6534, 1.0213, 0.8349, 1.1482,\n",
      "        0.9609, 0.7031, 1.3471, 0.8916, 0.9605, 0.7971, 1.0646, 1.0911, 0.7559,\n",
      "        0.9833, 0.8650, 0.8321, 1.1424, 0.8908, 1.0281, 0.7056, 1.2175, 0.8579,\n",
      "        0.9478, 0.7888, 0.9355, 0.8734, 0.9986, 1.2907, 1.1624, 1.2398, 0.6834,\n",
      "        0.9442, 1.1030, 0.7846, 1.3638, 1.3088, 0.6354, 0.7859, 0.7660, 0.9665,\n",
      "        0.9496, 0.6907, 1.2111, 1.1276, 0.9380, 0.9017, 0.9885, 1.0738, 1.0489,\n",
      "        0.9910, 0.6469, 0.6501, 0.6671, 1.0495, 0.8720, 0.8345, 0.8213, 0.9999,\n",
      "        0.8755, 1.2127, 0.8247, 1.0726, 0.8397, 0.7132, 0.9885, 1.0960, 1.2744,\n",
      "        0.5984, 1.0392, 1.0627, 1.1455, 0.9433, 0.7707, 1.0349, 0.8770, 0.9725,\n",
      "        0.9424], requires_grad=True)\n"
     ]
    }
   ],
   "source": [
    "for conv in model.convs:\n",
    "    print(conv.alpha)"
   ]
  },
  {
   "cell_type": "code",
   "execution_count": 24,
   "id": "2cc3af9f-bcab-4217-80e3-3b22869b52a5",
   "metadata": {},
   "outputs": [
    {
     "data": {
      "text/plain": [
       "tensor([[1., 0., 0.,  ..., 0., 0., 0.],\n",
       "        [0., 1., 0.,  ..., 0., 0., 0.],\n",
       "        [0., 0., 1.,  ..., 0., 0., 0.],\n",
       "        ...,\n",
       "        [0., 0., 0.,  ..., 1., 0., 0.],\n",
       "        [0., 0., 0.,  ..., 0., 1., 0.],\n",
       "        [0., 0., 0.,  ..., 0., 0., 1.]], device='cuda:0')"
      ]
     },
     "execution_count": 24,
     "metadata": {},
     "output_type": "execute_result"
    }
   ],
   "source": [
    "val_data.x"
   ]
  },
  {
   "cell_type": "code",
   "execution_count": 15,
   "id": "613d7e48-c5ce-4c78-890a-76432bb9f947",
   "metadata": {},
   "outputs": [
    {
     "name": "stdout",
     "output_type": "stream",
     "text": [
      "Number of graphs in the dataset: 100\n",
      "Example graph: Data(x=[108, 3], edge_index=[2, 4884], y=[108])\n",
      "Epoch: 020, Loss: 1.2436, Val AUC: 0.5012, Test AUC: 0.5017\n",
      "Epoch: 040, Loss: 1.1926, Val AUC: 0.5012, Test AUC: 0.5018\n",
      "Epoch: 060, Loss: 1.1647, Val AUC: 0.5014, Test AUC: 0.5018\n",
      "Epoch: 080, Loss: 1.1799, Val AUC: 0.5016, Test AUC: 0.5018\n",
      "Epoch: 100, Loss: 1.1447, Val AUC: 0.5016, Test AUC: 0.5019\n",
      "Epoch: 120, Loss: 1.1428, Val AUC: 0.5016, Test AUC: 0.5019\n"
     ]
    },
    {
     "ename": "KeyboardInterrupt",
     "evalue": "",
     "output_type": "error",
     "traceback": [
      "\u001b[1;31m---------------------------------------------------------------------------\u001b[0m",
      "\u001b[1;31mKeyboardInterrupt\u001b[0m                         Traceback (most recent call last)",
      "Cell \u001b[1;32mIn[15], line 99\u001b[0m\n\u001b[0;32m     97\u001b[0m \u001b[38;5;66;03m# Main training loop.\u001b[39;00m\n\u001b[0;32m     98\u001b[0m \u001b[38;5;28;01mfor\u001b[39;00m epoch \u001b[38;5;129;01min\u001b[39;00m \u001b[38;5;28mrange\u001b[39m(\u001b[38;5;241m1\u001b[39m, \u001b[38;5;241m201\u001b[39m):\n\u001b[1;32m---> 99\u001b[0m     loss \u001b[38;5;241m=\u001b[39m \u001b[43mtrain\u001b[49m\u001b[43m(\u001b[49m\u001b[43m)\u001b[49m\n\u001b[0;32m    100\u001b[0m     \u001b[38;5;28;01mif\u001b[39;00m epoch \u001b[38;5;241m%\u001b[39m \u001b[38;5;241m20\u001b[39m \u001b[38;5;241m==\u001b[39m \u001b[38;5;241m0\u001b[39m:\n\u001b[0;32m    101\u001b[0m         auc_val \u001b[38;5;241m=\u001b[39m evaluate(val_loader)\n",
      "Cell \u001b[1;32mIn[15], line 66\u001b[0m, in \u001b[0;36mtrain\u001b[1;34m()\u001b[0m\n\u001b[0;32m     64\u001b[0m pos_scores \u001b[38;5;241m=\u001b[39m model\u001b[38;5;241m.\u001b[39mdecode(z, pos_edge)\n\u001b[0;32m     65\u001b[0m \u001b[38;5;66;03m# For negative sampling, sample as many negative edges as there are positive edges.\u001b[39;00m\n\u001b[1;32m---> 66\u001b[0m neg_edge \u001b[38;5;241m=\u001b[39m \u001b[43mnegative_sampling\u001b[49m\u001b[43m(\u001b[49m\n\u001b[0;32m     67\u001b[0m \u001b[43m    \u001b[49m\u001b[43medge_index\u001b[49m\u001b[38;5;241;43m=\u001b[39;49m\u001b[43mpos_edge\u001b[49m\u001b[43m,\u001b[49m\n\u001b[0;32m     68\u001b[0m \u001b[43m    \u001b[49m\u001b[43mnum_nodes\u001b[49m\u001b[38;5;241;43m=\u001b[39;49m\u001b[43mbatch\u001b[49m\u001b[38;5;241;43m.\u001b[39;49m\u001b[43mnum_nodes\u001b[49m\u001b[43m,\u001b[49m\n\u001b[0;32m     69\u001b[0m \u001b[43m    \u001b[49m\u001b[43mnum_neg_samples\u001b[49m\u001b[38;5;241;43m=\u001b[39;49m\u001b[43mpos_edge\u001b[49m\u001b[38;5;241;43m.\u001b[39;49m\u001b[43msize\u001b[49m\u001b[43m(\u001b[49m\u001b[38;5;241;43m1\u001b[39;49m\u001b[43m)\u001b[49m\n\u001b[0;32m     70\u001b[0m \u001b[43m\u001b[49m\u001b[43m)\u001b[49m\n\u001b[0;32m     71\u001b[0m neg_scores \u001b[38;5;241m=\u001b[39m model\u001b[38;5;241m.\u001b[39mdecode(z, neg_edge)\n\u001b[0;32m     72\u001b[0m \u001b[38;5;66;03m# Compute binary cross entropy loss.\u001b[39;00m\n",
      "File \u001b[1;32m~\\micromamba\\envs\\drugresearch\\lib\\site-packages\\torch_geometric\\utils\\_negative_sampling.py:102\u001b[0m, in \u001b[0;36mnegative_sampling\u001b[1;34m(edge_index, num_nodes, num_neg_samples, method, force_undirected)\u001b[0m\n\u001b[0;32m    100\u001b[0m idx \u001b[38;5;241m=\u001b[39m idx\u001b[38;5;241m.\u001b[39mto(\u001b[38;5;124m'\u001b[39m\u001b[38;5;124mcpu\u001b[39m\u001b[38;5;124m'\u001b[39m)\n\u001b[0;32m    101\u001b[0m \u001b[38;5;28;01mfor\u001b[39;00m _ \u001b[38;5;129;01min\u001b[39;00m \u001b[38;5;28mrange\u001b[39m(\u001b[38;5;241m3\u001b[39m):  \u001b[38;5;66;03m# Number of tries to sample negative indices.\u001b[39;00m\n\u001b[1;32m--> 102\u001b[0m     rnd \u001b[38;5;241m=\u001b[39m \u001b[43msample\u001b[49m\u001b[43m(\u001b[49m\u001b[43mpopulation\u001b[49m\u001b[43m,\u001b[49m\u001b[43m \u001b[49m\u001b[43msample_size\u001b[49m\u001b[43m,\u001b[49m\u001b[43m \u001b[49m\u001b[43mdevice\u001b[49m\u001b[38;5;241;43m=\u001b[39;49m\u001b[38;5;124;43m'\u001b[39;49m\u001b[38;5;124;43mcpu\u001b[39;49m\u001b[38;5;124;43m'\u001b[39;49m\u001b[43m)\u001b[49m\n\u001b[0;32m    103\u001b[0m     mask \u001b[38;5;241m=\u001b[39m np\u001b[38;5;241m.\u001b[39misin(rnd\u001b[38;5;241m.\u001b[39mnumpy(), idx\u001b[38;5;241m.\u001b[39mnumpy())  \u001b[38;5;66;03m# type: ignore\u001b[39;00m\n\u001b[0;32m    104\u001b[0m     \u001b[38;5;28;01mif\u001b[39;00m neg_idx \u001b[38;5;129;01mis\u001b[39;00m \u001b[38;5;129;01mnot\u001b[39;00m \u001b[38;5;28;01mNone\u001b[39;00m:\n",
      "File \u001b[1;32m~\\micromamba\\envs\\drugresearch\\lib\\site-packages\\torch_geometric\\utils\\_negative_sampling.py:314\u001b[0m, in \u001b[0;36msample\u001b[1;34m(population, k, device)\u001b[0m\n\u001b[0;32m    312\u001b[0m     \u001b[38;5;28;01mreturn\u001b[39;00m torch\u001b[38;5;241m.\u001b[39marange(population, device\u001b[38;5;241m=\u001b[39mdevice)\n\u001b[0;32m    313\u001b[0m \u001b[38;5;28;01melse\u001b[39;00m:\n\u001b[1;32m--> 314\u001b[0m     \u001b[38;5;28;01mreturn\u001b[39;00m torch\u001b[38;5;241m.\u001b[39mtensor(\u001b[43mrandom\u001b[49m\u001b[38;5;241;43m.\u001b[39;49m\u001b[43msample\u001b[49m\u001b[43m(\u001b[49m\u001b[38;5;28;43mrange\u001b[39;49m\u001b[43m(\u001b[49m\u001b[43mpopulation\u001b[49m\u001b[43m)\u001b[49m\u001b[43m,\u001b[49m\u001b[43m \u001b[49m\u001b[43mk\u001b[49m\u001b[43m)\u001b[49m, device\u001b[38;5;241m=\u001b[39mdevice)\n",
      "File \u001b[1;32m~\\micromamba\\envs\\drugresearch\\lib\\random.py:502\u001b[0m, in \u001b[0;36mRandom.sample\u001b[1;34m(self, population, k, counts)\u001b[0m\n\u001b[0;32m    500\u001b[0m         \u001b[38;5;28;01mwhile\u001b[39;00m j \u001b[38;5;129;01min\u001b[39;00m selected:\n\u001b[0;32m    501\u001b[0m             j \u001b[38;5;241m=\u001b[39m randbelow(n)\n\u001b[1;32m--> 502\u001b[0m         \u001b[43mselected_add\u001b[49m\u001b[43m(\u001b[49m\u001b[43mj\u001b[49m\u001b[43m)\u001b[49m\n\u001b[0;32m    503\u001b[0m         result[i] \u001b[38;5;241m=\u001b[39m population[j]\n\u001b[0;32m    504\u001b[0m \u001b[38;5;28;01mreturn\u001b[39;00m result\n",
      "\u001b[1;31mKeyboardInterrupt\u001b[0m: "
     ]
    }
   ],
   "source": []
  },
  {
   "cell_type": "code",
   "execution_count": 10,
   "id": "24a54042-a622-452b-a74a-e20e1dfcc2b7",
   "metadata": {},
   "outputs": [
    {
     "ename": "NameError",
     "evalue": "name 'batch' is not defined",
     "output_type": "error",
     "traceback": [
      "\u001b[1;31m---------------------------------------------------------------------------\u001b[0m",
      "\u001b[1;31mNameError\u001b[0m                                 Traceback (most recent call last)",
      "Cell \u001b[1;32mIn[10], line 1\u001b[0m\n\u001b[1;32m----> 1\u001b[0m \u001b[43mbatch\u001b[49m\n",
      "\u001b[1;31mNameError\u001b[0m: name 'batch' is not defined"
     ]
    }
   ],
   "source": [
    "batch"
   ]
  },
  {
   "cell_type": "code",
   "execution_count": null,
   "id": "02b5bdc7-c5a7-4084-90e2-e9f64aa0a739",
   "metadata": {},
   "outputs": [],
   "source": []
  }
 ],
 "metadata": {
  "kernelspec": {
   "display_name": "Python 3 (ipykernel)",
   "language": "python",
   "name": "python3"
  },
  "language_info": {
   "codemirror_mode": {
    "name": "ipython",
    "version": 3
   },
   "file_extension": ".py",
   "mimetype": "text/x-python",
   "name": "python",
   "nbconvert_exporter": "python",
   "pygments_lexer": "ipython3",
   "version": "3.10.13"
  }
 },
 "nbformat": 4,
 "nbformat_minor": 5
}
